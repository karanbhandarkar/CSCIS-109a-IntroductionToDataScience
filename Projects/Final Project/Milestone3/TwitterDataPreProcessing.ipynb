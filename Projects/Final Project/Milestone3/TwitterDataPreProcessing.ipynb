{
 "cells": [
  {
   "cell_type": "markdown",
   "metadata": {},
   "source": [
    "## S-109A Milestone 3"
   ]
  },
  {
   "cell_type": "markdown",
   "metadata": {},
   "source": [
    "## Twitter Bot Detection Pre Processing\n",
    "\n",
    "**Summer 2018**<br>\n",
    "**Contributers:** Vivek Mishra and Karan Bhandarkar\n"
   ]
  },
  {
   "cell_type": "markdown",
   "metadata": {},
   "source": [
    "import tweepy\n",
    "\n",
    "auth = tweepy.AppAuthHandler(\"J2MIKx3BXACA5zK1bdM1uuZyy\", \"0HBek6qLr2PV1I5gDiUlZCu3EcYAmnvVMOrtYbqqKAl7ob7wg7\")\n",
    "api = tweepy.API(auth, wait_on_rate_limit=True, wait_on_rate_limit_notify=True)\n",
    " \n",
    "if (not api):\n",
    "    print (\"Can't Authenticate\")\n",
    "    sys.exit(-1)"
   ]
  },
  {
   "cell_type": "code",
   "execution_count": 2,
   "metadata": {},
   "outputs": [],
   "source": [
    "import sys\n",
    "import jsonpickle\n",
    "import os\n",
    "import json"
   ]
  },
  {
   "cell_type": "markdown",
   "metadata": {},
   "source": [
    "<HR>\n",
    "Below accounts were selected after manual exploration.\n",
    "    "
   ]
  },
  {
   "cell_type": "code",
   "execution_count": 3,
   "metadata": {},
   "outputs": [],
   "source": [
    "nonbot_accounts = ['PeterLBrandt','charliebilello','lisaabramowicz1','morganhousel','iancassel','SteveStuWill','nytimes','fundstrat','michaelbatnick','BrentBeshore','sentimentrader','SoberLook','CliffordAsness','EpsilonTheory','StockCats','HayekAndKeynes','awealthofcs','DegenRolf','ukarlewitz','vexmark','LizAnnSonders','RyanDetrick','CNBCFastMoney','patrick_oshag','KimbleCharting','M_C_Klein','robinhanson','izakaminska','MebFaber','caroljsroth','hussmanjp','CryptOrca','jfahmy','srussolillo','markminervini','McClellanOsc','dailydirtnap','CitronResearch','alphaarchitect','steenbab','RitholtzWealth','SJosephBurns','Jboorman','alphatrends','jessefelder','MarkNewtonCMT','cullenroche','RampCapitalLLC','Spencerjakab','QTRResearch']\n",
    "bot_accounts = ['FintechBot','CATargetBot','InvestorNewsBot','FxTradingBot','pfdbot','cmcal_bot','netflix_bot','oliviataters','DearAssistant','reverseocr','MuseumBot','pentametron','DFRLab','sunneversets100','BlackManTrump','ProletStrivings','every1bets','cyberage','CyberAgeonline','stoneblack18','SanJacintoClan','Horse_ebooks','thatisabot','tinycarebot','thinkpiecebot','EmojiAquarium','0578K','0cNAmS2t0jncEjp','14ca3911ca384a1','1jedi2','2105nagao','24TRIBE_3951','2_Raaaays','2l00l5','305_shahd','365GettinIt','3838mckrl','3marr_1112','3roOpal5aja','3washy93ali','418Beauty93','48group_love','4Toaru','63Felixsilva','6in_gun_single','AFacts4You','AKAsuekun','AKHTYSSD','ALTLENE_bot','AlfredoNizmih']"
   ]
  },
  {
   "cell_type": "markdown",
   "metadata": {},
   "source": [
    "<HR>\n",
    "Retrieve account details for the selected bot and non-bot accounts.    "
   ]
  },
  {
   "cell_type": "code",
   "execution_count": 5,
   "metadata": {},
   "outputs": [
    {
     "name": "stdout",
     "output_type": "stream",
     "text": [
      "account_details.json created.\n"
     ]
    }
   ],
   "source": [
    "'''\n",
    "Create an account details data set of 50 bot and 50 non bot accounts.\n",
    "'''\n",
    "with open('data/account_details.json', 'w', encoding='utf-8') as f:\n",
    "\n",
    "    for account in bot_accounts:\n",
    "        try:\n",
    "            user_object = api.get_user(screen_name=account)\n",
    "            user = user_object._json\n",
    "            user['isBot'] = 1\n",
    "            \n",
    "            json.dump(user, f)\n",
    "            f.write('\\n')\n",
    "        except Exception as e:\n",
    "            print('Error for bot account: {0}. Message: {1}'.format(account, str(e)))\n",
    "    \n",
    "    for account in nonbot_accounts:\n",
    "        try:\n",
    "            user_object = api.get_user(screen_name=account)\n",
    "            user = user_object._json\n",
    "            user['isBot'] = 0\n",
    "            \n",
    "            json.dump(user, f)\n",
    "            f.write('\\n')\n",
    "        except Exception as e:\n",
    "            print('Error for non-bot account: {0}. Message: {1}'.format(account, str(e)))\n",
    "\n",
    "print('account_details.json created.')"
   ]
  },
  {
   "cell_type": "markdown",
   "metadata": {},
   "source": [
    "<HR>\n",
    "Retrieve tweets for the user accounts selected.    "
   ]
  },
  {
   "cell_type": "code",
   "execution_count": 6,
   "metadata": {},
   "outputs": [
    {
     "name": "stdout",
     "output_type": "stream",
     "text": [
      "tweets.json created.\n"
     ]
    }
   ],
   "source": [
    "'''\n",
    "Create a tweets library of these accounts.\n",
    "'''\n",
    "with open('data/tweets.json', 'w', encoding='utf-8') as f:\n",
    "\n",
    "    for account in bot_accounts:\n",
    "        try:\n",
    "            new_tweets = api.user_timeline(screen_name=account, count=200, include_rts = False, exclude_replies= True, tweet_mode=\"extended\")\n",
    "            for tweet_object in new_tweets:\n",
    "                tweet = tweet_object._json\n",
    "                tweet['name'] = account\n",
    "                tweet['isBot'] = 1\n",
    "                json.dump(tweet, f)\n",
    "                f.write('\\n')\n",
    "        except Exception as e:\n",
    "            print('Error for bot account: {0}. Message: {1}'.format(account, str(e)))\n",
    "    \n",
    "    for account in nonbot_accounts:\n",
    "        try:\n",
    "            new_tweets = api.user_timeline(screen_name=account, count=200, include_rts = False, exclude_replies= True, tweet_mode=\"extended\")\n",
    "            for tweet_object in new_tweets:\n",
    "                tweet = tweet_object._json\n",
    "                tweet['name'] = account\n",
    "                tweet['isBot'] = 0\n",
    "                json.dump(tweet, f)\n",
    "                f.write('\\n')\n",
    "        except Exception as e:\n",
    "            print('Error for non-bot account: {0}. Message: {1}'.format(account, str(e)))   \n",
    "print('tweets.json created.')\n"
   ]
  },
  {
   "cell_type": "code",
   "execution_count": null,
   "metadata": {},
   "outputs": [],
   "source": []
  }
 ],
 "metadata": {
  "kernelspec": {
   "display_name": "Python 3",
   "language": "python",
   "name": "python3"
  },
  "language_info": {
   "codemirror_mode": {
    "name": "ipython",
    "version": 3
   },
   "file_extension": ".py",
   "mimetype": "text/x-python",
   "name": "python",
   "nbconvert_exporter": "python",
   "pygments_lexer": "ipython3",
   "version": "3.6.4"
  }
 },
 "nbformat": 4,
 "nbformat_minor": 2
}
