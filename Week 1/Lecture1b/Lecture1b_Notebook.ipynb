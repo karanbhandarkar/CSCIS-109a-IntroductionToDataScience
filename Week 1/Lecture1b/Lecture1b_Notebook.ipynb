{
 "cells": [
  {
   "cell_type": "code",
   "execution_count": null,
   "metadata": {
    "collapsed": true
   },
   "outputs": [],
   "source": [
    "import pandas as pd\n",
    "import sys\n",
    "import numpy as np\n",
    "import scipy as sp\n",
    "import matplotlib.pyplot as plt\n",
    "from math import radians, cos, sin, asin, sqrt\n",
    "import datetime\n",
    "from sklearn.linear_model import LinearRegression\n",
    "import seaborn as sns\n",
    "sns.set(style=\"ticks\")\n",
    "%matplotlib inline\n"
   ]
  },
  {
   "cell_type": "markdown",
   "metadata": {},
   "source": [
    "Download the data from \n",
    "\n",
    "https://drive.google.com/open?id=0B28c493CP9GtMzN1emFoMkJNNlU\n"
   ]
  },
  {
   "cell_type": "markdown",
   "metadata": {},
   "source": [
    "# First Look At The Data"
   ]
  },
  {
   "cell_type": "code",
   "execution_count": null,
   "metadata": {},
   "outputs": [],
   "source": [
    "hubway_data = pd.read_csv('hubway_trips.csv', low_memory=False)\n",
    "hubway_data.head()"
   ]
  },
  {
   "cell_type": "markdown",
   "metadata": {},
   "source": [
    "---"
   ]
  },
  {
   "cell_type": "markdown",
   "metadata": {},
   "source": [
    "# A little data manipulation"
   ]
  },
  {
   "cell_type": "code",
   "execution_count": null,
   "metadata": {
    "collapsed": true
   },
   "outputs": [],
   "source": [
    "check_out_year = hubway_data['start_date'].apply(lambda s: int(s[-13:-9]))\n",
    "age_col = (check_out_year - hubway_data['birth_date'])"
   ]
  },
  {
   "cell_type": "code",
   "execution_count": null,
   "metadata": {},
   "outputs": [],
   "source": [
    "#And now for our first plot: a histogram of ages\n",
    "plt.hist(age_col.dropna())\n",
    "plt.title('Histogram of User Ages by Checkout')\n",
    "plt.xlabel('Age in years')\n",
    "plt.ylabel('Number of Checkouts')\n",
    "plt.axvline(x=np.mean(age_col.dropna()), color='red', label='Average Age')\n",
    "plt.legend()\n",
    "plt.show()\n"
   ]
  },
  {
   "cell_type": "code",
   "execution_count": null,
   "metadata": {},
   "outputs": [],
   "source": [
    "#And now for a second plot: scatter plot of age \n",
    "plt.scatter(age_col,hubway_data.duration)\n",
    "plt.title('Scatter plot of Duration by User Ages')\n",
    "plt.xlabel('Age in years')\n",
    "plt.ylabel('Duration (in seconds)')\n",
    "#plt.yscale('log')\n",
    "plt.show()"
   ]
  },
  {
   "cell_type": "code",
   "execution_count": null,
   "metadata": {},
   "outputs": [],
   "source": [
    "#let's look at some subgroups\n",
    "print(np.unique(hubway_data.subsc_type,return_counts=True))"
   ]
  },
  {
   "cell_type": "code",
   "execution_count": null,
   "metadata": {},
   "outputs": [],
   "source": [
    "#And now for a plot of histograms across registration type\n",
    "duration_registered = (hubway_data.duration[hubway_data.subsc_type == 'Registered'])\n",
    "duration_casual = (hubway_data.duration[hubway_data.subsc_type == 'Casual'])\n",
    "\n",
    "print(np.mean(duration_registered))\n",
    "print(np.mean(duration_casual))\n",
    "\n",
    "logduration_registered = np.log(duration_registered+1)\n",
    "logduration_casual = np.log(duration_casual+1)\n",
    "\n",
    "plt.hist(logduration_registered.dropna(), alpha=.5, bins=30)\n",
    "plt.hist(logduration_casual.dropna(), alpha=.5, bins=30)\n",
    "\n",
    "#plt.hist(duration_registered.dropna()+1, alpha=.5)\n",
    "#plt.hist(duration_casual.dropna()+1, alpha=.5)\n",
    "plt.title('Histograms of duration split by Checkouts')\n",
    "plt.xlabel('Duration (in log(seconds))')\n",
    "plt.ylabel('Number of Checkouts')\n",
    "#plt.xscale('log')\n",
    "\n",
    "plt.show()"
   ]
  },
  {
   "cell_type": "code",
   "execution_count": null,
   "metadata": {
    "collapsed": true
   },
   "outputs": [],
   "source": []
  }
 ],
 "metadata": {
  "anaconda-cloud": {},
  "kernelspec": {
   "display_name": "Python 3",
   "language": "python",
   "name": "python3"
  },
  "language_info": {
   "codemirror_mode": {
    "name": "ipython",
    "version": 3
   },
   "file_extension": ".py",
   "mimetype": "text/x-python",
   "name": "python",
   "nbconvert_exporter": "python",
   "pygments_lexer": "ipython3",
   "version": "3.6.1"
  }
 },
 "nbformat": 4,
 "nbformat_minor": 1
}
