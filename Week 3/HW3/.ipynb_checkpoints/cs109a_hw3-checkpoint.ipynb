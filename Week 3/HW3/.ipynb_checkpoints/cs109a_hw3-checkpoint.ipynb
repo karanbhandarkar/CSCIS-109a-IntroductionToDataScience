{
 "cells": [
  {
   "cell_type": "markdown",
   "metadata": {},
   "source": [
    "# <img style=\"float: left; padding-right: 10px; width: 45px\" src=\"fig/iacs.png\"> S-109A Introduction to Data Science \n",
    "## Homework 3 - Forecasting Bike Sharing Usage\n",
    "\n",
    "\n",
    "\n",
    "**Harvard University**<br/>\n",
    "**Summer 2018**<br/>\n",
    "**Instructors**: Pavlos Protopapas, Kevin Rader\n",
    "\n",
    "<hr style=\"height:2pt\">"
   ]
  },
  {
   "cell_type": "markdown",
   "metadata": {},
   "source": [
    "### INSTRUCTIONS\n",
    "\n",
    "- To submit your assignment follow the instructions given in canvas.\n",
    "- Restart the kernel and run the whole notebook again before you submit. \n",
    "- If you submit individually and you have worked with someone, please include the name of your [one] partner below. \n",
    "\n",
    "Names of people you have worked with goes here: \n",
    "\n",
    "<hr style=\"height:2pt\">"
   ]
  },
  {
   "cell_type": "code",
   "execution_count": 1,
   "metadata": {},
   "outputs": [
    {
     "data": {
      "text/html": [
       "<style>\n",
       "h1 { \n",
       "    padding-top: 25px;\n",
       "    padding-bottom: 25px;\n",
       "    text-align: left; \n",
       "    padding-left: 10px;\n",
       "    background-color: #DDDDDD; \n",
       "    color: black;\n",
       "}\n",
       "div.exercise {\n",
       "\tbackground-color: #ffcccc;\n",
       "\tborder-color: #E9967A; \t\n",
       "\tborder-left: 5px solid #800080; \n",
       "\tpadding: 0.5em;\n",
       "}\n",
       "div.theme {\n",
       "\tbackground-color: #DDDDDD;\n",
       "\tborder-color: #E9967A; \t\n",
       "\tborder-left: 5px solid #800080; \n",
       "\tpadding: 0.5em;\n",
       "\tfont-size: 18pt;\n",
       "}\n",
       "p.q1 { \n",
       "    padding-top: 5px;\n",
       "    padding-bottom: 5px;\n",
       "    text-align: left; \n",
       "    padding-left: 5px;\n",
       "    background-color: #EEEEEE; \n",
       "    color: black;\n",
       "}\n",
       "header {\n",
       "   padding-top: 35px;\n",
       "    padding-bottom: 35px;\n",
       "    text-align: left; \n",
       "    padding-left: 10px;\n",
       "    background-color: #DDDDDD; \n",
       "    color: black;\n",
       "}\n",
       "</style>\n",
       "\n"
      ],
      "text/plain": [
       "<IPython.core.display.HTML object>"
      ]
     },
     "execution_count": 1,
     "metadata": {},
     "output_type": "execute_result"
    }
   ],
   "source": [
    "from IPython.core.display import HTML\n",
    "def css_styling(): styles = open(\"cs109.css\", \"r\").read(); return HTML(styles)\n",
    "css_styling()"
   ]
  },
  {
   "cell_type": "markdown",
   "metadata": {},
   "source": [
    "![bike_sharing](fig/BSS.png)\n",
    "\n",
    "<div class=\"theme\">  Main Theme: Multiple Linear Regression, Subset Selection, Polynomial Regression </div>\n",
    "### Overview \n",
    "\n",
    "You are hired by the administrators of the [Capital Bikeshare program](https://www.capitalbikeshare.com) program in Washington D.C., to **help them predict the hourly demand for rental bikes** and **give them suggestions on how to increase their revenue**. You will prepare a small report for them.\n",
    "\n",
    "The hourly demand information would be useful in planning the number of bikes that need to be available in the system on any given hour of the day, and also in monitoring traffic in the city. It costs the program money if bike stations are full and bikes cannot be returned, or empty and there are no bikes available. You will use multiple linear regression and polynomial regression and will explore techniques for subset selection. The goal is to build a regression model that can predict the total number of bike rentals in a given hour of the day, based on attributes about the hour and the day. \n",
    "\n",
    "An example of a suggestion to increase revenue might be to offer discounts during certain times of the day either during holidays or non-holidays. Your suggestions will depend on your observations of the seasonality of ridership.\n",
    "\n",
    "The data for this problem were collected from the Capital Bikeshare program over the course of two years (2011 and 2012).\n"
   ]
  },
  {
   "cell_type": "markdown",
   "metadata": {},
   "source": [
    "### Use only the libraries below:"
   ]
  },
  {
   "cell_type": "code",
   "execution_count": 2,
   "metadata": {},
   "outputs": [],
   "source": [
    "import numpy as np\n",
    "import pandas as pd\n",
    "import matplotlib\n",
    "import matplotlib.pyplot as plt\n",
    "\n",
    "import statsmodels.api as sm\n",
    "from statsmodels.api import OLS\n",
    "\n",
    "from sklearn import preprocessing\n",
    "from sklearn.preprocessing import PolynomialFeatures\n",
    "from sklearn.metrics import r2_score\n",
    "from sklearn.model_selection import train_test_split\n",
    "\n",
    "from pandas.plotting import scatter_matrix\n",
    "\n",
    "import seaborn as sns\n",
    "\n",
    "\n",
    "%matplotlib inline"
   ]
  },
  {
   "cell_type": "markdown",
   "metadata": {},
   "source": [
    "## Data Exploration & Preprocessing, Multiple Linear Regression, Subset Selection\n"
   ]
  },
  {
   "cell_type": "markdown",
   "metadata": {},
   "source": [
    "### Overview\n",
    "The initial data set is provided in the file `data/BSS_hour_raw.csv`. You will add some features that will help us with the analysis and then separate it into training and test sets. Each row in this file contains 12 attributes and each entry represents one hour of a 24-hour day with its weather, etc, and the number of rental rides for that day divided in categories according to if they were made by registered or casual riders. Those attributes are the following:\n",
    "\n",
    "- `dteday` (date in the format YYYY-MM-DD, e.g. 2011-01-01)\n",
    "- `season` (1 = winter, 2 = spring, 3 = summer, 4 = fall)\n",
    "- `hour` (0 for 12 midnight, 1 for 1:00am, 23 for 11:00pm)\n",
    "- `weekday` (0 through 6, with 0 denoting Sunday)\n",
    "- `holiday` (1 = the day is a holiday, 0 = otherwise)\n",
    "- `weather`\n",
    "    - 1: Clear, Few clouds, Partly cloudy, Partly cloudy\n",
    "    - 2: Mist + Cloudy, Mist + Broken clouds, Mist + Few clouds, Mist\n",
    "    - 3: Light Snow, Light Rain + Thunderstorm\n",
    "    - 4: Heavy Rain + Thunderstorm + Mist, Snow + Fog \n",
    "- `temp` (temperature in Celsius)\n",
    "- `atemp` (apparent temperature, or relative outdoor temperature, in Celsius)\n",
    "- `hum` (relative humidity)\n",
    "- `windspeed` (wind speed)\n",
    "- `casual` (number of rides that day made by casual riders, not registered in the system)\n",
    "- `registered` (number of rides that day made by registered riders)"
   ]
  },
  {
   "cell_type": "markdown",
   "metadata": {},
   "source": [
    "### General Hints\n",
    "- Use pandas .describe() to see statistics for the dataset.\n",
    "- When performing manipulations on column data it is useful and often more efficient to write a function and apply this function to the column as a whole without the need for iterating through the elements.\n",
    "- A scatterplot matrix or correlation matrix are both good ways to see dependencies between multiple variables.\n",
    "- For Question 2, a very useful pandas method is .groupby(). Make sure you aggregate the rest of the columns in a meaningful way. Print the dataframe to make sure all variables/columns are there!\n",
    "\n",
    "### Resources \n",
    "http://pandas.pydata.org/pandas-docs/stable/generated/pandas.to_datetime.html"
   ]
  },
  {
   "cell_type": "markdown",
   "metadata": {},
   "source": [
    "<div class=\"exercise\"> <b> Question 1: Explore how Bike Ridership varies with Hour of the Day </b> </div>\n",
    "\n",
    "#### Learn your Domain and Perform a bit of Feature Engineering\n",
    "\n",
    "**1.1** Load the dataset from the csv file `data/BSS_hour_raw.csv` into a pandas dataframe that you name `bikes_df`. Do any of the variables' ranges or averages seem suspect? Do the data types make sense?\n",
    "\n",
    "**1.2** Notice that the variable in column `dteday` is a pandas `object`, which is **not**  useful when you want to extract the elements of the date such as the year, month, and day. Convert `dteday` into a `datetime` object to prepare it for later analysis.\n",
    "\n",
    "**1.3** Create three new columns in the dataframe:\n",
    "- `year` with 0 for 2011 and 1 for 2012.\n",
    "- `month` with 1 through 12, with 1 denoting Jan. \n",
    "- `counts` with the total number of bike rentals for that day (this is the response variable for later).\n",
    "\n",
    "**1.4** Use visualization to inspect and comment on how **casual** rentals and **registered** rentals vary with the `hour`. \n",
    "\n",
    "**1.5** Use the variable `holiday` to show how **holidays** affect the relationship in question 1.4.  What do you observe? \n",
    "\n",
    "**1.6** Use visualization to show how **weather** affects **casual** and **registered** rentals. What do you observe? "
   ]
  },
  {
   "cell_type": "markdown",
   "metadata": {},
   "source": [
    "### Answers"
   ]
  },
  {
   "cell_type": "markdown",
   "metadata": {},
   "source": [
    "#### 1.1 Load the dataset from the csv file  ..."
   ]
  },
  {
   "cell_type": "code",
   "execution_count": 16,
   "metadata": {},
   "outputs": [
    {
     "data": {
      "text/html": [
       "<div>\n",
       "<style scoped>\n",
       "    .dataframe tbody tr th:only-of-type {\n",
       "        vertical-align: middle;\n",
       "    }\n",
       "\n",
       "    .dataframe tbody tr th {\n",
       "        vertical-align: top;\n",
       "    }\n",
       "\n",
       "    .dataframe thead th {\n",
       "        text-align: right;\n",
       "    }\n",
       "</style>\n",
       "<table border=\"1\" class=\"dataframe\">\n",
       "  <thead>\n",
       "    <tr style=\"text-align: right;\">\n",
       "      <th></th>\n",
       "      <th>season</th>\n",
       "      <th>hour</th>\n",
       "      <th>holiday</th>\n",
       "      <th>weekday</th>\n",
       "      <th>workingday</th>\n",
       "      <th>weather</th>\n",
       "      <th>temp</th>\n",
       "      <th>atemp</th>\n",
       "      <th>hum</th>\n",
       "      <th>windspeed</th>\n",
       "      <th>casual</th>\n",
       "      <th>registered</th>\n",
       "    </tr>\n",
       "  </thead>\n",
       "  <tbody>\n",
       "    <tr>\n",
       "      <th>count</th>\n",
       "      <td>17379.000000</td>\n",
       "      <td>17379.000000</td>\n",
       "      <td>17379.000000</td>\n",
       "      <td>17379.000000</td>\n",
       "      <td>17379.000000</td>\n",
       "      <td>17379.000000</td>\n",
       "      <td>17379.000000</td>\n",
       "      <td>17379.000000</td>\n",
       "      <td>17379.000000</td>\n",
       "      <td>17379.000000</td>\n",
       "      <td>17379.000000</td>\n",
       "      <td>17379.000000</td>\n",
       "    </tr>\n",
       "    <tr>\n",
       "      <th>mean</th>\n",
       "      <td>2.501640</td>\n",
       "      <td>11.546752</td>\n",
       "      <td>0.028770</td>\n",
       "      <td>3.003683</td>\n",
       "      <td>0.682721</td>\n",
       "      <td>1.425283</td>\n",
       "      <td>0.496987</td>\n",
       "      <td>0.475775</td>\n",
       "      <td>0.627229</td>\n",
       "      <td>0.190098</td>\n",
       "      <td>35.676218</td>\n",
       "      <td>153.786869</td>\n",
       "    </tr>\n",
       "    <tr>\n",
       "      <th>std</th>\n",
       "      <td>1.106918</td>\n",
       "      <td>6.914405</td>\n",
       "      <td>0.167165</td>\n",
       "      <td>2.005771</td>\n",
       "      <td>0.465431</td>\n",
       "      <td>0.639357</td>\n",
       "      <td>0.192556</td>\n",
       "      <td>0.171850</td>\n",
       "      <td>0.192930</td>\n",
       "      <td>0.122340</td>\n",
       "      <td>49.305030</td>\n",
       "      <td>151.357286</td>\n",
       "    </tr>\n",
       "    <tr>\n",
       "      <th>min</th>\n",
       "      <td>1.000000</td>\n",
       "      <td>0.000000</td>\n",
       "      <td>0.000000</td>\n",
       "      <td>0.000000</td>\n",
       "      <td>0.000000</td>\n",
       "      <td>1.000000</td>\n",
       "      <td>0.020000</td>\n",
       "      <td>0.000000</td>\n",
       "      <td>0.000000</td>\n",
       "      <td>0.000000</td>\n",
       "      <td>0.000000</td>\n",
       "      <td>0.000000</td>\n",
       "    </tr>\n",
       "    <tr>\n",
       "      <th>25%</th>\n",
       "      <td>2.000000</td>\n",
       "      <td>6.000000</td>\n",
       "      <td>0.000000</td>\n",
       "      <td>1.000000</td>\n",
       "      <td>0.000000</td>\n",
       "      <td>1.000000</td>\n",
       "      <td>0.340000</td>\n",
       "      <td>0.333300</td>\n",
       "      <td>0.480000</td>\n",
       "      <td>0.104500</td>\n",
       "      <td>4.000000</td>\n",
       "      <td>34.000000</td>\n",
       "    </tr>\n",
       "    <tr>\n",
       "      <th>50%</th>\n",
       "      <td>3.000000</td>\n",
       "      <td>12.000000</td>\n",
       "      <td>0.000000</td>\n",
       "      <td>3.000000</td>\n",
       "      <td>1.000000</td>\n",
       "      <td>1.000000</td>\n",
       "      <td>0.500000</td>\n",
       "      <td>0.484800</td>\n",
       "      <td>0.630000</td>\n",
       "      <td>0.194000</td>\n",
       "      <td>17.000000</td>\n",
       "      <td>115.000000</td>\n",
       "    </tr>\n",
       "    <tr>\n",
       "      <th>75%</th>\n",
       "      <td>3.000000</td>\n",
       "      <td>18.000000</td>\n",
       "      <td>0.000000</td>\n",
       "      <td>5.000000</td>\n",
       "      <td>1.000000</td>\n",
       "      <td>2.000000</td>\n",
       "      <td>0.660000</td>\n",
       "      <td>0.621200</td>\n",
       "      <td>0.780000</td>\n",
       "      <td>0.253700</td>\n",
       "      <td>48.000000</td>\n",
       "      <td>220.000000</td>\n",
       "    </tr>\n",
       "    <tr>\n",
       "      <th>max</th>\n",
       "      <td>4.000000</td>\n",
       "      <td>23.000000</td>\n",
       "      <td>1.000000</td>\n",
       "      <td>6.000000</td>\n",
       "      <td>1.000000</td>\n",
       "      <td>4.000000</td>\n",
       "      <td>1.000000</td>\n",
       "      <td>1.000000</td>\n",
       "      <td>1.000000</td>\n",
       "      <td>0.850700</td>\n",
       "      <td>367.000000</td>\n",
       "      <td>886.000000</td>\n",
       "    </tr>\n",
       "  </tbody>\n",
       "</table>\n",
       "</div>"
      ],
      "text/plain": [
       "             season          hour       holiday       weekday    workingday  \\\n",
       "count  17379.000000  17379.000000  17379.000000  17379.000000  17379.000000   \n",
       "mean       2.501640     11.546752      0.028770      3.003683      0.682721   \n",
       "std        1.106918      6.914405      0.167165      2.005771      0.465431   \n",
       "min        1.000000      0.000000      0.000000      0.000000      0.000000   \n",
       "25%        2.000000      6.000000      0.000000      1.000000      0.000000   \n",
       "50%        3.000000     12.000000      0.000000      3.000000      1.000000   \n",
       "75%        3.000000     18.000000      0.000000      5.000000      1.000000   \n",
       "max        4.000000     23.000000      1.000000      6.000000      1.000000   \n",
       "\n",
       "            weather          temp         atemp           hum     windspeed  \\\n",
       "count  17379.000000  17379.000000  17379.000000  17379.000000  17379.000000   \n",
       "mean       1.425283      0.496987      0.475775      0.627229      0.190098   \n",
       "std        0.639357      0.192556      0.171850      0.192930      0.122340   \n",
       "min        1.000000      0.020000      0.000000      0.000000      0.000000   \n",
       "25%        1.000000      0.340000      0.333300      0.480000      0.104500   \n",
       "50%        1.000000      0.500000      0.484800      0.630000      0.194000   \n",
       "75%        2.000000      0.660000      0.621200      0.780000      0.253700   \n",
       "max        4.000000      1.000000      1.000000      1.000000      0.850700   \n",
       "\n",
       "             casual    registered  \n",
       "count  17379.000000  17379.000000  \n",
       "mean      35.676218    153.786869  \n",
       "std       49.305030    151.357286  \n",
       "min        0.000000      0.000000  \n",
       "25%        4.000000     34.000000  \n",
       "50%       17.000000    115.000000  \n",
       "75%       48.000000    220.000000  \n",
       "max      367.000000    886.000000  "
      ]
     },
     "execution_count": 16,
     "metadata": {},
     "output_type": "execute_result"
    }
   ],
   "source": [
    "# your code here\n",
    "'''\n",
    "Load the dataset from the csv file data/BSS_hour_raw.csv into a pandas dataframe that you name bikes_df. \n",
    "Do any of the variables' ranges or averages seem suspect? \n",
    "Do the data types make sense?\n",
    "'''\n",
    "bikes_df = pd.read_csv(\"data/BSS_hour_raw.csv\")\n",
    "bikes_df.describe()\n"
   ]
  },
  {
   "cell_type": "markdown",
   "metadata": {},
   "source": [
    "<HR>\n",
    "    The temp and atemp variables seem suspect. Since they are temperatures in celsius, the range of 0 to 1 does not really make sense.\n",
    "<HR>"
   ]
  },
  {
   "cell_type": "code",
   "execution_count": 18,
   "metadata": {},
   "outputs": [
    {
     "data": {
      "text/plain": [
       "dteday         object\n",
       "season          int64\n",
       "hour            int64\n",
       "holiday         int64\n",
       "weekday         int64\n",
       "workingday      int64\n",
       "weather         int64\n",
       "temp          float64\n",
       "atemp         float64\n",
       "hum           float64\n",
       "windspeed     float64\n",
       "casual          int64\n",
       "registered      int64\n",
       "dtype: object"
      ]
     },
     "execution_count": 18,
     "metadata": {},
     "output_type": "execute_result"
    }
   ],
   "source": [
    "bikes_df.dtypes"
   ]
  },
  {
   "cell_type": "markdown",
   "metadata": {},
   "source": [
    "<HR>\n",
    "    The datatypes seem fine, except for the dteday column which is an object. \n",
    "<HR>"
   ]
  },
  {
   "cell_type": "markdown",
   "metadata": {},
   "source": [
    "#### 1.2 Notice that the variable in column ...."
   ]
  },
  {
   "cell_type": "code",
   "execution_count": 23,
   "metadata": {},
   "outputs": [
    {
     "data": {
      "text/plain": [
       "dteday        datetime64[ns]\n",
       "season                 int64\n",
       "hour                   int64\n",
       "holiday                int64\n",
       "weekday                int64\n",
       "workingday             int64\n",
       "weather                int64\n",
       "temp                 float64\n",
       "atemp                float64\n",
       "hum                  float64\n",
       "windspeed            float64\n",
       "casual                 int64\n",
       "registered             int64\n",
       "dtype: object"
      ]
     },
     "execution_count": 23,
     "metadata": {},
     "output_type": "execute_result"
    }
   ],
   "source": [
    "# your code here\n",
    "bikes_df['dteday'] = pd.to_datetime(bikes_df['dteday'])\n",
    "bikes_df.dtypes"
   ]
  },
  {
   "cell_type": "markdown",
   "metadata": {},
   "source": [
    "#### 1.3 Create three new columns ..."
   ]
  },
  {
   "cell_type": "code",
   "execution_count": 53,
   "metadata": {},
   "outputs": [
    {
     "data": {
      "text/html": [
       "<div>\n",
       "<style scoped>\n",
       "    .dataframe tbody tr th:only-of-type {\n",
       "        vertical-align: middle;\n",
       "    }\n",
       "\n",
       "    .dataframe tbody tr th {\n",
       "        vertical-align: top;\n",
       "    }\n",
       "\n",
       "    .dataframe thead th {\n",
       "        text-align: right;\n",
       "    }\n",
       "</style>\n",
       "<table border=\"1\" class=\"dataframe\">\n",
       "  <thead>\n",
       "    <tr style=\"text-align: right;\">\n",
       "      <th></th>\n",
       "      <th>dteday</th>\n",
       "      <th>season</th>\n",
       "      <th>hour</th>\n",
       "      <th>holiday</th>\n",
       "      <th>weekday</th>\n",
       "      <th>workingday</th>\n",
       "      <th>weather</th>\n",
       "      <th>temp</th>\n",
       "      <th>atemp</th>\n",
       "      <th>hum</th>\n",
       "      <th>windspeed</th>\n",
       "      <th>casual</th>\n",
       "      <th>registered</th>\n",
       "      <th>year</th>\n",
       "      <th>month</th>\n",
       "      <th>counts</th>\n",
       "    </tr>\n",
       "  </thead>\n",
       "  <tbody>\n",
       "    <tr>\n",
       "      <th>0</th>\n",
       "      <td>2011-01-01</td>\n",
       "      <td>1</td>\n",
       "      <td>0</td>\n",
       "      <td>0</td>\n",
       "      <td>6</td>\n",
       "      <td>0</td>\n",
       "      <td>1</td>\n",
       "      <td>0.24</td>\n",
       "      <td>0.2879</td>\n",
       "      <td>0.81</td>\n",
       "      <td>0.0</td>\n",
       "      <td>3</td>\n",
       "      <td>13</td>\n",
       "      <td>0</td>\n",
       "      <td>1</td>\n",
       "      <td>16</td>\n",
       "    </tr>\n",
       "    <tr>\n",
       "      <th>1</th>\n",
       "      <td>2011-01-01</td>\n",
       "      <td>1</td>\n",
       "      <td>1</td>\n",
       "      <td>0</td>\n",
       "      <td>6</td>\n",
       "      <td>0</td>\n",
       "      <td>1</td>\n",
       "      <td>0.22</td>\n",
       "      <td>0.2727</td>\n",
       "      <td>0.80</td>\n",
       "      <td>0.0</td>\n",
       "      <td>8</td>\n",
       "      <td>32</td>\n",
       "      <td>0</td>\n",
       "      <td>1</td>\n",
       "      <td>40</td>\n",
       "    </tr>\n",
       "    <tr>\n",
       "      <th>2</th>\n",
       "      <td>2011-01-01</td>\n",
       "      <td>1</td>\n",
       "      <td>2</td>\n",
       "      <td>0</td>\n",
       "      <td>6</td>\n",
       "      <td>0</td>\n",
       "      <td>1</td>\n",
       "      <td>0.22</td>\n",
       "      <td>0.2727</td>\n",
       "      <td>0.80</td>\n",
       "      <td>0.0</td>\n",
       "      <td>5</td>\n",
       "      <td>27</td>\n",
       "      <td>0</td>\n",
       "      <td>1</td>\n",
       "      <td>32</td>\n",
       "    </tr>\n",
       "    <tr>\n",
       "      <th>3</th>\n",
       "      <td>2011-01-01</td>\n",
       "      <td>1</td>\n",
       "      <td>3</td>\n",
       "      <td>0</td>\n",
       "      <td>6</td>\n",
       "      <td>0</td>\n",
       "      <td>1</td>\n",
       "      <td>0.24</td>\n",
       "      <td>0.2879</td>\n",
       "      <td>0.75</td>\n",
       "      <td>0.0</td>\n",
       "      <td>3</td>\n",
       "      <td>10</td>\n",
       "      <td>0</td>\n",
       "      <td>1</td>\n",
       "      <td>13</td>\n",
       "    </tr>\n",
       "    <tr>\n",
       "      <th>4</th>\n",
       "      <td>2011-01-01</td>\n",
       "      <td>1</td>\n",
       "      <td>4</td>\n",
       "      <td>0</td>\n",
       "      <td>6</td>\n",
       "      <td>0</td>\n",
       "      <td>1</td>\n",
       "      <td>0.24</td>\n",
       "      <td>0.2879</td>\n",
       "      <td>0.75</td>\n",
       "      <td>0.0</td>\n",
       "      <td>0</td>\n",
       "      <td>1</td>\n",
       "      <td>0</td>\n",
       "      <td>1</td>\n",
       "      <td>1</td>\n",
       "    </tr>\n",
       "  </tbody>\n",
       "</table>\n",
       "</div>"
      ],
      "text/plain": [
       "      dteday  season  hour  holiday  weekday  workingday  weather  temp  \\\n",
       "0 2011-01-01       1     0        0        6           0        1  0.24   \n",
       "1 2011-01-01       1     1        0        6           0        1  0.22   \n",
       "2 2011-01-01       1     2        0        6           0        1  0.22   \n",
       "3 2011-01-01       1     3        0        6           0        1  0.24   \n",
       "4 2011-01-01       1     4        0        6           0        1  0.24   \n",
       "\n",
       "    atemp   hum  windspeed  casual  registered  year  month  counts  \n",
       "0  0.2879  0.81        0.0       3          13     0      1      16  \n",
       "1  0.2727  0.80        0.0       8          32     0      1      40  \n",
       "2  0.2727  0.80        0.0       5          27     0      1      32  \n",
       "3  0.2879  0.75        0.0       3          10     0      1      13  \n",
       "4  0.2879  0.75        0.0       0           1     0      1       1  "
      ]
     },
     "execution_count": 53,
     "metadata": {},
     "output_type": "execute_result"
    }
   ],
   "source": [
    "# your code here\n",
    "bikes_df['month'] = bikes_df['dteday'].dt.month\n",
    "bikes_df['year'] = np.where(bikes_df['dteday'].dt.year==2011, 0, 1)\n",
    "bikes_df['counts'] = bikes_df['casual'] + bikes_df['registered']\n",
    "bikes_df.head()"
   ]
  },
  {
   "cell_type": "markdown",
   "metadata": {},
   "source": [
    "#### 1.4 Use visualization to inspect and comment on how casual rentals and registered rentals vary with the hour. "
   ]
  },
  {
   "cell_type": "code",
   "execution_count": 76,
   "metadata": {},
   "outputs": [
    {
     "data": {
      "image/png": "[encoded data removed]",
      "text/plain": [
       "<Figure size 864x576 with 1 Axes>"
      ]
     },
     "metadata": {},
     "output_type": "display_data"
    }
   ],
   "source": [
    "# your code here\n",
    "bikes_df_hourly = bikes_df.groupby('hour').agg({\n",
    "    'casual': np.mean,\n",
    "    'registered':np.mean\n",
    "})\n",
    "\n",
    "fig, ax = plt.subplots(1,1, figsize=(12,8))\n",
    "ax.plot(bikes_df_hourly.index, bikes_df_hourly['casual'], 'o-', ms=12, label=\"Casual Rentals\")\n",
    "ax.plot(bikes_df_hourly.index, bikes_df_hourly['registered'],'^-', ms=12, label=\"Registered Rentals\")\n",
    "ax.set_xlabel(r'$Hour$')\n",
    "ax.set_ylabel(r'$Rentals$')\n",
    "ax.set_xticks(np.arange(0, 24, 1))\n",
    "ax.legend();"
   ]
  },
  {
   "cell_type": "markdown",
   "metadata": {},
   "source": [
    "<HR>Casual rentals gradually rise in the morning, peak in the late afternoon and drop thereafter.\n",
    "    \n",
    "Registered rentals have a more variable pattern with high reservations at peak hours in the morning and evening and high usage at around lunch time.\n",
    "<HR>"
   ]
  },
  {
   "cell_type": "markdown",
   "metadata": {},
   "source": [
    "#### 1.5 Use the variable holiday to show how holidays affect the relationship in question 1.4. What do you observe?"
   ]
  },
  {
   "cell_type": "code",
   "execution_count": 107,
   "metadata": {},
   "outputs": [
    {
     "data": {
      "image/png": "[encoded data removed]",
      "text/plain": [
       "<Figure size 1296x432 with 2 Axes>"
      ]
     },
     "metadata": {},
     "output_type": "display_data"
    }
   ],
   "source": [
    "# your code here\n",
    "holiday_df = bikes_df[bikes_df['holiday']==1]\n",
    "non_holiday_df = bikes_df[bikes_df['holiday']==0]\n",
    "\n",
    "holiday_df_hourly = holiday_df.groupby('hour').agg({\n",
    "    'casual': np.mean,\n",
    "    'registered':np.mean\n",
    "})\n",
    "non_holiday_df_hourly = non_holiday_df.groupby('hour').agg({\n",
    "    'casual': np.mean,\n",
    "    'registered':np.mean\n",
    "})\n",
    "\n",
    "fig, ax = plt.subplots(1,2, figsize=(18,6))\n",
    "\n",
    "ax[0].plot(holiday_df_hourly.index, holiday_df_hourly['casual'], 'o-', ms=12, label=\"Casual Rentals - Holiday\")\n",
    "ax[0].plot(non_holiday_df_hourly.index, non_holiday_df_hourly['casual'],'^-', ms=12, label=\"Casual Rentals - Non-Holiday\")\n",
    "ax[0].set_xlabel(r'$Hour$')\n",
    "ax[0].set_ylabel(r'$Rentals$')\n",
    "ax[0].set_xticks(np.arange(0, 24, 1))\n",
    "ax[0].set_title(r'Number of casual rentals at different times of the day')\n",
    "ax[0].legend();\n",
    "\n",
    "ax[1].plot(holiday_df_hourly.index, holiday_df_hourly['registered'], 'o-', ms=12, label=\"Registered Rentals - Holiday\")\n",
    "ax[1].plot(non_holiday_df_hourly.index, non_holiday_df_hourly['registered'],'^-', ms=12, label=\"Registered Rentals - Non-Holiday\")\n",
    "ax[1].set_xlabel(r'$Hour$')\n",
    "ax[1].set_ylabel(r'$Rentals$')\n",
    "ax[1].set_xticks(np.arange(0, 24, 1))\n",
    "ax[1].set_title(r'Number of registered rentals at different times of the day')\n",
    "ax[1].legend();"
   ]
  },
  {
   "cell_type": "markdown",
   "metadata": {},
   "source": [
    "<HR>\n",
    "Holiday or not, affects the number of rentals, but does not really affect the hourly trend of the casual or registered rentails. <BR>\n",
    "The impact of holiday on the number is worth considering though. Casual rentals go up on holidays but registered rentals go down. This is probably indicative of non regular users renting on holidays and regsitered users renting to commute on non-holidays.\n",
    "<HR>"
   ]
  },
  {
   "cell_type": "markdown",
   "metadata": {},
   "source": [
    "#### 1.6  Use visualization to show how weather affects casual and registered rentals. What do you observe?"
   ]
  },
  {
   "cell_type": "code",
   "execution_count": 125,
   "metadata": {},
   "outputs": [
    {
     "data": {
      "image/png": "[encoded data removed]",
      "text/plain": [
       "<Figure size 1296x432 with 2 Axes>"
      ]
     },
     "metadata": {},
     "output_type": "display_data"
    }
   ],
   "source": [
    "# your code here\n",
    "'''\n",
    "1: Clear, Few clouds, Partly cloudy, Partly cloudy\n",
    "2: Mist + Cloudy, Mist + Broken clouds, Mist + Few clouds, Mist\n",
    "3: Light Snow, Light Rain + Thunderstorm\n",
    "4: Heavy Rain + Thunderstorm + Mist, Snow + Fog\n",
    "'''\n",
    "weather1_df = bikes_df[bikes_df['weather']==1]\n",
    "weather2_df = bikes_df[bikes_df['holiday']==2]\n",
    "weather3_df = bikes_df[bikes_df['weather']==3]\n",
    "weather4_df = bikes_df[bikes_df['holiday']==4]\n",
    "\n",
    "weather1_df_hourly = weather1_df.groupby('hour').agg({\n",
    "    'casual': np.mean,\n",
    "    'registered':np.mean\n",
    "})\n",
    "weather2_df_hourly = weather2_df.groupby('hour').agg({\n",
    "    'casual': np.mean,\n",
    "    'registered':np.mean\n",
    "})\n",
    "weather3_df_hourly = weather3_df.groupby('hour').agg({\n",
    "    'casual': np.mean,\n",
    "    'registered':np.mean\n",
    "})\n",
    "weather4_df_hourly = weather4_df.groupby('hour').agg({\n",
    "    'casual': np.mean,\n",
    "    'registered':np.mean\n",
    "})\n",
    "\n",
    "\n",
    "fig, ax = plt.subplots(1,2, figsize=(18,6))\n",
    "\n",
    "ax[0].plot(weather1_df_hourly.index, weather1_df_hourly['casual'], 'o-', ms=8, label=\"Casual Rentals - Weather1\")\n",
    "ax[0].plot(weather2_df_hourly.index, weather2_df_hourly['casual'],'^-', ms=8, label=\"Casual Rentals - Weather2\")\n",
    "ax[0].plot(weather3_df_hourly.index, weather3_df_hourly['casual'], '.-', ms=8, label=\"Casual Rentals - Weather3\")\n",
    "ax[0].plot(weather4_df_hourly.index, weather4_df_hourly['casual'],'*-', ms=8, label=\"Casual Rentals - Weather4\")\n",
    "ax[0].set_xlabel(r'$Hour$')\n",
    "ax[0].set_ylabel(r'$Rentals$')\n",
    "ax[0].set_xticks(np.arange(0, 24, 1))\n",
    "ax[0].set_title(r'Number of casual rentals at different times of the day')\n",
    "ax[0].legend();\n",
    "\n",
    "ax[1].plot(weather1_df_hourly.index, weather1_df_hourly['registered'], 'o-', ms=8, label=\"Registered Rentals - Weather1\")\n",
    "ax[1].plot(weather2_df_hourly.index, weather2_df_hourly['registered'],'^-', ms=8, label=\"Registered Rentals - Weather2\")\n",
    "ax[1].plot(weather3_df_hourly.index, weather3_df_hourly['registered'], '.-', ms=8, label=\"Registered Rentals - Weather3\")\n",
    "ax[1].plot(weather4_df_hourly.index, weather4_df_hourly['registered'],'*-', ms=8, label=\"Registered Rentals - Weather4\")\n",
    "ax[1].set_xlabel(r'$Hour$')\n",
    "ax[1].set_ylabel(r'$Rentals$')\n",
    "ax[1].set_xticks(np.arange(0, 24, 1))\n",
    "ax[1].set_title(r'Number of registered rentals at different times of the day')\n",
    "ax[1].legend();"
   ]
  },
  {
   "cell_type": "markdown",
   "metadata": {},
   "source": [
    "<HR>\n",
    "It is interesting to observe that people don't rent bikes if the weather is:<BR>\n",
    "&nbsp; &nbsp; a) Mist + Cloudy, Mist + Broken clouds, Mist + Few clouds, Mist OR <BR>\n",
    "&nbsp; &nbsp; b) Heavy Rain + Thunderstorm + Mist, Snow + Fog\n",
    "<HR>"
   ]
  },
  {
   "cell_type": "markdown",
   "metadata": {},
   "source": [
    "<div class='exercise'> <b> Question 2: Explore Seasonality on Bike Ridership. </b></div>\n",
    "#### Seasonality and weather\n",
    "\n",
    "Now let's examine the effect of weather and time of the year. For example, you want to see how ridership varies with season of the year. \n",
    "\n",
    "**2.1** Make a new dataframe with the following subset of attributes from the previous dataset and with each entry being **ONE** day:\n",
    "\n",
    "- `dteday`, the timestamp for that day (fine to set to noon or any other time)\n",
    "- `weekday`, the day of the week\n",
    "- `weather`, the most severe weather that day\n",
    "- `season`, the season that day falls in\n",
    "- `temp`, the average temperature\n",
    "- `atemp`, the average atemp that day\n",
    "- `windspeed`, the average windspeed that day\n",
    "- `hum`, the average humidity that day\n",
    "- `casual`, the **total** number of rentals by casual users\n",
    "- `registered`, the **total** number of rentals by registered users\n",
    "- `counts`, the **total** number of rentals\n",
    "\n",
    "Name this dataframe `bikes_by_day` and use it for all of Question 2.\n",
    "\n",
    "**2.2** How does **season** affect the number of bike rentals for **casual riders** or **registered riders** per day? Use the variable `season` for this question. Comment on your observations. \n",
    "\n",
    "**2.3** What percentage of rentals are made by casual riders or registered riders for each day of the week? Comment on any patterns you see and give a possible explanation.\n",
    "\n",
    "**2.4** How is the **distribution of total number of bike rentals** different for sunny days vs cloudy days?\n",
    "\n",
    "**2.5** Visualize how the **total number of rides** per day varies with the **season**. Do you see any **outliers**? (We define an outlier as a value 1.5 times the IQR above the 75th percentile or 1.5 times the IQR below the 25th percentiles. This is the same rule used by pyplot's boxplot function). If you see any outliers, identify those dates and investigate if they are a chance occurence, an error in the data collection, or an important event.\n",
    "\n",
    "#### HINT\n",
    "- Use .copy() when creating the new dataframe, so you leave the original untouched. We will come back to it later.\n",
    "- Use .groupby() to creat the new dataframe. You will have to make some choice on how to aggregate the variables."
   ]
  },
  {
   "cell_type": "markdown",
   "metadata": {},
   "source": [
    "### Answers"
   ]
  },
  {
   "cell_type": "markdown",
   "metadata": {},
   "source": [
    "#### 2.1 Make a new dataframe with the following subset ..."
   ]
  },
  {
   "cell_type": "code",
   "execution_count": 174,
   "metadata": {},
   "outputs": [
    {
     "data": {
      "text/html": [
       "<div>\n",
       "<style scoped>\n",
       "    .dataframe tbody tr th:only-of-type {\n",
       "        vertical-align: middle;\n",
       "    }\n",
       "\n",
       "    .dataframe tbody tr th {\n",
       "        vertical-align: top;\n",
       "    }\n",
       "\n",
       "    .dataframe thead th {\n",
       "        text-align: right;\n",
       "    }\n",
       "</style>\n",
       "<table border=\"1\" class=\"dataframe\">\n",
       "  <thead>\n",
       "    <tr style=\"text-align: right;\">\n",
       "      <th></th>\n",
       "      <th>weekday</th>\n",
       "      <th>weather</th>\n",
       "      <th>season</th>\n",
       "      <th>temp</th>\n",
       "      <th>atemp</th>\n",
       "      <th>windspeed</th>\n",
       "      <th>hum</th>\n",
       "      <th>casual</th>\n",
       "      <th>registered</th>\n",
       "      <th>counts</th>\n",
       "    </tr>\n",
       "    <tr>\n",
       "      <th>dteday</th>\n",
       "      <th></th>\n",
       "      <th></th>\n",
       "      <th></th>\n",
       "      <th></th>\n",
       "      <th></th>\n",
       "      <th></th>\n",
       "      <th></th>\n",
       "      <th></th>\n",
       "      <th></th>\n",
       "      <th></th>\n",
       "    </tr>\n",
       "  </thead>\n",
       "  <tbody>\n",
       "    <tr>\n",
       "      <th>1293840000000000000</th>\n",
       "      <td>6</td>\n",
       "      <td>3</td>\n",
       "      <td>1</td>\n",
       "      <td>0.344167</td>\n",
       "      <td>0.363625</td>\n",
       "      <td>0.160446</td>\n",
       "      <td>0.805833</td>\n",
       "      <td>331</td>\n",
       "      <td>654</td>\n",
       "      <td>985</td>\n",
       "    </tr>\n",
       "    <tr>\n",
       "      <th>1293926400000000000</th>\n",
       "      <td>0</td>\n",
       "      <td>3</td>\n",
       "      <td>1</td>\n",
       "      <td>0.363478</td>\n",
       "      <td>0.353739</td>\n",
       "      <td>0.248539</td>\n",
       "      <td>0.696087</td>\n",
       "      <td>131</td>\n",
       "      <td>670</td>\n",
       "      <td>801</td>\n",
       "    </tr>\n",
       "    <tr>\n",
       "      <th>1294012800000000000</th>\n",
       "      <td>1</td>\n",
       "      <td>1</td>\n",
       "      <td>1</td>\n",
       "      <td>0.196364</td>\n",
       "      <td>0.189405</td>\n",
       "      <td>0.248309</td>\n",
       "      <td>0.437273</td>\n",
       "      <td>120</td>\n",
       "      <td>1229</td>\n",
       "      <td>1349</td>\n",
       "    </tr>\n",
       "    <tr>\n",
       "      <th>1294099200000000000</th>\n",
       "      <td>2</td>\n",
       "      <td>2</td>\n",
       "      <td>1</td>\n",
       "      <td>0.200000</td>\n",
       "      <td>0.212122</td>\n",
       "      <td>0.160296</td>\n",
       "      <td>0.590435</td>\n",
       "      <td>108</td>\n",
       "      <td>1454</td>\n",
       "      <td>1562</td>\n",
       "    </tr>\n",
       "    <tr>\n",
       "      <th>1294185600000000000</th>\n",
       "      <td>3</td>\n",
       "      <td>1</td>\n",
       "      <td>1</td>\n",
       "      <td>0.226957</td>\n",
       "      <td>0.229270</td>\n",
       "      <td>0.186900</td>\n",
       "      <td>0.436957</td>\n",
       "      <td>82</td>\n",
       "      <td>1518</td>\n",
       "      <td>1600</td>\n",
       "    </tr>\n",
       "  </tbody>\n",
       "</table>\n",
       "</div>"
      ],
      "text/plain": [
       "                     weekday  weather  season      temp     atemp  windspeed  \\\n",
       "dteday                                                                         \n",
       "1293840000000000000        6        3       1  0.344167  0.363625   0.160446   \n",
       "1293926400000000000        0        3       1  0.363478  0.353739   0.248539   \n",
       "1294012800000000000        1        1       1  0.196364  0.189405   0.248309   \n",
       "1294099200000000000        2        2       1  0.200000  0.212122   0.160296   \n",
       "1294185600000000000        3        1       1  0.226957  0.229270   0.186900   \n",
       "\n",
       "                          hum  casual  registered  counts  \n",
       "dteday                                                     \n",
       "1293840000000000000  0.805833     331         654     985  \n",
       "1293926400000000000  0.696087     131         670     801  \n",
       "1294012800000000000  0.437273     120        1229    1349  \n",
       "1294099200000000000  0.590435     108        1454    1562  \n",
       "1294185600000000000  0.436957      82        1518    1600  "
      ]
     },
     "execution_count": 174,
     "metadata": {},
     "output_type": "execute_result"
    }
   ],
   "source": [
    "# your code here\n",
    "bikes_by_day = bikes_df.copy()\n",
    "\n",
    "bikes_by_day['dteday'] = bikes_by_day['dteday'].values.astype(np.int64)\n",
    "bikes_by_day = bikes_by_day.groupby('dteday').agg({\n",
    "    'weekday': np.max,\n",
    "    'weather': np.max,\n",
    "    'season': np.max,\n",
    "    'temp': np.average,\n",
    "    'atemp': np.average,\n",
    "    'windspeed': np.average,\n",
    "    'hum': np.average,\n",
    "    'casual': np.sum,\n",
    "    'registered': np.sum,\n",
    "    'counts': np.sum\n",
    "})\n",
    "bikes_by_day.head()\n"
   ]
  },
  {
   "cell_type": "markdown",
   "metadata": {},
   "source": [
    "#### 2.2 How does season affect the number of bike ..."
   ]
  },
  {
   "cell_type": "code",
   "execution_count": 182,
   "metadata": {},
   "outputs": [
    {
     "data": {
      "image/png": "[encoded data removed]",
      "text/plain": [
       "<Figure size 864x576 with 1 Axes>"
      ]
     },
     "metadata": {},
     "output_type": "display_data"
    }
   ],
   "source": [
    "# your code here\n",
    "'''\n",
    "1 = winter, 2 = spring, 3 = summer, 4 = fall\n",
    "'''\n",
    "bikes_by_day_seasonal = bikes_by_day.groupby('season').agg({\n",
    "    'casual': np.sum,\n",
    "    'registered': np.sum\n",
    "})\n",
    "\n",
    "fig, ax = plt.subplots(1,1, figsize=(12,8))\n",
    "ax.plot(bikes_by_day_seasonal.index, bikes_by_day_seasonal['casual'], 'o-', ms=12, label=\"Casual Rentals\")\n",
    "ax.plot(bikes_by_day_seasonal.index, bikes_by_day_seasonal['registered'],'^-', ms=12, label=\"Registered Rentals\")\n",
    "ax.set_xlabel(r'$Season$')\n",
    "ax.set_ylabel(r'$Rentals$')\n",
    "ax.set_xticks(np.arange(1, 5, 1))\n",
    "ax.legend();"
   ]
  },
  {
   "cell_type": "markdown",
   "metadata": {},
   "source": [
    "<HR>\n",
    "Bike rentals are the lowest in the winter, as expected. The number gradually rises as spring rolls around and peaks in the summer. It then begins to decend as fall arives.<HR>"
   ]
  },
  {
   "cell_type": "markdown",
   "metadata": {},
   "source": [
    "#### 2.3 What percentage of rentals are made by casual riders or registered riders ..."
   ]
  },
  {
   "cell_type": "code",
   "execution_count": 216,
   "metadata": {},
   "outputs": [
    {
     "name": "stdout",
     "output_type": "stream",
     "text": [
      "On day:  0\n",
      "\t % of casual: 31.65\n",
      "\t % of registered: 68.35\n",
      "On day:  1\n",
      "\t % of casual: 15.54\n",
      "\t % of registered: 84.46\n",
      "On day:  2\n",
      "\t % of casual: 12.33\n",
      "\t % of registered: 87.67\n",
      "On day:  3\n",
      "\t % of casual: 12.12\n",
      "\t % of registered: 87.88\n",
      "On day:  4\n",
      "\t % of casual: 12.66\n",
      "\t % of registered: 87.34\n",
      "On day:  5\n",
      "\t % of casual: 16.04\n",
      "\t % of registered: 83.96\n",
      "On day:  6\n",
      "\t % of casual: 32.2\n",
      "\t % of registered: 67.8\n"
     ]
    }
   ],
   "source": [
    "# your code here\n",
    "'''\n",
    "0 through 6, with 0 denoting Sunday\n",
    "'''\n",
    "bikes_by_day_of_week = bikes_by_day.groupby('weekday').agg({\n",
    "    'casual': np.sum,\n",
    "    'registered': np.sum,\n",
    "    'counts': np.sum\n",
    "})\n",
    "for index in bikes_by_day_of_week.index:\n",
    "    print('On day: ', index)\n",
    "    print('\\t % of casual: {0:2.4}'.format((bikes_by_day_of_week['casual'].values[index]/bikes_by_day_of_week['counts'].values[index])*100))\n",
    "    print('\\t % of registered: {0:2.4}'.format((bikes_by_day_of_week['registered'].values[index]/bikes_by_day_of_week['counts'].values[index])*100))"
   ]
  },
  {
   "cell_type": "markdown",
   "metadata": {},
   "source": [
    "<HR>\n",
    "Your answer here\n",
    "<HR>"
   ]
  },
  {
   "cell_type": "markdown",
   "metadata": {},
   "source": [
    "#### 2.4 How is the distribution of total number of bike rentals different ..."
   ]
  },
  {
   "cell_type": "code",
   "execution_count": null,
   "metadata": {
    "collapsed": true
   },
   "outputs": [],
   "source": [
    "# your code here"
   ]
  },
  {
   "cell_type": "markdown",
   "metadata": {},
   "source": [
    "<HR>\n",
    "Your answer here\n",
    "<HR>"
   ]
  },
  {
   "cell_type": "markdown",
   "metadata": {},
   "source": [
    "#### 2.5 Visualize how the total number of rides per day ..."
   ]
  },
  {
   "cell_type": "code",
   "execution_count": null,
   "metadata": {
    "collapsed": true
   },
   "outputs": [],
   "source": [
    "# your code here"
   ]
  },
  {
   "cell_type": "markdown",
   "metadata": {},
   "source": [
    "<HR>\n",
    "Your answer here\n",
    "<HR>"
   ]
  },
  {
   "cell_type": "markdown",
   "metadata": {},
   "source": [
    "<div class='exercise'> <b> Question 3: Prepare the data for Regression </b> </div>\n",
    "\n",
    "**3.1** Visualize and describe inter-dependencies among the following variables: `weekday`, `season`, `month`,`weather`, `temp`, `atemp`, `hum`, `windspeed`, `casual`,`registered`, `counts`. Note and comment on any strongly related variables.\n",
    "\n",
    "**3.2** Convert the categorical attributes into multiple binary attributes using **one-hot encoding**. \n",
    "\n",
    "\n",
    "**3.3** Split the initial `bikes_df` dataset (with hourly data about rentals) into train and test sets. Do this in a 'stratified' fashion, ensuring that all months are equally represented in each set. Explain your choice for a splitting algorithm. We ask you to create your train and test sets, but for consistency and easy checking we ask that, for the rest of this problem set, you use the train and test set provided in the question below.\n",
    "\n",
    "**3.4** Read `data/BSS_train.csv` and `data/BSS_test.csv` into dataframes `BSS_train` and `BSS_test`, respectively. After checking your train and test datasets for accuracy, remove the `dteday` column from both train and test dataset. We do not need it, and its format cannot be used for analysis. Also, remove any predictors that would make predicting the `count` trivial.\n",
    "\n",
    "**3.5** Calculate the **Pearson correlation** coefficients between all the features. Visualize the matrix using a heatmap. Which predictors have a positive correlation with the number of bike rentals? For categorical attributes, you should use each binary predictor resulting from one-hot encoding to compute their correlations.  Identify pairs of predictors with collinearity >0.7.\n",
    "\n",
    "#### Hints: \n",
    "- You may use the `np.corrcoef` function to compute the correlation matrix for a data set (do not forget to transpose the data matrix). You may use `plt.pcolor` function to visualize the correlation matrix.\n",
    "\n"
   ]
  },
  {
   "cell_type": "markdown",
   "metadata": {},
   "source": [
    "#### Answers"
   ]
  },
  {
   "cell_type": "markdown",
   "metadata": {},
   "source": [
    "#### 3.1 Visualize and describe inter-dependencies  ... "
   ]
  },
  {
   "cell_type": "code",
   "execution_count": null,
   "metadata": {
    "collapsed": true
   },
   "outputs": [],
   "source": [
    "# your code here"
   ]
  },
  {
   "cell_type": "markdown",
   "metadata": {},
   "source": [
    "<HR>\n",
    "Your answer here\n",
    "    <HR>"
   ]
  },
  {
   "cell_type": "markdown",
   "metadata": {},
   "source": [
    "#### 3.2 Convert the categorical attributes  ...."
   ]
  },
  {
   "cell_type": "code",
   "execution_count": null,
   "metadata": {
    "collapsed": true
   },
   "outputs": [],
   "source": [
    "# your code here"
   ]
  },
  {
   "cell_type": "markdown",
   "metadata": {},
   "source": [
    "<HR>\n",
    "Your answer here\n",
    "<HR>"
   ]
  },
  {
   "cell_type": "markdown",
   "metadata": {},
   "source": [
    "#### 3.3 Split the initial bikes_df dataset..."
   ]
  },
  {
   "cell_type": "code",
   "execution_count": null,
   "metadata": {
    "collapsed": true
   },
   "outputs": [],
   "source": [
    "# your code here"
   ]
  },
  {
   "cell_type": "markdown",
   "metadata": {},
   "source": [
    "#### 3.4  Read `data/BSS_train.csv` and `data/BSS_test.csv` into ..."
   ]
  },
  {
   "cell_type": "code",
   "execution_count": null,
   "metadata": {
    "collapsed": true
   },
   "outputs": [],
   "source": [
    "# your code here"
   ]
  },
  {
   "cell_type": "markdown",
   "metadata": {},
   "source": [
    "<HR>\n",
    "Your answer here\n",
    "<HR>"
   ]
  },
  {
   "cell_type": "markdown",
   "metadata": {},
   "source": [
    "#### 3.5 Calculate the **Pearson correlation** ...."
   ]
  },
  {
   "cell_type": "code",
   "execution_count": null,
   "metadata": {
    "collapsed": true
   },
   "outputs": [],
   "source": [
    "# your code here"
   ]
  },
  {
   "cell_type": "markdown",
   "metadata": {},
   "source": [
    "<HR>\n",
    "Your answer here\n",
    "<HR>"
   ]
  },
  {
   "cell_type": "markdown",
   "metadata": {},
   "source": [
    "<div class='exercise'> <b> Question 4: Multiple Linear Regression </b> </div>\n",
    "\n",
    "**4.1** Use statsmodels to fit a multiple linear regression model to the training set using all the predictors (no interactions or polynomial terms), and report its $R^2$ score on the train and test sets.\n",
    "\n",
    "\n",
    "**4.2** Find out which of estimated coefficients are statistically significant at a significance level of 5% (p-value < 0.05). Comment on the results.\n",
    "\n",
    "\n",
    "**4.3** Make a plot of residuals of the fitted model ${e} = y - \\hat{y}$ as a function of the predicted value $\\hat{y}$. Note that this is slightly different from the residual plot for simple linear regression. Draw a horizontal line denoting the zero residual value on the Y-axis. Does the plot reveal a non-linear relationship between the predictors and response? What does the plot convey about the variance of the error terms? "
   ]
  },
  {
   "cell_type": "markdown",
   "metadata": {},
   "source": [
    "### Answers\n",
    "#### 4.1 Use statsmodels to fit a ... \n"
   ]
  },
  {
   "cell_type": "code",
   "execution_count": null,
   "metadata": {
    "collapsed": true
   },
   "outputs": [],
   "source": [
    "# your code here"
   ]
  },
  {
   "cell_type": "markdown",
   "metadata": {},
   "source": [
    "<HR>\n",
    "Your answer here\n",
    "<HR>"
   ]
  },
  {
   "cell_type": "markdown",
   "metadata": {},
   "source": [
    "#### 4.2 Find out which of estimated coefficients ..."
   ]
  },
  {
   "cell_type": "code",
   "execution_count": null,
   "metadata": {
    "collapsed": true
   },
   "outputs": [],
   "source": [
    "# your code here"
   ]
  },
  {
   "cell_type": "markdown",
   "metadata": {},
   "source": [
    "<HR>\n",
    "Your answer here<BR>\n",
    "<HR>"
   ]
  },
  {
   "cell_type": "markdown",
   "metadata": {},
   "source": [
    "#### 4.3 Make a plot of residuals of the fitted ..."
   ]
  },
  {
   "cell_type": "code",
   "execution_count": 2,
   "metadata": {
    "collapsed": true
   },
   "outputs": [],
   "source": [
    "# your code here"
   ]
  },
  {
   "cell_type": "markdown",
   "metadata": {},
   "source": [
    "<div class='exercise'> <b>Question 5: Subset Selection </b> </div>\n",
    "\n",
    "**5.1** Implement forward step-wise  selection to select a minimal subset of predictors that are related to the response variable: \n",
    "\n",
    "We require that you implement the method **from scratch**. You may use the Bayesian Information Criterion (BIC) to choose the subset size in each method. \n",
    "\n",
    "**5.2** Do these methods eliminate one or more of the colinear predictors (if any) identified in Question 3.5?  If so, which ones. Briefly explain (3 or fewer sentences) why you think this may be the case.\n",
    "\n",
    "**5.3** Fit the linear regression model using the identified subset of predictors to the training set. How do the test $R^2$ scores for the fitted models compare with the model fitted in Question 4 using all predictors?"
   ]
  },
  {
   "cell_type": "markdown",
   "metadata": {},
   "source": [
    "### Answers"
   ]
  },
  {
   "cell_type": "markdown",
   "metadata": {},
   "source": [
    "#### 5.1  Implement forward step-wise ...."
   ]
  },
  {
   "cell_type": "code",
   "execution_count": null,
   "metadata": {
    "collapsed": true
   },
   "outputs": [],
   "source": [
    "# your code here"
   ]
  },
  {
   "cell_type": "markdown",
   "metadata": {},
   "source": [
    "<HR>\n",
    "Your answer here\n",
    "<HR>"
   ]
  },
  {
   "cell_type": "markdown",
   "metadata": {},
   "source": [
    "#### 5.2 Do these methods eliminate ..."
   ]
  },
  {
   "cell_type": "markdown",
   "metadata": {},
   "source": [
    "<HR>\n",
    "Your answer here\n",
    "<HR>"
   ]
  },
  {
   "cell_type": "markdown",
   "metadata": {},
   "source": [
    "#### 5.3 In each case, fit linear regression  ..."
   ]
  },
  {
   "cell_type": "code",
   "execution_count": null,
   "metadata": {
    "collapsed": true
   },
   "outputs": [],
   "source": [
    "# your code here"
   ]
  },
  {
   "cell_type": "markdown",
   "metadata": {},
   "source": [
    "<HR>\n",
    "Your answer here\n",
    "<HR>"
   ]
  },
  {
   "cell_type": "markdown",
   "metadata": {},
   "source": [
    "<div class='exercise'> <b> Question 6: Polynomial Regression </b> </div> \n",
    "\n",
    "We will now try to improve the performance of the regression model by including higher-order polynomial terms. \n",
    "\n",
    "**6.1** For each continuous predictor $X_j$, include additional polynomial terms $X^2_j$, $X^3_j$, and $X^4_j$, and fit a polynomial regression model to the expanded training set. How does the $R^2$ of this model on the test set compare with that of the linear model fitted in the previous question? Using a $t$-tests, find out which of the estimated coefficients for the polynomial terms are statistically significant at a significance level of 5%. "
   ]
  },
  {
   "cell_type": "code",
   "execution_count": 3,
   "metadata": {
    "collapsed": true
   },
   "outputs": [],
   "source": [
    "# your code here"
   ]
  },
  {
   "cell_type": "markdown",
   "metadata": {},
   "source": [
    "<HR>\n",
    "Your answer here\n",
    "<HR>"
   ]
  },
  {
   "cell_type": "markdown",
   "metadata": {},
   "source": [
    "#  Written Report to the Administrators\n",
    "<br>\n",
    "\n",
    "<div class='exercise'> <b> Question 7 </b> </div>\n",
    "\n",
    "Write a short summary report, intended for the administrators of the company, to address two major points (can be written as two large paragraphs):\n",
    "\n",
    "1. How to predict ridership well (which variables are important, when is ridership highest/lowest, etc.).\n",
    "\n",
    "2. Suggestions on how to increase the system revenue (what additional services to provide, when to give discounts, etc.).\n",
    " \n",
    "Include your report below. The report should not be longer than 300 words and should include a maximum of 3 figures. "
   ]
  },
  {
   "cell_type": "markdown",
   "metadata": {},
   "source": [
    "### Answers\n",
    "#### 7\n",
    "<HR>\n",
    "Your report here\n",
    "<HR>\n",
    "\n"
   ]
  },
  {
   "cell_type": "code",
   "execution_count": null,
   "metadata": {
    "collapsed": true
   },
   "outputs": [],
   "source": []
  }
 ],
 "metadata": {
  "anaconda-cloud": {},
  "kernelspec": {
   "display_name": "Python 3",
   "language": "python",
   "name": "python3"
  },
  "language_info": {
   "codemirror_mode": {
    "name": "ipython",
    "version": 3
   },
   "file_extension": ".py",
   "mimetype": "text/x-python",
   "name": "python",
   "nbconvert_exporter": "python",
   "pygments_lexer": "ipython3",
   "version": "3.6.5"
  }
 },
 "nbformat": 4,
 "nbformat_minor": 2
}
