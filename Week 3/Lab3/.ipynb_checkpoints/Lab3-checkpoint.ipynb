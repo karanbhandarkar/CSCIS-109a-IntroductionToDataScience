{
 "cells": [
  {
   "cell_type": "markdown",
   "metadata": {},
   "source": [
    "# <img style=\"float: left; padding-right: 10px; width: 45px\" src=\"iacs.png\"> S-109A Introduction to Data Science \n",
    "\n",
    "\n",
    "## Lab 3: Multiple Regression - Polynomial Regression - Subgroup Exploration\n",
    "**Harvard University**<br>\n",
    "**Summer 2018**<br>\n",
    "**Instructors:** Pavlos Protopapas and Kevin Rader  \n",
    "**Authors:** Will Claybaugh, David Sondak, Pavlos Protopapas\n",
    "\n",
    "---"
   ]
  },
  {
   "cell_type": "markdown",
   "metadata": {},
   "source": [
    "## <font color='red'> Run the cell below to properly highlight the exercises</font>"
   ]
  },
  {
   "cell_type": "code",
   "execution_count": 1,
   "metadata": {},
   "outputs": [
    {
     "data": {
      "text/html": [
       "<style>div.exercise { background-color: #ffcccc;border-color: #E9967A; border-left: 5px solid #800080; padding: 0.5em;}</style>"
      ],
      "text/plain": [
       "<IPython.core.display.HTML object>"
      ]
     },
     "execution_count": 1,
     "metadata": {},
     "output_type": "execute_result"
    }
   ],
   "source": [
    "from IPython.display import HTML\n",
    "style = \"<style>div.exercise { background-color: #ffcccc;border-color: #E9967A; border-left: 5px solid #800080; padding: 0.5em;}</style>\"\n",
    "\n",
    "HTML(style)"
   ]
  },
  {
   "cell_type": "markdown",
   "metadata": {},
   "source": [
    "## Learning Goals\n",
    "After this lab, you should be able to\n",
    " - Implement arbitrary multiple regression models in both SK-learn and Statsmodels\n",
    " - Interpret the coefficent estimates produced by each model, including transformed and dummy variables\n",
    " - Explore and visualize relationships among variables using tools such as `groupby`, `agg`, and `violinplot`\n",
    " - Work more fluently within Pandas to build dataframes and select items of interest"
   ]
  },
  {
   "cell_type": "code",
   "execution_count": 2,
   "metadata": {},
   "outputs": [],
   "source": [
    "import numpy as np\n",
    "import pandas as pd\n",
    "import matplotlib.pyplot as plt\n",
    "\n",
    "import statsmodels.api as sm\n",
    "from statsmodels.api import OLS\n",
    "\n",
    "from sklearn import preprocessing\n",
    "from sklearn.preprocessing import PolynomialFeatures\n",
    "from sklearn.metrics import r2_score\n",
    "from sklearn.model_selection import train_test_split\n",
    "\n",
    "from pandas.plotting import scatter_matrix\n",
    "\n",
    "import seaborn as sns\n",
    "\n",
    "\n",
    "%matplotlib inline"
   ]
  },
  {
   "cell_type": "markdown",
   "metadata": {},
   "source": [
    "## Motivation: Why we need multiple predictors\n",
    "If you have to guess someone's height, would you rather be told\n",
    "<ol type=\"a\">\n",
    "<li>Their weight, only</li>\n",
    "<li>Their weight and gender</li>\n",
    "<li>Their weight, gender, and income</li>\n",
    "<li>Their weight, gender, income, and favorite number</li>\n",
    "</ol>\n",
    "\n",
    "Of course, you'd always want as much data about a person as possible. Even though height and favorite number may not be strongly related, at worst you could just ignore the information on favorite number. We want our models to be able to take in lots of data as they make their predictions.\n",
    "\n",
    "Here is a small example to illustrate this point:"
   ]
  },
  {
   "cell_type": "code",
   "execution_count": 5,
   "metadata": {},
   "outputs": [
    {
     "data": {
      "text/html": [
       "<div>\n",
       "<style scoped>\n",
       "    .dataframe tbody tr th:only-of-type {\n",
       "        vertical-align: middle;\n",
       "    }\n",
       "\n",
       "    .dataframe tbody tr th {\n",
       "        vertical-align: top;\n",
       "    }\n",
       "\n",
       "    .dataframe thead th {\n",
       "        text-align: right;\n",
       "    }\n",
       "</style>\n",
       "<table border=\"1\" class=\"dataframe\">\n",
       "  <thead>\n",
       "    <tr style=\"text-align: right;\">\n",
       "      <th></th>\n",
       "      <th>target</th>\n",
       "      <th>var1</th>\n",
       "      <th>var2</th>\n",
       "    </tr>\n",
       "  </thead>\n",
       "  <tbody>\n",
       "    <tr>\n",
       "      <th>0</th>\n",
       "      <td>25.073544</td>\n",
       "      <td>7.686559</td>\n",
       "      <td>15.400852</td>\n",
       "    </tr>\n",
       "    <tr>\n",
       "      <th>1</th>\n",
       "      <td>12.921106</td>\n",
       "      <td>4.520268</td>\n",
       "      <td>5.761141</td>\n",
       "    </tr>\n",
       "    <tr>\n",
       "      <th>2</th>\n",
       "      <td>-2.645545</td>\n",
       "      <td>0.484965</td>\n",
       "      <td>-9.230950</td>\n",
       "    </tr>\n",
       "    <tr>\n",
       "      <th>3</th>\n",
       "      <td>6.091512</td>\n",
       "      <td>4.306516</td>\n",
       "      <td>-7.043041</td>\n",
       "    </tr>\n",
       "    <tr>\n",
       "      <th>4</th>\n",
       "      <td>3.381487</td>\n",
       "      <td>3.041729</td>\n",
       "      <td>-7.403940</td>\n",
       "    </tr>\n",
       "  </tbody>\n",
       "</table>\n",
       "</div>"
      ],
      "text/plain": [
       "      target      var1       var2\n",
       "0  25.073544  7.686559  15.400852\n",
       "1  12.921106  4.520268   5.761141\n",
       "2  -2.645545  0.484965  -9.230950\n",
       "3   6.091512  4.306516  -7.043041\n",
       "4   3.381487  3.041729  -7.403940"
      ]
     },
     "execution_count": 5,
     "metadata": {},
     "output_type": "execute_result"
    }
   ],
   "source": [
    "# visualize the relationships in the data\n",
    "from pandas.plotting import scatter_matrix\n",
    "\n",
    "df = pd.read_csv(\"data/example1_train.csv\", index_col=0)\n",
    "\n",
    "scatter_matrix(df);\n",
    "plt.show()\n",
    "\n",
    "for var_to_keep in ['var1','var2']:\n",
    "    fitted_ols = OLS(df['target'], sm.add_constant(df[var_to_keep])).fit()    \n",
    "    print(\"R^2 for model with only {}: {}\".format(var_to_keep,fitted_ols.rsquared))\n",
    "    \n",
    "full_r2 = OLS(df['target'],df.drop(['target'], axis=1)).fit().rsquared\n",
    "print(\"R^2 for model with both predictors: {}\".format(full_r2))"
   ]
  },
  {
   "cell_type": "markdown",
   "metadata": {},
   "source": [
    "## Part 1: Multiple Regression Review\n",
    "This section briefly recaps the path from the concept of OLS to the equations. We'll be working with a dataset that looks like this:\n",
    "\n",
    "\\begin{bmatrix}\n",
    "    \\mid & \\mid & \\mid & \\mid & \\mid \\\\\n",
    "    \\text{target column} & \\text{column 1} & \\text{column 2} & \\text{column 3} & ...\\\\\n",
    "    \\mid & \\mid & \\mid & \\mid & \\mid \\\\\n",
    "\\end{bmatrix}\n",
    "\n",
    "The matrix above has one row for each observation, and each column records some feature of that particular observation.\n",
    "\n",
    "## Part 1.1: What Multiple Linear Regression does (Concept, Math, and Code)\n",
    "At the end of the day, multiple regression lets us dream up a mathematical formula for the response variable\\[_hypothesize_, in Statistics jargon] and fit that formula to the data, finding the best$^2$ possible version of it. Multiple regression gives back 1) interpretable parameter values \\[betas\\] and 2) a recipe we can use to predict the response variable in future cases.\n",
    "\n",
    "If our data obey particular assumptions$^1$, multiple regression/OLS is the _best possible_ thing we can do. However, we can still apply OLS to data that don't obey those assumptions. This is especially true when our goal is prediction: if the resulting model predicts well enough in practice it doesn't matter as much whether the assumptions hold.\n",
    "\n",
    "As examples, we could hypothesize that\n",
    "\n",
    "$$\\text{target column} \\approx \\beta_1\\cdot\\text{column 1} + \\beta_2\\cdot\\text{column 2} + \\beta_3\\cdot\\text{column 3}$$\n",
    "or\n",
    "$$\\text{target column} \\approx \\beta_1\\cdot\\text{column 1} + \\beta_3\\cdot\\left(\\text{column 2}\\right)^2 + \\beta_3\\cdot log\\left(\\text{column 1}\\right)$$\n",
    "\n",
    "and linear regression will fill in the betas for us with the values that best$^2$ predict the target. Notice that we're perfectly free to transform our columns in the formula, and to use the same column multiple times.\n",
    "\n",
    "Of course, there's still the issue of how to find a good formula. We've touched on some potentially good features to create (like $x$, $x^2$, $x^3$...) in lecture, and will discuss more in this lab, but the basic answer is always the same: use domain knowledge and cross validation.\n",
    "\n",
    "<br/>\n",
    "<font size=\"1\">Footnotes:  \n",
    "$^1$ If the actual story behind the data is \"the response variable obeys the equation, then it has a number added to it drawn from a normal distribution\", then the guesses OLS returns are \"MLE\" estimates of the true beta values. MLE estimates are very good ways of guessing an unknown value.  \n",
    "    \n",
    "$^2$ 'Best' meaning \"the values in the blanks will minimize MSE on the training set\". This may or may not be the definition 'best' you care about.</font>\n",
    "\n",
    "### Math\n",
    "We saw in the lecture how the formulas above could be changed into a matrix equation. And in the next section we'll see how this matrix equation is closely related to the coding tools we'll use.\n",
    "\n",
    "$$\\text{target column} \\approx \\beta_1\\cdot\\text{column 1} + \\beta_2\\cdot\\left(\\text{column 2}\\right)^2 + \\beta_3\\cdot log\\left(\\text{column 1}\\right)$$\n",
    "\n",
    "Since we're dealing with entire columns, this is definitely a matrix equation. We can re-write it in terms of matrix multiplication:\n",
    "\n",
    "$$\n",
    "\\text{target column} \\approx \n",
    "\\begin{bmatrix}\n",
    "    \\mid & \\mid & \\mid \\\\\n",
    "    \\text{column 1} & \\left(\\text{column 2}\\right)^2 & log\\left(\\text{column 1}\\right) \\\\\n",
    "    \\mid & \\mid & \\mid \\\\\n",
    "\\end{bmatrix} \\cdot\n",
    "\\begin{bmatrix}\n",
    "   \\beta_1 \\\\\n",
    "   \\beta_2 \\\\\n",
    "   \\beta_3\n",
    " \\end{bmatrix}\n",
    "$$\n",
    "\n",
    "(If you didn't see the above step for yourself, just verify that when you multiply the matrices, you get back to where we started)\n",
    "\n",
    "This leads naturally to the classic representation of our data:\n",
    "$$ \\bf{Y} = \\bf{X} \\cdot \\bf{\\beta}$$\n",
    "- a column vector $\\bf{Y}$ (our target variable: one outcome for each training point)\n",
    "- a matrix $\\bf{X}$ (our training examples: one row for each training point, and one column per feature). Notice that a feature might be a transformation of one of the original data columns. This matrix is sometimes referred to as our **design matrix**.\n",
    "\n",
    "Thinking in terms of design matrices will be key to working with our coding tools. We'll see in a second how the code we'll be writing uses this same $\\bf{Y}$ and $\\bf{X}$ format.\n",
    "\n",
    "#### Comment: Intercepts / Constant Terms\n",
    "What if we wanted the formula with an intercept, like\n",
    "\n",
    "$$\\text{target column} \\approx \\beta_0 + \\beta_1\\cdot\\text{column 1} + \\beta_2\\cdot\\left(\\text{column 2}\\right)^2 + \\beta_3\\cdot log\\left(\\text{column 1}\\right)$$\n",
    "\n",
    "Really, the above isn't a valid formula. Mathematically, we can't add a single number, $\\beta_0$, with a whole column. The shapes are wrong. What we're trying to express is actually:\n",
    "\n",
    "$$\\text{target column} \\approx \\beta_0\\cdot\\text{all-1s column} + \\beta_1\\cdot\\text{column 1} + \\beta_2\\cdot\\left(\\text{column 2}\\right)^2 + \\beta_3\\cdot log\\left(\\text{column 1}\\right)$$\n",
    "\n",
    "The formula above implies a design matrix like:\n",
    "$$\n",
    "\\begin{bmatrix}\n",
    "    \\mid & \\mid & \\mid & \\mid \\\\\n",
    "    \\text{all-1s column} & \\text{column 1} & \\left(\\text{column 2}\\right)^2 & log\\left(\\text{column 1}\\right) \\\\\n",
    "    \\mid & \\mid & \\mid & \\mid \\\\\n",
    "\\end{bmatrix} \\cdot\n",
    "\\begin{bmatrix}\n",
    "   \\beta_0 \\\\\n",
    "   \\beta_1 \\\\\n",
    "   \\beta_2 \\\\\n",
    "   \\beta_3\n",
    " \\end{bmatrix}\n",
    "$$\n",
    "This should explain why we're constantly using `sm.add_constant`- it edits an existing design matrix to have an all-ones column at the front.\n",
    "\n",
    "\n",
    "<div class=\"exercise\"><b>Exercise 1</b></div>\n",
    "**Question**: \n",
    "1. What is different between a design matrix and the original data matrix? Is there any situation where the design matrix and data matrix are the same?\n",
    "2. From lecture, what optimization problem does OLS solve? Does that optimization still produce good results with a design matrix instead of a data matrix?\n",
    "3. From lecture, what is the solution to the OLS optimization problem in matrix form? What quantities do we need to provide, and what do we get back?"
   ]
  },
  {
   "cell_type": "markdown",
   "metadata": {},
   "source": [
    "### Code\n",
    "\n",
    "Both SK-learn and statsmodels want us to hand over a column vector of target values, $\\bf{Y}$, and a design matrix $\\bf{X}$. \n",
    "\n",
    "Let's practice building a design matrix for the regression: \n",
    "\n",
    "$$\\text{target} \\approx \\beta_1\\cdot\\text{var1} + \\beta_2\\cdot\\left(\\text{var2}\\right)^2 + \\beta_3\\cdot log\\left(\\text{var1}\\right)$$ \n",
    "\n",
    "using the data frame from our example.\n",
    "\n",
    "**Comment**: This model includes $\\left(\\text{var2}\\right)^2$ without including $\\text{var2}$ itself. This is technically allowed, but not good practice. (It's assuming that the effect of var2 itself is nonexistant, while the squared version does have an effect. We'll see this model struggle to fit the data because of this mistake)"
   ]
  },
  {
   "cell_type": "code",
   "execution_count": 6,
   "metadata": {
    "scrolled": true
   },
   "outputs": [
    {
     "data": {
      "text/html": [
       "<div>\n",
       "<style scoped>\n",
       "    .dataframe tbody tr th:only-of-type {\n",
       "        vertical-align: middle;\n",
       "    }\n",
       "\n",
       "    .dataframe tbody tr th {\n",
       "        vertical-align: top;\n",
       "    }\n",
       "\n",
       "    .dataframe thead th {\n",
       "        text-align: right;\n",
       "    }\n",
       "</style>\n",
       "<table border=\"1\" class=\"dataframe\">\n",
       "  <thead>\n",
       "    <tr style=\"text-align: right;\">\n",
       "      <th></th>\n",
       "      <th>target</th>\n",
       "      <th>var1</th>\n",
       "      <th>var2</th>\n",
       "      <th>var2_squared</th>\n",
       "      <th>log_var1</th>\n",
       "    </tr>\n",
       "  </thead>\n",
       "  <tbody>\n",
       "    <tr>\n",
       "      <th>0</th>\n",
       "      <td>25.073544</td>\n",
       "      <td>7.686559</td>\n",
       "      <td>15.400852</td>\n",
       "      <td>237.186240</td>\n",
       "      <td>2.039473</td>\n",
       "    </tr>\n",
       "    <tr>\n",
       "      <th>1</th>\n",
       "      <td>12.921106</td>\n",
       "      <td>4.520268</td>\n",
       "      <td>5.761141</td>\n",
       "      <td>33.190746</td>\n",
       "      <td>1.508571</td>\n",
       "    </tr>\n",
       "    <tr>\n",
       "      <th>2</th>\n",
       "      <td>-2.645545</td>\n",
       "      <td>0.484965</td>\n",
       "      <td>-9.230950</td>\n",
       "      <td>85.210440</td>\n",
       "      <td>-0.723679</td>\n",
       "    </tr>\n",
       "    <tr>\n",
       "      <th>3</th>\n",
       "      <td>6.091512</td>\n",
       "      <td>4.306516</td>\n",
       "      <td>-7.043041</td>\n",
       "      <td>49.604424</td>\n",
       "      <td>1.460129</td>\n",
       "    </tr>\n",
       "    <tr>\n",
       "      <th>4</th>\n",
       "      <td>3.381487</td>\n",
       "      <td>3.041729</td>\n",
       "      <td>-7.403940</td>\n",
       "      <td>54.818326</td>\n",
       "      <td>1.112426</td>\n",
       "    </tr>\n",
       "  </tbody>\n",
       "</table>\n",
       "</div>"
      ],
      "text/plain": [
       "      target      var1       var2  var2_squared  log_var1\n",
       "0  25.073544  7.686559  15.400852    237.186240  2.039473\n",
       "1  12.921106  4.520268   5.761141     33.190746  1.508571\n",
       "2  -2.645545  0.484965  -9.230950     85.210440 -0.723679\n",
       "3   6.091512  4.306516  -7.043041     49.604424  1.460129\n",
       "4   3.381487  3.041729  -7.403940     54.818326  1.112426"
      ]
     },
     "execution_count": 6,
     "metadata": {},
     "output_type": "execute_result"
    }
   ],
   "source": [
    "#first, we split off the target\n",
    "y_train = df['target']\n",
    "\n",
    "## Build a design matrix for this model\n",
    "# start with a copy of the data\n",
    "design_mat = df.copy()\n",
    "\n",
    "# add the var2 squared column\n",
    "design_mat['var2_squared'] = df['var2']**2\n",
    "\n",
    "# add the log(var1) column\n",
    "design_mat['log_var1'] = df['var1'].apply(np.log) # equivalent to np.log(df['var1']), but apply can be much prettier\n",
    "\n",
    "design_mat.head()"
   ]
  },
  {
   "cell_type": "markdown",
   "metadata": {},
   "source": [
    "Whoops! This data frame has much more than the three columns we want."
   ]
  },
  {
   "cell_type": "code",
   "execution_count": 8,
   "metadata": {
    "scrolled": true
   },
   "outputs": [
    {
     "data": {
      "text/html": [
       "<div>\n",
       "<style scoped>\n",
       "    .dataframe tbody tr th:only-of-type {\n",
       "        vertical-align: middle;\n",
       "    }\n",
       "\n",
       "    .dataframe tbody tr th {\n",
       "        vertical-align: top;\n",
       "    }\n",
       "\n",
       "    .dataframe thead th {\n",
       "        text-align: right;\n",
       "    }\n",
       "</style>\n",
       "<table border=\"1\" class=\"dataframe\">\n",
       "  <thead>\n",
       "    <tr style=\"text-align: right;\">\n",
       "      <th></th>\n",
       "      <th>var1</th>\n",
       "      <th>var2_squared</th>\n",
       "      <th>log_var1</th>\n",
       "    </tr>\n",
       "  </thead>\n",
       "  <tbody>\n",
       "    <tr>\n",
       "      <th>0</th>\n",
       "      <td>7.686559</td>\n",
       "      <td>237.186240</td>\n",
       "      <td>2.039473</td>\n",
       "    </tr>\n",
       "    <tr>\n",
       "      <th>1</th>\n",
       "      <td>4.520268</td>\n",
       "      <td>33.190746</td>\n",
       "      <td>1.508571</td>\n",
       "    </tr>\n",
       "    <tr>\n",
       "      <th>2</th>\n",
       "      <td>0.484965</td>\n",
       "      <td>85.210440</td>\n",
       "      <td>-0.723679</td>\n",
       "    </tr>\n",
       "    <tr>\n",
       "      <th>3</th>\n",
       "      <td>4.306516</td>\n",
       "      <td>49.604424</td>\n",
       "      <td>1.460129</td>\n",
       "    </tr>\n",
       "    <tr>\n",
       "      <th>4</th>\n",
       "      <td>3.041729</td>\n",
       "      <td>54.818326</td>\n",
       "      <td>1.112426</td>\n",
       "    </tr>\n",
       "  </tbody>\n",
       "</table>\n",
       "</div>"
      ],
      "text/plain": [
       "       var1  var2_squared  log_var1\n",
       "0  7.686559    237.186240  2.039473\n",
       "1  4.520268     33.190746  1.508571\n",
       "2  0.484965     85.210440 -0.723679\n",
       "3  4.306516     49.604424  1.460129\n",
       "4  3.041729     54.818326  1.112426"
      ]
     },
     "execution_count": 8,
     "metadata": {},
     "output_type": "execute_result"
    }
   ],
   "source": [
    "design_mat = design_mat.drop(['target','var2'], axis=1)\n",
    "design_mat.head()"
   ]
  },
  {
   "cell_type": "markdown",
   "metadata": {},
   "source": [
    "**Notice**:\n",
    " - We made a separate copy of the data to build our design matrix. This uses up more of the computer's active storage \\[its RAM\\], but prevents us from accidentally editing the raw data. For small matrices making copies is harmless, but as you move to big data you will need more sophisticated techniques.\n",
    " - In production, you want to write a function that takes in a dataset and produces the design matrix for your model. You want all the data->design transformations stored in one place, and you want to be able to re-run them whenever the data update. Further, you'll need to transform your test data matrix into its design matrix before you can make predictions\n",
    " \n",
    " \n",
    "<div class=\"exercise\"><b>Exercise 2</b></div>\n",
    "In production, you want a unified function that takes in a training or test dataframe and returns the matching design matrix. (It's very important to be have all the transformations in one location, and to be able to update the design matrix whenever the data change)\n",
    "1. Produce such a data-to-design function for this model in the space below.\n",
    "2. How would your function handle an extra 'var4' column in the original data? Test it and correct your function if needed."
   ]
  },
  {
   "cell_type": "code",
   "execution_count": 21,
   "metadata": {},
   "outputs": [
    {
     "data": {
      "text/html": [
       "<div>\n",
       "<style scoped>\n",
       "    .dataframe tbody tr th:only-of-type {\n",
       "        vertical-align: middle;\n",
       "    }\n",
       "\n",
       "    .dataframe tbody tr th {\n",
       "        vertical-align: top;\n",
       "    }\n",
       "\n",
       "    .dataframe thead th {\n",
       "        text-align: right;\n",
       "    }\n",
       "</style>\n",
       "<table border=\"1\" class=\"dataframe\">\n",
       "  <thead>\n",
       "    <tr style=\"text-align: right;\">\n",
       "      <th></th>\n",
       "      <th>var1</th>\n",
       "      <th>var2_squared</th>\n",
       "      <th>log_var1</th>\n",
       "    </tr>\n",
       "  </thead>\n",
       "  <tbody>\n",
       "    <tr>\n",
       "      <th>0</th>\n",
       "      <td>7.686559</td>\n",
       "      <td>237.186240</td>\n",
       "      <td>2.039473</td>\n",
       "    </tr>\n",
       "    <tr>\n",
       "      <th>1</th>\n",
       "      <td>4.520268</td>\n",
       "      <td>33.190746</td>\n",
       "      <td>1.508571</td>\n",
       "    </tr>\n",
       "    <tr>\n",
       "      <th>2</th>\n",
       "      <td>0.484965</td>\n",
       "      <td>85.210440</td>\n",
       "      <td>-0.723679</td>\n",
       "    </tr>\n",
       "    <tr>\n",
       "      <th>3</th>\n",
       "      <td>4.306516</td>\n",
       "      <td>49.604424</td>\n",
       "      <td>1.460129</td>\n",
       "    </tr>\n",
       "    <tr>\n",
       "      <th>4</th>\n",
       "      <td>3.041729</td>\n",
       "      <td>54.818326</td>\n",
       "      <td>1.112426</td>\n",
       "    </tr>\n",
       "  </tbody>\n",
       "</table>\n",
       "</div>"
      ],
      "text/plain": [
       "       var1  var2_squared  log_var1\n",
       "0  7.686559    237.186240  2.039473\n",
       "1  4.520268     33.190746  1.508571\n",
       "2  0.484965     85.210440 -0.723679\n",
       "3  4.306516     49.604424  1.460129\n",
       "4  3.041729     54.818326  1.112426"
      ]
     },
     "execution_count": 21,
     "metadata": {},
     "output_type": "execute_result"
    }
   ],
   "source": [
    "def data_to_design(df):\n",
    "    \n",
    "    y_train = df['target']\n",
    "    \n",
    "    design_mat = df[['var1']].copy()\n",
    "    design_mat['var2_squared'] = df[['var2']]**2\n",
    "    design_mat['log_var1'] = df[['var1']].apply(np.log)\n",
    "    \n",
    "    return y_train, design_mat\n",
    "\n",
    "y_train, design_mat = data_to_design(df)\n",
    "design_mat.head()"
   ]
  },
  {
   "cell_type": "markdown",
   "metadata": {},
   "source": [
    "## Part 1.2 SK-Learn Example Code\n",
    "SK-learn's OLS class uses the same interface as all SK-learn models: create the object, .fit() on the design matrix $X$ and target values $Y$ (passed in that order), and then evaluate on the test set, make predictions, or do whatever else. The one thing to be aware of is that SK-learn adds a column of 1s to the design matrix (equivalently, it adds a constant term to the regression formula). We don't want that this time so we disable `fit_intercept`.\n",
    "\n",
    "$$\\text{target} \\approx \\beta_1\\cdot\\text{var1} + \\beta_2\\cdot\\left(\\text{var2}\\right)^2 + \\beta_3\\cdot log\\left(\\text{var1}\\right)$$\n"
   ]
  },
  {
   "cell_type": "code",
   "execution_count": 8,
   "metadata": {},
   "outputs": [
    {
     "name": "stdout",
     "output_type": "stream",
     "text": [
      "LinearRegression(copy_X=True, fit_intercept=False, n_jobs=1, normalize=False)\n",
      "Coeffecients: [ 0.79605053 -0.00738446  4.81739268]\n",
      "Intercept: 0.0\n",
      "Train R-squared: 0.5880398159382259\n",
      "First three training set predictions [14.19233986 10.62064597 -3.72942186]\n"
     ]
    }
   ],
   "source": [
    "from sklearn.linear_model import LinearRegression\n",
    "fitted_sk_ols = LinearRegression(fit_intercept = False).fit(design_mat,y_train) ## Since no beta_0, we specify no intercept\n",
    "\n",
    "print(fitted_sk_ols)\n",
    "print(\"Coeffecients:\", fitted_sk_ols.coef_)\n",
    "print(\"Intercept:\", fitted_sk_ols.intercept_)\n",
    "print(\"Train R-squared:\", fitted_sk_ols.score(design_mat, y_train))\n",
    "print(\"First three training set predictions\", fitted_sk_ols.predict(design_mat)[0:3])"
   ]
  },
  {
   "cell_type": "markdown",
   "metadata": {},
   "source": [
    "<div class=\"exercise\"><b>Exercise 3</b></div>\n",
    "**Question**:\n",
    "1. Write code to find the given model's test set $R^2$ score. The test dataset is available in `data/example1_test.csv`. "
   ]
  },
  {
   "cell_type": "markdown",
   "metadata": {},
   "source": [
    "## Part 1.3: Statsmodels Example Code\n",
    "The Statsmodels OLS class has a slightly different interface from sklearn's models. We provide the data when we initialize the model, and fit doesn't take any arguments at all. Because statsmodels requires us to explicitly add a column of 1s if we want a constant term, we can just run with the existing design matrix. If we wanted a constant term, we'd add a column of ones to the design matrix, most likely via `add_constant`\n",
    "\n",
    "$$\\text{target} \\approx \\beta_1\\cdot\\text{var1} + \\beta_2\\cdot\\left(\\text{var2}\\right)^2 + \\beta_3\\cdot log\\left(\\text{var1}\\right)$$"
   ]
  },
  {
   "cell_type": "code",
   "execution_count": 10,
   "metadata": {},
   "outputs": [
    {
     "name": "stdout",
     "output_type": "stream",
     "text": [
      "LinearRegression(copy_X=True, fit_intercept=False, n_jobs=1, normalize=False)\n",
      "Coeffecients:\n",
      " var1            0.796051\n",
      "var2_squared   -0.007384\n",
      "log_var1        4.817393\n",
      "dtype: float64\n",
      "Train R-squared: 0.8142247525966742\n",
      "First three training set predictions:\n",
      " 0    14.192340\n",
      "1    10.620646\n",
      "2    -3.729422\n",
      "dtype: float64\n"
     ]
    }
   ],
   "source": [
    "# no need to sm.add_constant because the formula we're fitting doesn't have a constant term\n",
    "fitted_sm_ols = OLS(endog=y_train, exog=design_mat).fit()\n",
    "\n",
    "print(fitted_sk_ols)\n",
    "print(\"Coeffecients:\\n\", fitted_sm_ols.params)\n",
    "print(\"Train R-squared:\", fitted_sm_ols.rsquared)\n",
    "print(\"First three training set predictions:\\n\", fitted_sm_ols.predict(design_mat)[0:3])"
   ]
  },
  {
   "cell_type": "markdown",
   "metadata": {},
   "source": [
    "We see that we get the same parameter values and predictions from both models.\n",
    "\n",
    "<div class=\"exercise\"><b>Exercise 4</b></div>\n",
    "**Questions**:\n",
    "1. Determine the model's $R^2$ score on the test set.\n",
    "2. Why do two different OLS implementations exist if they both give the same predictions? Based on this lab and HW 2, what is each package best at. For instance, why is it so hard to get a test set score using statsmodels?\n",
    "3. The statsmodels results show a much higher training $R^2$ than the sklearn results. Did the statistics package produce a better model? If not, what happened?"
   ]
  },
  {
   "cell_type": "markdown",
   "metadata": {},
   "source": [
    "## Part 1.4 Statsmodels' .summary()\n",
    "Let's talk about some key components of Statmodels' output:"
   ]
  },
  {
   "cell_type": "code",
   "execution_count": 13,
   "metadata": {},
   "outputs": [
    {
     "data": {
      "text/html": [
       "<table class=\"simpletable\">\n",
       "<caption>OLS Regression Results</caption>\n",
       "<tr>\n",
       "  <th>Dep. Variable:</th>         <td>target</td>      <th>  R-squared:         </th> <td>   0.814</td> \n",
       "</tr>\n",
       "<tr>\n",
       "  <th>Model:</th>                   <td>OLS</td>       <th>  Adj. R-squared:    </th> <td>   0.813</td> \n",
       "</tr>\n",
       "<tr>\n",
       "  <th>Method:</th>             <td>Least Squares</td>  <th>  F-statistic:       </th> <td>   580.0</td> \n",
       "</tr>\n",
       "<tr>\n",
       "  <th>Date:</th>             <td>Fri, 13 Jul 2018</td> <th>  Prob (F-statistic):</th> <td>1.13e-144</td>\n",
       "</tr>\n",
       "<tr>\n",
       "  <th>Time:</th>                 <td>00:08:51</td>     <th>  Log-Likelihood:    </th> <td> -1247.3</td> \n",
       "</tr>\n",
       "<tr>\n",
       "  <th>No. Observations:</th>      <td>   400</td>      <th>  AIC:               </th> <td>   2501.</td> \n",
       "</tr>\n",
       "<tr>\n",
       "  <th>Df Residuals:</th>          <td>   397</td>      <th>  BIC:               </th> <td>   2513.</td> \n",
       "</tr>\n",
       "<tr>\n",
       "  <th>Df Model:</th>              <td>     3</td>      <th>                     </th>     <td> </td>    \n",
       "</tr>\n",
       "<tr>\n",
       "  <th>Covariance Type:</th>      <td>nonrobust</td>    <th>                     </th>     <td> </td>    \n",
       "</tr>\n",
       "</table>\n",
       "<table class=\"simpletable\">\n",
       "<tr>\n",
       "        <td></td>          <th>coef</th>     <th>std err</th>      <th>t</th>      <th>P>|t|</th>  <th>[0.025</th>    <th>0.975]</th>  \n",
       "</tr>\n",
       "<tr>\n",
       "  <th>var1</th>         <td>    0.7961</td> <td>    0.183</td> <td>    4.354</td> <td> 0.000</td> <td>    0.437</td> <td>    1.156</td>\n",
       "</tr>\n",
       "<tr>\n",
       "  <th>var2_squared</th> <td>   -0.0074</td> <td>    0.001</td> <td>   -6.907</td> <td> 0.000</td> <td>   -0.009</td> <td>   -0.005</td>\n",
       "</tr>\n",
       "<tr>\n",
       "  <th>log_var1</th>     <td>    4.8174</td> <td>    0.605</td> <td>    7.967</td> <td> 0.000</td> <td>    3.629</td> <td>    6.006</td>\n",
       "</tr>\n",
       "</table>\n",
       "<table class=\"simpletable\">\n",
       "<tr>\n",
       "  <th>Omnibus:</th>       <td>49.868</td> <th>  Durbin-Watson:     </th> <td>   1.943</td>\n",
       "</tr>\n",
       "<tr>\n",
       "  <th>Prob(Omnibus):</th> <td> 0.000</td> <th>  Jarque-Bera (JB):  </th> <td>  66.455</td>\n",
       "</tr>\n",
       "<tr>\n",
       "  <th>Skew:</th>          <td> 0.895</td> <th>  Prob(JB):          </th> <td>3.71e-15</td>\n",
       "</tr>\n",
       "<tr>\n",
       "  <th>Kurtosis:</th>      <td> 3.884</td> <th>  Cond. No.          </th> <td>    723.</td>\n",
       "</tr>\n",
       "</table>"
      ],
      "text/plain": [
       "<class 'statsmodels.iolib.summary.Summary'>\n",
       "\"\"\"\n",
       "                            OLS Regression Results                            \n",
       "==============================================================================\n",
       "Dep. Variable:                 target   R-squared:                       0.814\n",
       "Model:                            OLS   Adj. R-squared:                  0.813\n",
       "Method:                 Least Squares   F-statistic:                     580.0\n",
       "Date:                Fri, 13 Jul 2018   Prob (F-statistic):          1.13e-144\n",
       "Time:                        00:08:51   Log-Likelihood:                -1247.3\n",
       "No. Observations:                 400   AIC:                             2501.\n",
       "Df Residuals:                     397   BIC:                             2513.\n",
       "Df Model:                           3                                         \n",
       "Covariance Type:            nonrobust                                         \n",
       "================================================================================\n",
       "                   coef    std err          t      P>|t|      [0.025      0.975]\n",
       "--------------------------------------------------------------------------------\n",
       "var1             0.7961      0.183      4.354      0.000       0.437       1.156\n",
       "var2_squared    -0.0074      0.001     -6.907      0.000      -0.009      -0.005\n",
       "log_var1         4.8174      0.605      7.967      0.000       3.629       6.006\n",
       "==============================================================================\n",
       "Omnibus:                       49.868   Durbin-Watson:                   1.943\n",
       "Prob(Omnibus):                  0.000   Jarque-Bera (JB):               66.455\n",
       "Skew:                           0.895   Prob(JB):                     3.71e-15\n",
       "Kurtosis:                       3.884   Cond. No.                         723.\n",
       "==============================================================================\n",
       "\n",
       "Warnings:\n",
       "[1] Standard Errors assume that the covariance matrix of the errors is correctly specified.\n",
       "\"\"\""
      ]
     },
     "execution_count": 13,
     "metadata": {},
     "output_type": "execute_result"
    }
   ],
   "source": [
    "fitted_sm_ols.summary()"
   ]
  },
  {
   "cell_type": "markdown",
   "metadata": {},
   "source": [
    "- **Method**: This time it was OLS (find the betas that minimize the squared residuals), but soon we'll consider minimizing other objectives (e.g. the absolute sum of the residuals, or the sum of residuals and a penalty term)\n",
    "- **R-squared**: An interpretable summary of how well the model did. 1 is perfect, 0 is a trivial baseline model, negative is worse than the trivial model\n",
    "- **F-statistic**: A value testing whether we're likely to see these results (or even stronger ones) if none of the predictors actually mattered.\n",
    "- **Prob (F-statistic)**: The probability that we'd see these results (or even stronger ones) if none of the predictors actually mattered. If this probability is small then either A) some combination of predictors actually matters or B) something rather unlikely has happened\n",
    "- **BIC**: This is a measure of how well we think the model will do on future data. The value isn't directly interpretable, but lower values indicate better expected performance. Importantly, the BIC includes a penalty for models with more parameters and thus helps pick models that are properly fit (instead of overfit). Should not be used to compare different types of models, but is fine for deciding how many/which predictors and transformations to include.\n",
    "- **coef**: The estimate of each beta. This has several sub-components:\n",
    "  - **std err**: The amount we'd expect this value to wiggle if we re-did the data collection and re-ran our model. More data tends to make this wiggle smaller, but sometimes the collected data just isn't enough to pin down a particular value.\n",
    "  - **t and P>|t|**: similar to the F-statistic, these measure the probability of seeing coefficients this big (or even bigger) if the given variable didn't actually matter. Small probability doesn't necessarily mean the value matters\n",
    "  - **\\[0.025 0.975\\]**: Endpoints of the 95% confidence interval. This is a interval drawn in a clever way and which gives an idea of where the true beta value might plausibly live. (If you want to understand why \"there's a 95% chance the true beta is in the interval\" is _wrong_, start a chat with Will : )\n",
    "  "
   ]
  },
  {
   "cell_type": "markdown",
   "metadata": {},
   "source": [
    "<div class=\"exercise\"><b>Exercise 5</b></div>\n",
    "**Questions**:\n",
    "1. Fit a model that uses the raw var1 and var2 values to predict the target. \n",
    "2. Search the web and write code that extracts the BIC from the statsmodel object. Based on the BICs, which model would you rather predict with? \n",
    "2. Is $(var2)^2$ a statistically significant predictor of the target? Is it practically significant? How certain are you in your conclusion?"
   ]
  },
  {
   "cell_type": "markdown",
   "metadata": {},
   "source": [
    "## Part 1 Reap:\n",
    "This section discussed\n",
    "- The importance of design matrices in building multiple regression models\n",
    "- The interfaces and roles of `sklearn` and `statsmodels`\n",
    "- The meaning, use, and interpretation of various `statsmodels` statistics\n",
    "- Finding and deciphering documentation for the above packages"
   ]
  },
  {
   "cell_type": "markdown",
   "metadata": {},
   "source": [
    "<hr style=\"height:2px\"> \n",
    "## Part 2 Polynomial Regression, and Revisiting the Cab Data\n",
    "Now that we've introduced design matrices and multiple regression, let's see how it can help us on a dataset we may have struggled to fit on Homework 2."
   ]
  },
  {
   "cell_type": "code",
   "execution_count": 16,
   "metadata": {},
   "outputs": [
    {
     "data": {
      "text/html": [
       "<div>\n",
       "<style scoped>\n",
       "    .dataframe tbody tr th:only-of-type {\n",
       "        vertical-align: middle;\n",
       "    }\n",
       "\n",
       "    .dataframe tbody tr th {\n",
       "        vertical-align: top;\n",
       "    }\n",
       "\n",
       "    .dataframe thead th {\n",
       "        text-align: right;\n",
       "    }\n",
       "</style>\n",
       "<table border=\"1\" class=\"dataframe\">\n",
       "  <thead>\n",
       "    <tr style=\"text-align: right;\">\n",
       "      <th></th>\n",
       "      <th>TimeMin</th>\n",
       "      <th>PickupCount</th>\n",
       "    </tr>\n",
       "  </thead>\n",
       "  <tbody>\n",
       "    <tr>\n",
       "      <th>0</th>\n",
       "      <td>860.0</td>\n",
       "      <td>33.0</td>\n",
       "    </tr>\n",
       "    <tr>\n",
       "      <th>1</th>\n",
       "      <td>17.0</td>\n",
       "      <td>75.0</td>\n",
       "    </tr>\n",
       "    <tr>\n",
       "      <th>2</th>\n",
       "      <td>486.0</td>\n",
       "      <td>13.0</td>\n",
       "    </tr>\n",
       "    <tr>\n",
       "      <th>3</th>\n",
       "      <td>300.0</td>\n",
       "      <td>5.0</td>\n",
       "    </tr>\n",
       "    <tr>\n",
       "      <th>4</th>\n",
       "      <td>385.0</td>\n",
       "      <td>10.0</td>\n",
       "    </tr>\n",
       "  </tbody>\n",
       "</table>\n",
       "</div>"
      ],
      "text/plain": [
       "   TimeMin  PickupCount\n",
       "0    860.0         33.0\n",
       "1     17.0         75.0\n",
       "2    486.0         13.0\n",
       "3    300.0          5.0\n",
       "4    385.0         10.0"
      ]
     },
     "execution_count": 16,
     "metadata": {},
     "output_type": "execute_result"
    }
   ],
   "source": [
    "# read in the data, break into train and test\n",
    "cab_df = pd.read_csv(\"data/dataset_1.csv\")\n",
    "train_data, test_data = train_test_split(cab_df, test_size=.2, random_state=42)\n",
    "cab_df.head()"
   ]
  },
  {
   "cell_type": "code",
   "execution_count": 17,
   "metadata": {},
   "outputs": [],
   "source": [
    "# do some data cleaning\n",
    "X_train = train_data['TimeMin'].values.reshape(-1,1)/60\n",
    "y_train = train_data['PickupCount'].values\n",
    "\n",
    "X_test = test_data['TimeMin'].values.reshape(-1,1)/60\n",
    "y_test = test_data['PickupCount'].values\n",
    "\n",
    "\n",
    "def plot_cabs(cur_model, poly_transformer=None):\n",
    "    \n",
    "    # build the x values for the prediction line\n",
    "    x_vals = np.arange(0,24,.1).reshape(-1,1)\n",
    "    \n",
    "    # if needed, build the design matrix\n",
    "    if poly_transformer:\n",
    "        design_mat = poly_transformer.fit_transform(x_vals)\n",
    "    else:\n",
    "        design_mat = x_vals\n",
    "    \n",
    "    # make the prediction at each x value\n",
    "    prediction = cur_model.predict(design_mat)\n",
    "    \n",
    "    # plot the prediction line, and the test data\n",
    "    plt.plot(x_vals,prediction, color='k', label=\"Prediction\")\n",
    "    plt.scatter(X_test, y_test, label=\"Test Data\")\n",
    "\n",
    "    # label your plots\n",
    "    plt.ylabel(\"Number of Taxi Pickups\")\n",
    "    plt.xlabel(\"Time of Day (Hours Past Midnight)\")\n",
    "    plt.legend()\n",
    "    plt.show()"
   ]
  },
  {
   "cell_type": "code",
   "execution_count": 18,
   "metadata": {},
   "outputs": [
    {
     "data": {
      "image/png": "[encoded data removed]",
      "text/plain": [
       "<matplotlib.figure.Figure at 0x199ff9874a8>"
      ]
     },
     "metadata": {},
     "output_type": "display_data"
    }
   ],
   "source": [
    "fitted_cab_model0 = LinearRegression().fit(X_train, y_train)\n",
    "plot_cabs(fitted_cab_model0)"
   ]
  },
  {
   "cell_type": "markdown",
   "metadata": {},
   "source": [
    "We can see that there's still a lot of variation in cab pickups that's not being caught by a linear fit. And the linear fit is predicting massively more pickups at 11:59pm than at 12:00am. However, we can add columns to our design matrix for $TimeMin^2$ and $TimeMin^3$ and so on, allowing a wigglier polynomial that will better fit the data.\n",
    "\n",
    "We'll be using sklearn's `PolynomialFeatures` to take some of the tedium out of building the new design matrix. In fact, if all we want is a formula like $y \\approx \\beta_0 + \\beta_1 x + \\beta_2 x^2 + ...$ it will directly return the new design matrix."
   ]
  },
  {
   "cell_type": "code",
   "execution_count": 19,
   "metadata": {},
   "outputs": [
    {
     "data": {
      "text/plain": [
       "array([[6.73333333e+00, 4.53377778e+01, 3.05274370e+02],\n",
       "       [2.18333333e+00, 4.76694444e+00, 1.04078287e+01],\n",
       "       [1.41666667e+00, 2.00694444e+00, 2.84317130e+00],\n",
       "       ...,\n",
       "       [1.96666667e+01, 3.86777778e+02, 7.60662963e+03],\n",
       "       [1.17333333e+01, 1.37671111e+02, 1.61534104e+03],\n",
       "       [1.42000000e+01, 2.01640000e+02, 2.86328800e+03]])"
      ]
     },
     "execution_count": 19,
     "metadata": {},
     "output_type": "execute_result"
    }
   ],
   "source": [
    "transformer_3 = PolynomialFeatures(3, include_bias=False)\n",
    "new_features = transformer_3.fit_transform(X_train)\n",
    "new_features"
   ]
  },
  {
   "cell_type": "markdown",
   "metadata": {},
   "source": [
    "A few notes on `PolynomialFeatures`:\n",
    "- The interface is a bit strange. `PolynomialFeatures` is a 'transformer' in sklearn. We'll be using several transformers that learn a transformation on the training data and then apply that transformation on future data. On these (more typical) transformers it makes sense to have a `.fit()` and a separate `.transform()`. With PolynomialFeatures, the `.fit()` is pretty trivial, and we often fit and transform in one command, as seen above.\n",
    "- You rarely want to `include_bias` (a column of all 1s), since sklearn will add it automatically and statsmodels can just `add_constant` right before you fit to the design matrix\n",
    "- If you want polynomial features for a several different variables, you should call `.fit_transform()` separately on each column and append all the results to the design matrix (unless you also want interaction terms between the newly-created features). See `np.concatenate` for joining arrays."
   ]
  },
  {
   "cell_type": "code",
   "execution_count": 20,
   "metadata": {},
   "outputs": [
    {
     "data": {
      "image/png": "[encoded data removed]",
      "text/plain": [
       "<matplotlib.figure.Figure at 0x199ffad8c88>"
      ]
     },
     "metadata": {},
     "output_type": "display_data"
    }
   ],
   "source": [
    "fitted_cab_model3 = LinearRegression().fit(new_features, y_train)\n",
    "plot_cabs(fitted_cab_model3, transformer_3)"
   ]
  },
  {
   "cell_type": "markdown",
   "metadata": {},
   "source": [
    "<div class=\"exercise\"><b>Exercise 6</b></div>\n",
    "\n",
    "**Questions**:\n",
    "1. Calculate the polynomial model's $R^2$ performance on the test set. You may wish to write a function to build the design matrix. Without it, odds are you'll encounter a shape error you'll be seeing a lot.\n",
    "2. Does the polynomial model improve on the purely linear model?\n",
    "3. Make a residual plot for the polynomial model. What does this plot tell us about the model?"
   ]
  },
  {
   "cell_type": "markdown",
   "metadata": {},
   "source": [
    "#### Other features\n",
    "Polynomial features are not the only constucted features that help fit the data. Because these data have a 24 hour cycle, we may want to build features that follow such a cycle. For example, $sin(24\\frac{x}{2\\pi})$, $sin(12\\frac{x}{2\\pi})$, $sin(8\\frac{x}{2\\pi})$. Other feature transformations are appropriate to other types of data. For instance certain feature transformations have been developed for geographical data."
   ]
  },
  {
   "cell_type": "markdown",
   "metadata": {},
   "source": [
    "<hr style=\"height:3px\">\n",
    "## Part 3: Exploring the Footbal data\n",
    "Let's move on to a truly interesting dataset. The data imported below were scraped by [Shubham Maurya](https://www.kaggle.com/mauryashubham/linear-regression-to-predict-market-value/data) and record various facts about players in the English Premier League. Our goal will be to fit models that predict the players' market value (what the player could earn when hired by a new team), as estimated by transfermrkt.com.\n",
    "\n",
    "`name`: Name of the player  \n",
    "`club`: Club of the player  \n",
    "`age` : Age of the player  \n",
    "`position` : The usual position on the pitch  \n",
    "`position_cat` :  1 for attackers, 2 for midfielders, 3 for defenders, 4 for goalkeepers  \n",
    "`market_value` : As on transfermrkt.com on July 20th, 2017  \n",
    "`page_views` : Average daily Wikipedia page views from September 1, 2016 to May 1, 2017  \n",
    "`fpl_value` : Value in Fantasy Premier League as on July 20th, 2017  \n",
    "`fpl_sel` : % of FPL players who have selected that player in their team  \n",
    "`fpl_points` : FPL points accumulated over the previous season  \n",
    "`region`: 1 for England, 2 for EU, 3 for Americas, 4 for Rest of World  \n",
    "`nationality`: Player's nationality  \n",
    "`new_foreign`: Whether a new signing from a different league, for 2017/18 (till 20th July)  \n",
    "`age_cat`: a categorical version of the Age feature  \n",
    "`club_id`: a numerical version of the Club feature  \n",
    "`big_club`: Whether one of the Top 6 clubs  \n",
    "`new_signing`: Whether a new signing for 2017/18 (till 20th July)  \n",
    "\n",
    "As always, we first import, verify, split, and explore the data.\n",
    "\n",
    "## Part 3.1: Import and verification"
   ]
  },
  {
   "cell_type": "code",
   "execution_count": null,
   "metadata": {
    "scrolled": false
   },
   "outputs": [],
   "source": [
    "league_df = pd.read_csv(\"data/league_data.csv\")\n",
    "print(league_df.dtypes)\n",
    "league_df.head()"
   ]
  },
  {
   "cell_type": "code",
   "execution_count": null,
   "metadata": {},
   "outputs": [],
   "source": [
    "league_df.describe()"
   ]
  },
  {
   "cell_type": "code",
   "execution_count": null,
   "metadata": {},
   "outputs": [],
   "source": [
    "scatter_matrix(league_df, figsize=(20,10));"
   ]
  },
  {
   "cell_type": "markdown",
   "metadata": {},
   "source": [
    "### Part 3.2: (Stratified) train/test split\n",
    "We want to make sure that the training and test data have appropriate representation of each region; it would be bad for the training data to entirely miss a region. This is especially important because some regions are rather rare.\n",
    "\n",
    "<div class=\"exercise\"><b>Exercise 7</b></div>\n",
    "**Questions**:\n",
    "1. Use the `train_test_split` function to and its 'stratify' argument to split the data, keeping equal representation of each region (This will not work out of the box on this data. Deal with the resulting issue).\n",
    "2. Deal with the issue you encountered above.\n",
    "3. How did you deal with the error generated by `train_test_split`? How did you justify your action? "
   ]
  },
  {
   "cell_type": "markdown",
   "metadata": {},
   "source": [
    "## Part 3.3: Exploration\n",
    "Now that we won't be peeking at the test set, let's explore and look for patterns! We'll introduce a number of useful pandas and numpy functions along the way. (Note: Homework 3 has you explore on the full dataset. What's the cost/benefit of exploring on the full data versus the training data?)"
   ]
  },
  {
   "cell_type": "markdown",
   "metadata": {},
   "source": [
    "### Groupby\n",
    "Pandas' `.groupby()` function is a wonderful tool for data analysis. It allows us to analyze each of several subgroups.\n",
    "\n",
    "Many times, `.groupby()` is combined with `.agg()` to get a summary statistic for each subgroup. For instance: What is the average market value, median page views, and maximum fpl for each player position?"
   ]
  },
  {
   "cell_type": "code",
   "execution_count": 28,
   "metadata": {
    "scrolled": false
   },
   "outputs": [
    {
     "data": {
      "text/html": [
       "<div>\n",
       "<style scoped>\n",
       "    .dataframe tbody tr th:only-of-type {\n",
       "        vertical-align: middle;\n",
       "    }\n",
       "\n",
       "    .dataframe tbody tr th {\n",
       "        vertical-align: top;\n",
       "    }\n",
       "\n",
       "    .dataframe thead th {\n",
       "        text-align: right;\n",
       "    }\n",
       "</style>\n",
       "<table border=\"1\" class=\"dataframe\">\n",
       "  <thead>\n",
       "    <tr style=\"text-align: right;\">\n",
       "      <th></th>\n",
       "      <th>market_value</th>\n",
       "      <th>page_views</th>\n",
       "      <th>fpl_points</th>\n",
       "    </tr>\n",
       "    <tr>\n",
       "      <th>position</th>\n",
       "      <th></th>\n",
       "      <th></th>\n",
       "      <th></th>\n",
       "    </tr>\n",
       "  </thead>\n",
       "  <tbody>\n",
       "    <tr>\n",
       "      <th>AM</th>\n",
       "      <td>27.750000</td>\n",
       "      <td>1271.5</td>\n",
       "      <td>218</td>\n",
       "    </tr>\n",
       "    <tr>\n",
       "      <th>CB</th>\n",
       "      <td>8.871831</td>\n",
       "      <td>305.0</td>\n",
       "      <td>178</td>\n",
       "    </tr>\n",
       "    <tr>\n",
       "      <th>CF</th>\n",
       "      <td>14.869318</td>\n",
       "      <td>811.0</td>\n",
       "      <td>224</td>\n",
       "    </tr>\n",
       "    <tr>\n",
       "      <th>CM</th>\n",
       "      <td>11.140625</td>\n",
       "      <td>428.5</td>\n",
       "      <td>225</td>\n",
       "    </tr>\n",
       "    <tr>\n",
       "      <th>DM</th>\n",
       "      <td>10.240741</td>\n",
       "      <td>476.0</td>\n",
       "      <td>131</td>\n",
       "    </tr>\n",
       "    <tr>\n",
       "      <th>GK</th>\n",
       "      <td>6.620833</td>\n",
       "      <td>398.5</td>\n",
       "      <td>149</td>\n",
       "    </tr>\n",
       "    <tr>\n",
       "      <th>LB</th>\n",
       "      <td>9.391304</td>\n",
       "      <td>297.0</td>\n",
       "      <td>177</td>\n",
       "    </tr>\n",
       "    <tr>\n",
       "      <th>LM</th>\n",
       "      <td>3.833333</td>\n",
       "      <td>279.5</td>\n",
       "      <td>99</td>\n",
       "    </tr>\n",
       "    <tr>\n",
       "      <th>LW</th>\n",
       "      <td>11.551667</td>\n",
       "      <td>470.5</td>\n",
       "      <td>264</td>\n",
       "    </tr>\n",
       "    <tr>\n",
       "      <th>RB</th>\n",
       "      <td>7.439655</td>\n",
       "      <td>236.0</td>\n",
       "      <td>170</td>\n",
       "    </tr>\n",
       "    <tr>\n",
       "      <th>RM</th>\n",
       "      <td>10.166667</td>\n",
       "      <td>566.0</td>\n",
       "      <td>105</td>\n",
       "    </tr>\n",
       "    <tr>\n",
       "      <th>RW</th>\n",
       "      <td>11.405172</td>\n",
       "      <td>504.0</td>\n",
       "      <td>162</td>\n",
       "    </tr>\n",
       "    <tr>\n",
       "      <th>SS</th>\n",
       "      <td>11.916667</td>\n",
       "      <td>899.0</td>\n",
       "      <td>180</td>\n",
       "    </tr>\n",
       "  </tbody>\n",
       "</table>\n",
       "</div>"
      ],
      "text/plain": [
       "          market_value  page_views  fpl_points\n",
       "position                                      \n",
       "AM           27.750000      1271.5         218\n",
       "CB            8.871831       305.0         178\n",
       "CF           14.869318       811.0         224\n",
       "CM           11.140625       428.5         225\n",
       "DM           10.240741       476.0         131\n",
       "GK            6.620833       398.5         149\n",
       "LB            9.391304       297.0         177\n",
       "LM            3.833333       279.5          99\n",
       "LW           11.551667       470.5         264\n",
       "RB            7.439655       236.0         170\n",
       "RM           10.166667       566.0         105\n",
       "RW           11.405172       504.0         162\n",
       "SS           11.916667       899.0         180"
      ]
     },
     "execution_count": 28,
     "metadata": {},
     "output_type": "execute_result"
    }
   ],
   "source": [
    "train_data.groupby('position').agg({\n",
    "    'market_value': np.mean,\n",
    "    'page_views': np.median,\n",
    "    'fpl_points': np.max\n",
    "})"
   ]
  },
  {
   "cell_type": "markdown",
   "metadata": {},
   "source": [
    "<div class=\"exercise\"><b>Exercise 8</b></div>\n",
    "**Questions**:\n",
    "1. What happens if we give `.groupyby()` multiple column names? What are the average market_value, page views, and fpl_points for each position within big clubs and within small clubs?\n",
    "2. It is possible to loop over results returned by .groupby(). If we write `for x in df.groupby()`, what is stored in x? If we write `for y,z in df.groupby()`, what is stored in y and z? Does it depend on how many features we're grouping by? Write code to investigate."
   ]
  },
  {
   "cell_type": "markdown",
   "metadata": {},
   "source": [
    "#### Using groupby\n",
    "Let's use the groupby data to answer an investigative question: **How does player position affect the distribution of `market value`?** If we only wanted to know about the mean market value we could just .agg(), but here we want to study and plot the whole distribution. \n",
    "\n",
    "Notice:\n",
    " - We can set the labels on each x tick to be the name of the given position\n",
    " - We make a plot for each different player position\n",
    " - Violin plots are good at showing where the mass of a distribution is, and boxplots are good at showing extreme values and outliers"
   ]
  },
  {
   "cell_type": "code",
   "execution_count": 31,
   "metadata": {},
   "outputs": [
    {
     "data": {
      "image/png": "[encoded data removed]",
      "text/plain": [
       "<matplotlib.figure.Figure at 0x19982788908>"
      ]
     },
     "metadata": {},
     "output_type": "display_data"
    }
   ],
   "source": [
    "# plot several violin plots\n",
    "cur_x_pos = 0\n",
    "\n",
    "# for each position, violinplot the various market values of that group\n",
    "for cur_player_position, cur_df in train_data.groupby('position'):\n",
    "    plt.violinplot(cur_df['market_value'], positions=[cur_x_pos])\n",
    "    cur_x_pos+=1\n",
    "\n",
    "# get the name of each position and set the x ticks\n",
    "position_names = [x[0] for x in train_data.groupby('position')]\n",
    "plt.xticks(range(len(position_names)), position_names);\n",
    "\n",
    "# fill in the remaining labels\n",
    "plt.xlabel(\"Player Position\")\n",
    "plt.ylabel(\"Market Value\")\n",
    "plt.title(\"Distribution of Market Values\")\n",
    "plt.show()"
   ]
  },
  {
   "cell_type": "code",
   "execution_count": 32,
   "metadata": {},
   "outputs": [
    {
     "data": {
      "image/png": "[encoded data removed]",
      "text/plain": [
       "<matplotlib.figure.Figure at 0x1998422c2b0>"
      ]
     },
     "metadata": {},
     "output_type": "display_data"
    }
   ],
   "source": [
    "# again, but with box plots\n",
    "cur_x_pos = 0\n",
    "for cur_position,cur_df in train_data.groupby('position'):\n",
    "    box_output = plt.boxplot(cur_df['market_value'], positions=[cur_x_pos])\n",
    "    cur_x_pos+=1\n",
    "\n",
    "# get the name of each position and set the x ticks\n",
    "position_names = [x[0] for x in train_data.groupby('position')]\n",
    "plt.xticks(range(len(position_names)), position_names);\n",
    "plt.xlim(-1,len(position_names))\n",
    "\n",
    "# fill in the remaining labels\n",
    "plt.xlabel(\"Player Position\")\n",
    "plt.ylabel(\"Market Value\")\n",
    "plt.title(\"Distribution of Market Values\")\n",
    "plt.show()"
   ]
  },
  {
   "cell_type": "markdown",
   "metadata": {},
   "source": [
    "<div class=\"exercise\"><b>Exercise 9</b></div>\n",
    "**Questions**\n",
    "1. One SS (Second Striker) player is way outside the rest of the distribution. Who is it?"
   ]
  },
  {
   "cell_type": "markdown",
   "metadata": {},
   "source": [
    "### Part 3.4: Deep explortation with groupby and plotting\n",
    "\n",
    "We want to investigate the question **Does being at a big club versus a small club affect the distribution of market values at each position?**. This is a good chance to use a two-level groupby(): we'll need the various market values at each position/club combination, and we'll need to plot them\n",
    "\n",
    "So we're all on the same page, we'll number each position according to this list, so AM is position 0, SS is position 12 and so forth."
   ]
  },
  {
   "cell_type": "code",
   "execution_count": 34,
   "metadata": {},
   "outputs": [
    {
     "data": {
      "text/plain": [
       "['AM', 'CB', 'CF', 'CM', 'DM', 'GK', 'LB', 'LM', 'LW', 'RB', 'RM', 'RW', 'SS']"
      ]
     },
     "execution_count": 34,
     "metadata": {},
     "output_type": "execute_result"
    }
   ],
   "source": [
    "position_names = [x[0] for x in train_data.groupby('position')]\n",
    "position_names"
   ]
  },
  {
   "cell_type": "markdown",
   "metadata": {},
   "source": [
    "We're going to use an advanced feature of the violin plots: they can take in a _list_ of datasets and x positions, and not just a single dataset/x position!\n",
    "\n",
    "<div class=\"exercise\"><b>Exercise 10</b></div>\n",
    "**Questions**:\n",
    "1. build two lists of data for the big clubs: \n",
    " - one list `bc_data` where bc_data[i] contains a column vector of the market values of players in a given poision at big clubs\n",
    " - one list `bc_x_pos` where bc_x_pos[i] is the index of that position in position_names. We'll use this as the x position of each violin\n",
    "2. build the same two lists (`sc_data`, and `sc_x_pos`) for the small clubs. If you're an advanced coder, be sure you produce all lists in a single pass through the gropby data.\n",
    "3. Verify that the big club lists are one element shorter than the small club lists, because big clubs are missing LM and SS.\n",
    "4. Use the provided code to make a violinplot (or boxplot) of the market values at each club/position combination."
   ]
  },
  {
   "cell_type": "code",
   "execution_count": 35,
   "metadata": {},
   "outputs": [],
   "source": [
    "# your code here"
   ]
  },
  {
   "cell_type": "code",
   "execution_count": null,
   "metadata": {},
   "outputs": [],
   "source": [
    "# the violinplot can take in a list where each entry is a dataset\n",
    "plt.violinplot(bc_data, positions = bc_x_pos)\n",
    "plt.violinplot(sc_data, positions = [x+.2 for x in sc_x_pos])\n",
    "\n",
    "# properly label the x-axis\n",
    "plt.xticks(range(len(position_names)), position_names);\n",
    "\n",
    "# title, etc\n",
    "plt.xlabel(\"Player Position\")\n",
    "plt.ylabel(\"Market Value\")\n",
    "plt.title(\"Distribution of Market Values\")\n",
    "plt.legend([\"Big Clubs\"])\n",
    "plt.show()"
   ]
  },
  {
   "cell_type": "markdown",
   "metadata": {},
   "source": [
    "\n",
    "<div class=\"notice\"><b>Notice</b></div>\n",
    " - We plot each series at the same x value, but the second series is offset by a little (.2 in this case). This makes comparing distributions easier than if we had made two separate plots.\n",
    " - Putting a legend on this kind of violin plot is hard. We settle for just labeling one series."
   ]
  },
  {
   "cell_type": "markdown",
   "metadata": {},
   "source": [
    "<div class=\"exercise\"><b>Exercise 11</b></div>\n",
    "**Questions**:\n",
    "1. What conclusions do you draw from the distributions above? What does the plot convey well, and what does it do poorly?\n",
    "2. Do the results make sense, or could there be something fishy about our data?\n",
    "3. What could we do with our plot if we wanted to additionally show the effect of `region`?"
   ]
  },
  {
   "cell_type": "markdown",
   "metadata": {},
   "source": [
    "## Part 3 recap\n",
    "In this section we covered\n",
    " - Verifying fresh data\n",
    " - Splitting into training and test sets with equal representation of given categories\n",
    " - Exploring relationships in the data via `.groupby` and `.agg`\n",
    " - Plotting the distribution of data via `violinplot` and `boxplot`"
   ]
  },
  {
   "cell_type": "markdown",
   "metadata": {},
   "source": [
    "<hr style=\"height:3px\">\n",
    "## Part 4: Linear regression on the football data\n",
    "This section of the lab focuses on fitting a model to the football data and interpreting the model results. The model we'll use is\n",
    "\n",
    "$$\\text{market_value} \\approx \\beta_0 + \\beta_1\\text{fpl_points} + \\beta_2\\text{age} + \\beta_3\\text{age}^2 + \\beta_4log_2\\left(\\text{page_views}\\right) + \\beta_5\\text{new_signing} +\\beta_6\\text{big_club} + \\beta_7\\text{position_cat}$$\n",
    "\n",
    "We're including a 2nd degree polynomial in age because we expect pay to increase as a player gains experience, but then decrease as they continue aging. We're taking the log of page views because they have such a large, skewed range and the transformed variable will have fewer outliers that could bias the line. We choose the base of the log to be 2 just to make interpretation cleaner.\n",
    "\n",
    "<div class=\"exercise\"><b>Exercise 12</b></div>\n",
    "**Questions**:\n",
    "1. Build a design matrix function and fit this model to the training data. How good is the overall model?\n",
    "2. Interpret the regression model. What is the meaning of the coefficient for:\n",
    "    - fpl_points\n",
    "    - age and age$^2$\n",
    "    - $log_2($page_views$)$\n",
    "    - new_signing\n",
    "    - big_club\n",
    "    - position_cat\n",
    "2. What should a player do in order to improve their market value? How many page views should a player go get to increase their market value by 10?"
   ]
  },
  {
   "cell_type": "markdown",
   "metadata": {},
   "source": [
    "<hr style='height:3px'>\n",
    "### Part 4.2: Turning Categorical Variables into multiple binary variables\n",
    "Of course, we have an error in how we've included player position. Even though the variable is numeric (1,2,3,4) and the model runs without issue, the value we're getting back is garbage. The interpretation, such as it is, is that there is an equal effect of moving from position category 1 to 2, from 2 to 3, and from 3 to 4, and that this effect is about -.61.\n",
    "\n",
    "In reality, we don't expect moving from one position category to another to be equivalent, nor for a move from category 1 to category 3 to be twice as important as a move from category 1 to category 2. We need to introduce better features to model this variable.\n",
    "\n",
    "We'll use `pd.get_dummies` to do the work for us."
   ]
  },
  {
   "cell_type": "code",
   "execution_count": 43,
   "metadata": {},
   "outputs": [
    {
     "data": {
      "text/html": [
       "<div>\n",
       "<style scoped>\n",
       "    .dataframe tbody tr th:only-of-type {\n",
       "        vertical-align: middle;\n",
       "    }\n",
       "\n",
       "    .dataframe tbody tr th {\n",
       "        vertical-align: top;\n",
       "    }\n",
       "\n",
       "    .dataframe thead th {\n",
       "        text-align: right;\n",
       "    }\n",
       "</style>\n",
       "<table border=\"1\" class=\"dataframe\">\n",
       "  <thead>\n",
       "    <tr style=\"text-align: right;\">\n",
       "      <th></th>\n",
       "      <th>const</th>\n",
       "      <th>fpl_points</th>\n",
       "      <th>age</th>\n",
       "      <th>age_squared</th>\n",
       "      <th>log_views</th>\n",
       "      <th>new_signing</th>\n",
       "      <th>big_club</th>\n",
       "      <th>position_cat_2</th>\n",
       "      <th>position_cat_3</th>\n",
       "      <th>position_cat_4</th>\n",
       "    </tr>\n",
       "  </thead>\n",
       "  <tbody>\n",
       "    <tr>\n",
       "      <th>233</th>\n",
       "      <td>1.0</td>\n",
       "      <td>5</td>\n",
       "      <td>17</td>\n",
       "      <td>289</td>\n",
       "      <td>10.277287</td>\n",
       "      <td>0</td>\n",
       "      <td>1</td>\n",
       "      <td>0</td>\n",
       "      <td>0</td>\n",
       "      <td>0</td>\n",
       "    </tr>\n",
       "    <tr>\n",
       "      <th>44</th>\n",
       "      <td>1.0</td>\n",
       "      <td>36</td>\n",
       "      <td>21</td>\n",
       "      <td>441</td>\n",
       "      <td>8.977280</td>\n",
       "      <td>0</td>\n",
       "      <td>0</td>\n",
       "      <td>0</td>\n",
       "      <td>0</td>\n",
       "      <td>0</td>\n",
       "    </tr>\n",
       "    <tr>\n",
       "      <th>221</th>\n",
       "      <td>1.0</td>\n",
       "      <td>106</td>\n",
       "      <td>28</td>\n",
       "      <td>784</td>\n",
       "      <td>9.467606</td>\n",
       "      <td>0</td>\n",
       "      <td>1</td>\n",
       "      <td>0</td>\n",
       "      <td>1</td>\n",
       "      <td>0</td>\n",
       "    </tr>\n",
       "    <tr>\n",
       "      <th>324</th>\n",
       "      <td>1.0</td>\n",
       "      <td>12</td>\n",
       "      <td>21</td>\n",
       "      <td>441</td>\n",
       "      <td>6.781360</td>\n",
       "      <td>0</td>\n",
       "      <td>0</td>\n",
       "      <td>0</td>\n",
       "      <td>1</td>\n",
       "      <td>0</td>\n",
       "    </tr>\n",
       "    <tr>\n",
       "      <th>159</th>\n",
       "      <td>1.0</td>\n",
       "      <td>0</td>\n",
       "      <td>24</td>\n",
       "      <td>576</td>\n",
       "      <td>8.741467</td>\n",
       "      <td>0</td>\n",
       "      <td>0</td>\n",
       "      <td>0</td>\n",
       "      <td>0</td>\n",
       "      <td>0</td>\n",
       "    </tr>\n",
       "  </tbody>\n",
       "</table>\n",
       "</div>"
      ],
      "text/plain": [
       "     const  fpl_points  age  age_squared  log_views  new_signing  big_club  \\\n",
       "233    1.0           5   17          289  10.277287            0         1   \n",
       "44     1.0          36   21          441   8.977280            0         0   \n",
       "221    1.0         106   28          784   9.467606            0         1   \n",
       "324    1.0          12   21          441   6.781360            0         0   \n",
       "159    1.0           0   24          576   8.741467            0         0   \n",
       "\n",
       "     position_cat_2  position_cat_3  position_cat_4  \n",
       "233               0               0               0  \n",
       "44                0               0               0  \n",
       "221               0               1               0  \n",
       "324               0               1               0  \n",
       "159               0               0               0  "
      ]
     },
     "execution_count": 43,
     "metadata": {},
     "output_type": "execute_result"
    }
   ],
   "source": [
    "train_design_recoded = pd.get_dummies(train_design, columns=['position_cat'], drop_first=True)\n",
    "test_design_recoded = pd.get_dummies(test_design, columns=['position_cat'], drop_first=True)\n",
    "\n",
    "train_design_recoded.head()"
   ]
  },
  {
   "cell_type": "markdown",
   "metadata": {},
   "source": [
    "We've removed the original `position_cat` column and created three new ones.\n",
    "\n",
    "#### Why only three new columns?\n",
    "Why does pandas give us the option to drop the first category? It's because keeping all four categories could cause an error in the model. To see why, suppose that the true beta values for the four columns were $[1,2,3,4]$ and the beta for the constant was $0$. A player in category 1 makes \\$1 and a player in category 3 makes \\$3. But if we change the values to be $[0,1,2,3]$ and $1$ a player in category 1 still makes \\$1 and a player in category 3 still makes \\$3. It becomes impossible for the model to decide which set of beta values to hand to us.\n",
    "\n",
    "<div class=\"exercise\"><b>Exercise 13</b></div>\n",
    "**Questions**:\n",
    "1. If we're fitting a model without a constant, should we have three dummy columns or four dummy columns?\n",
    "2. Fit a model and interpret the coefficient of `position_cat_2`.\n"
   ]
  },
  {
   "cell_type": "markdown",
   "metadata": {},
   "source": [
    "## Part 4 Recap:\n",
    "In this section we covered\n",
    " - Building a design matrix for a complicated model\n",
    " - Interpreting model parameters, including those for tranformed and binary/dummy variables\n",
    " - Building multiple dummy variables to properly include categorical features in a multiple regression model"
   ]
  },
  {
   "cell_type": "code",
   "execution_count": null,
   "metadata": {},
   "outputs": [],
   "source": []
  }
 ],
 "metadata": {
  "kernelspec": {
   "display_name": "Python 3",
   "language": "python",
   "name": "python3"
  },
  "language_info": {
   "codemirror_mode": {
    "name": "ipython",
    "version": 3
   },
   "file_extension": ".py",
   "mimetype": "text/x-python",
   "name": "python",
   "nbconvert_exporter": "python",
   "pygments_lexer": "ipython3",
   "version": "3.6.5"
  }
 },
 "nbformat": 4,
 "nbformat_minor": 2
}
