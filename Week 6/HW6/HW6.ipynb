{
 "cells": [
  {
   "cell_type": "markdown",
   "metadata": {},
   "source": [
    "# <img style=\"float: left; padding-right: 10px; width: 45px\" src=\"iacs.png\"> S-109A Introduction to Data Science: \n",
    "\n",
    "## Homework 6: Ensemble Methods, and Neural Networks\n",
    "\n",
    "\n",
    "**Harvard University**<br/>\n",
    "**Summer 2018**<br/>\n",
    "**Instructors**: Pavlos Protopapas, Kevin Rader\n",
    "\n",
    "<hr style=\"height:2pt\">\n",
    "\n"
   ]
  },
  {
   "cell_type": "code",
   "execution_count": 40,
   "metadata": {},
   "outputs": [
    {
     "data": {
      "text/html": [
       "<style>\n",
       "h1 { \n",
       "    padding-top: 25px;\n",
       "    padding-bottom: 25px;\n",
       "    text-align: left; \n",
       "    padding-left: 10px;\n",
       "    background-color: #DDDDDD; \n",
       "    color: black;\n",
       "}\n",
       "div.exercise {\n",
       "\tbackground-color: #ffcccc;\n",
       "\tborder-color: #E9967A; \t\n",
       "\tborder-left: 5px solid #800080; \n",
       "\tpadding: 0.5em;\n",
       "}\n",
       "div.theme {\n",
       "\tbackground-color: #DDDDDD;\n",
       "\tborder-color: #E9967A; \t\n",
       "\tborder-left: 5px solid #800080; \n",
       "\tpadding: 0.5em;\n",
       "\tfont-size: 18pt;\n",
       "}\n",
       "p.q1 { \n",
       "    padding-top: 5px;\n",
       "    padding-bottom: 5px;\n",
       "    text-align: left; \n",
       "    padding-left: 5px;\n",
       "    background-color: #EEEEEE; \n",
       "    color: black;\n",
       "}\n",
       "header {\n",
       "   padding-top: 35px;\n",
       "    padding-bottom: 35px;\n",
       "    text-align: left; \n",
       "    padding-left: 10px;\n",
       "    background-color: #DDDDDD; \n",
       "    color: black;\n",
       "}\n",
       "</style>\n",
       "\n"
      ],
      "text/plain": [
       "<IPython.core.display.HTML object>"
      ]
     },
     "execution_count": 40,
     "metadata": {},
     "output_type": "execute_result"
    }
   ],
   "source": [
    "from IPython.core.display import HTML\n",
    "def css_styling(): styles = open(\"cs109.css\", \"r\").read(); return HTML(styles)\n",
    "css_styling()"
   ]
  },
  {
   "cell_type": "markdown",
   "metadata": {},
   "source": [
    "## Assumed Skills:\n",
    "This assignment presumes knowledge of the following skills:\n",
    "- Familiarity with sklearn's model objects\n",
    "- Cross validation to estimate models' future performance\n",
    "- Booststrapping to build alternative datasets\n",
    "- Some instruction on Keras' interface for building and training neural networks"
   ]
  },
  {
   "cell_type": "markdown",
   "metadata": {},
   "source": [
    "Import libraries:"
   ]
  },
  {
   "cell_type": "code",
   "execution_count": 41,
   "metadata": {},
   "outputs": [],
   "source": [
    "import numpy as np\n",
    "import pandas as pd\n",
    "import matplotlib.pyplot as plt\n",
    "\n",
    "from sklearn.model_selection import cross_val_score\n",
    "from sklearn.utils import resample\n",
    "from sklearn.tree import DecisionTreeClassifier\n",
    "from sklearn.ensemble import RandomForestClassifier\n",
    "from sklearn.ensemble import AdaBoostClassifier\n",
    "from sklearn.linear_model import LogisticRegressionCV\n",
    "\n",
    "from keras.models import Sequential\n",
    "from keras.layers import Dense\n",
    "\n",
    "%matplotlib inline\n",
    "\n",
    "import seaborn as sns\n",
    "pd.set_option('display.width', 1500)\n",
    "pd.set_option('display.max_columns', 100)"
   ]
  },
  {
   "cell_type": "markdown",
   "metadata": {},
   "source": [
    "# Higgs Boson Discovery\n",
    "\n",
    "The discovery of the Higgs boson in July 2012 marked a fundamental breakthrough in particle physics. The Higgs boson particle was discovered through experiments at the Large Hadron Collider at CERN, by colliding beams of protons at high energy. A key challenge in analyzing the results of these experiments is to differentiate between collisions that produce Higgs bosons and collisions that produce only background noise. We shall explore the use of ensemble methods for this classification task.\n",
    "\n",
    "You are provided with data from Monte-Carlo simulations of collisions of particles in a particle collider experiment. The training set is available in `Higgs_train.csv` and the test set is in `Higgs_test.csv`. Each row in these files corresponds to a particle collision described by 28 features (columns 1-28), of which the first 21 features are kinematic properties measured by the particle detectors in the accelerator, and the remaining features are derived by physicists from the first 21 features. The class label is provided in the last column, with a label of 1 indicating that the collision produces Higgs bosons (signal), and a label of 0 indicating that the collision produces other particles (background). \n",
    "\n",
    "The data set provided to you is a small subset of the HIGGS data set in the UCI machine learning repository. The following paper contains further details about the data set and the predictors used: <a href = \"https://www.nature.com/articles/ncomms5308\">Baldi et al., Nature Communications 5, 2014</a>."
   ]
  },
  {
   "cell_type": "code",
   "execution_count": 42,
   "metadata": {},
   "outputs": [],
   "source": [
    "data_train = pd.read_csv('data/Higgs_train.csv')\n",
    "data_test = pd.read_csv('data/Higgs_test.csv')"
   ]
  },
  {
   "cell_type": "code",
   "execution_count": 43,
   "metadata": {
    "scrolled": true
   },
   "outputs": [
    {
     "data": {
      "text/html": [
       "<div>\n",
       "<style scoped>\n",
       "    .dataframe tbody tr th:only-of-type {\n",
       "        vertical-align: middle;\n",
       "    }\n",
       "\n",
       "    .dataframe tbody tr th {\n",
       "        vertical-align: top;\n",
       "    }\n",
       "\n",
       "    .dataframe thead th {\n",
       "        text-align: right;\n",
       "    }\n",
       "</style>\n",
       "<table border=\"1\" class=\"dataframe\">\n",
       "  <thead>\n",
       "    <tr style=\"text-align: right;\">\n",
       "      <th></th>\n",
       "      <th>lepton pT</th>\n",
       "      <th>lepton eta</th>\n",
       "      <th>lepton phi</th>\n",
       "      <th>missing energy magnitude</th>\n",
       "      <th>missing energy phi</th>\n",
       "      <th>jet 1 pt</th>\n",
       "      <th>jet 1 eta</th>\n",
       "      <th>jet 1 phi</th>\n",
       "      <th>jet 1 b-tag</th>\n",
       "      <th>jet 2 pt</th>\n",
       "      <th>jet 2 eta</th>\n",
       "      <th>jet 2 phi</th>\n",
       "      <th>jet 2 b-tag</th>\n",
       "      <th>jet 3 pt</th>\n",
       "      <th>jet 3 eta</th>\n",
       "      <th>jet 3 phi</th>\n",
       "      <th>jet 3 b-tag</th>\n",
       "      <th>jet 4 pt</th>\n",
       "      <th>jet 4 eta</th>\n",
       "      <th>jet 4 phi</th>\n",
       "      <th>jet 4 b-tag</th>\n",
       "      <th>m_jj</th>\n",
       "      <th>m_jjj</th>\n",
       "      <th>m_lv</th>\n",
       "      <th>m_jlv</th>\n",
       "      <th>m_bb</th>\n",
       "      <th>m_wbb</th>\n",
       "      <th>m_wwbb</th>\n",
       "      <th>class</th>\n",
       "    </tr>\n",
       "  </thead>\n",
       "  <tbody>\n",
       "    <tr>\n",
       "      <th>0</th>\n",
       "      <td>0.377</td>\n",
       "      <td>-1.5800</td>\n",
       "      <td>-1.7100</td>\n",
       "      <td>0.991</td>\n",
       "      <td>0.114</td>\n",
       "      <td>1.250</td>\n",
       "      <td>0.620</td>\n",
       "      <td>-1.480</td>\n",
       "      <td>2.17</td>\n",
       "      <td>0.754</td>\n",
       "      <td>0.7750</td>\n",
       "      <td>-0.667</td>\n",
       "      <td>2.21</td>\n",
       "      <td>1.280</td>\n",
       "      <td>-1.190</td>\n",
       "      <td>0.505</td>\n",
       "      <td>0.00</td>\n",
       "      <td>1.110</td>\n",
       "      <td>-0.464</td>\n",
       "      <td>0.397</td>\n",
       "      <td>0.00</td>\n",
       "      <td>0.522</td>\n",
       "      <td>1.320</td>\n",
       "      <td>0.982</td>\n",
       "      <td>1.360</td>\n",
       "      <td>0.965</td>\n",
       "      <td>1.310</td>\n",
       "      <td>1.080</td>\n",
       "      <td>1.0</td>\n",
       "    </tr>\n",
       "    <tr>\n",
       "      <th>1</th>\n",
       "      <td>0.707</td>\n",
       "      <td>0.0876</td>\n",
       "      <td>-0.4000</td>\n",
       "      <td>0.919</td>\n",
       "      <td>-1.230</td>\n",
       "      <td>1.170</td>\n",
       "      <td>-0.553</td>\n",
       "      <td>0.886</td>\n",
       "      <td>2.17</td>\n",
       "      <td>1.300</td>\n",
       "      <td>0.7620</td>\n",
       "      <td>-1.060</td>\n",
       "      <td>2.21</td>\n",
       "      <td>0.607</td>\n",
       "      <td>0.459</td>\n",
       "      <td>1.020</td>\n",
       "      <td>0.00</td>\n",
       "      <td>0.497</td>\n",
       "      <td>0.956</td>\n",
       "      <td>0.236</td>\n",
       "      <td>0.00</td>\n",
       "      <td>0.440</td>\n",
       "      <td>0.829</td>\n",
       "      <td>0.992</td>\n",
       "      <td>1.160</td>\n",
       "      <td>2.220</td>\n",
       "      <td>1.190</td>\n",
       "      <td>0.938</td>\n",
       "      <td>1.0</td>\n",
       "    </tr>\n",
       "    <tr>\n",
       "      <th>2</th>\n",
       "      <td>0.617</td>\n",
       "      <td>0.2660</td>\n",
       "      <td>-1.3500</td>\n",
       "      <td>1.150</td>\n",
       "      <td>1.040</td>\n",
       "      <td>0.955</td>\n",
       "      <td>0.377</td>\n",
       "      <td>-0.148</td>\n",
       "      <td>0.00</td>\n",
       "      <td>1.060</td>\n",
       "      <td>-0.0194</td>\n",
       "      <td>1.110</td>\n",
       "      <td>0.00</td>\n",
       "      <td>1.470</td>\n",
       "      <td>0.205</td>\n",
       "      <td>-1.060</td>\n",
       "      <td>2.55</td>\n",
       "      <td>1.490</td>\n",
       "      <td>-0.398</td>\n",
       "      <td>-0.542</td>\n",
       "      <td>0.00</td>\n",
       "      <td>1.020</td>\n",
       "      <td>1.030</td>\n",
       "      <td>0.986</td>\n",
       "      <td>0.928</td>\n",
       "      <td>1.370</td>\n",
       "      <td>0.982</td>\n",
       "      <td>0.917</td>\n",
       "      <td>1.0</td>\n",
       "    </tr>\n",
       "    <tr>\n",
       "      <th>3</th>\n",
       "      <td>0.851</td>\n",
       "      <td>-0.3810</td>\n",
       "      <td>-0.0713</td>\n",
       "      <td>1.470</td>\n",
       "      <td>-0.795</td>\n",
       "      <td>0.692</td>\n",
       "      <td>0.883</td>\n",
       "      <td>0.497</td>\n",
       "      <td>0.00</td>\n",
       "      <td>1.620</td>\n",
       "      <td>0.1240</td>\n",
       "      <td>1.180</td>\n",
       "      <td>1.11</td>\n",
       "      <td>1.290</td>\n",
       "      <td>0.160</td>\n",
       "      <td>-0.916</td>\n",
       "      <td>2.55</td>\n",
       "      <td>0.945</td>\n",
       "      <td>0.796</td>\n",
       "      <td>-1.520</td>\n",
       "      <td>0.00</td>\n",
       "      <td>1.200</td>\n",
       "      <td>1.100</td>\n",
       "      <td>0.987</td>\n",
       "      <td>1.350</td>\n",
       "      <td>1.460</td>\n",
       "      <td>0.995</td>\n",
       "      <td>0.954</td>\n",
       "      <td>1.0</td>\n",
       "    </tr>\n",
       "    <tr>\n",
       "      <th>4</th>\n",
       "      <td>0.768</td>\n",
       "      <td>-0.6920</td>\n",
       "      <td>-0.0402</td>\n",
       "      <td>0.615</td>\n",
       "      <td>0.144</td>\n",
       "      <td>0.749</td>\n",
       "      <td>0.397</td>\n",
       "      <td>-0.874</td>\n",
       "      <td>0.00</td>\n",
       "      <td>1.150</td>\n",
       "      <td>0.1270</td>\n",
       "      <td>1.320</td>\n",
       "      <td>2.21</td>\n",
       "      <td>0.730</td>\n",
       "      <td>-0.758</td>\n",
       "      <td>-1.120</td>\n",
       "      <td>0.00</td>\n",
       "      <td>0.848</td>\n",
       "      <td>0.107</td>\n",
       "      <td>0.502</td>\n",
       "      <td>1.55</td>\n",
       "      <td>0.922</td>\n",
       "      <td>0.864</td>\n",
       "      <td>0.983</td>\n",
       "      <td>1.370</td>\n",
       "      <td>0.601</td>\n",
       "      <td>0.919</td>\n",
       "      <td>0.957</td>\n",
       "      <td>0.0</td>\n",
       "    </tr>\n",
       "  </tbody>\n",
       "</table>\n",
       "</div>"
      ],
      "text/plain": [
       "   lepton pT  lepton eta  lepton phi  missing energy magnitude  missing energy phi  jet 1 pt  jet 1 eta  jet 1 phi  jet 1 b-tag  jet 2 pt  jet 2 eta  jet 2 phi  jet 2 b-tag  jet 3 pt  jet 3 eta  jet 3 phi  jet 3 b-tag  jet 4 pt  jet 4 eta  jet 4 phi  jet 4 b-tag   m_jj  m_jjj   m_lv  m_jlv   m_bb  m_wbb  m_wwbb  class\n",
       "0      0.377     -1.5800     -1.7100                     0.991               0.114     1.250      0.620     -1.480         2.17     0.754     0.7750     -0.667         2.21     1.280     -1.190      0.505         0.00     1.110     -0.464      0.397         0.00  0.522  1.320  0.982  1.360  0.965  1.310   1.080    1.0\n",
       "1      0.707      0.0876     -0.4000                     0.919              -1.230     1.170     -0.553      0.886         2.17     1.300     0.7620     -1.060         2.21     0.607      0.459      1.020         0.00     0.497      0.956      0.236         0.00  0.440  0.829  0.992  1.160  2.220  1.190   0.938    1.0\n",
       "2      0.617      0.2660     -1.3500                     1.150               1.040     0.955      0.377     -0.148         0.00     1.060    -0.0194      1.110         0.00     1.470      0.205     -1.060         2.55     1.490     -0.398     -0.542         0.00  1.020  1.030  0.986  0.928  1.370  0.982   0.917    1.0\n",
       "3      0.851     -0.3810     -0.0713                     1.470              -0.795     0.692      0.883      0.497         0.00     1.620     0.1240      1.180         1.11     1.290      0.160     -0.916         2.55     0.945      0.796     -1.520         0.00  1.200  1.100  0.987  1.350  1.460  0.995   0.954    1.0\n",
       "4      0.768     -0.6920     -0.0402                     0.615               0.144     0.749      0.397     -0.874         0.00     1.150     0.1270      1.320         2.21     0.730     -0.758     -1.120         0.00     0.848      0.107      0.502         1.55  0.922  0.864  0.983  1.370  0.601  0.919   0.957    0.0"
      ]
     },
     "execution_count": 43,
     "metadata": {},
     "output_type": "execute_result"
    }
   ],
   "source": [
    "data_train.head()"
   ]
  },
  {
   "cell_type": "code",
   "execution_count": 44,
   "metadata": {},
   "outputs": [],
   "source": [
    "X_train = data_train.iloc[:, data_train.columns != 'class']\n",
    "y_train = data_train['class'].values\n",
    "X_test = data_test.iloc[:, data_test.columns != 'class']\n",
    "y_test = data_test['class'].values"
   ]
  },
  {
   "cell_type": "markdown",
   "metadata": {},
   "source": [
    "## Question 1 (12pts): A Single Model\n",
    "We start by fitting a basic model we can compare the other models to. We'll pick an optimally-tuned decision tree as the base model, because we'll later include random forests and want a fair comparison.\n",
    "\n",
    "<div class='exercise'> Question 1</div>\n",
    "** 1.1**  Fit a decision tree model to the training set. Determine the depth-of-tree parameter via 5-fold cross-validation and plot the estimated performance +/- 2 standard deviations for the various depths.\n",
    "\n",
    "** 1.2** Select an appropriate maximum depth-of-tree, and justify your choice.\n",
    "\n",
    "**1.3** Report the model's classification accuracy on the test set."
   ]
  },
  {
   "cell_type": "markdown",
   "metadata": {},
   "source": [
    "**Answers**:  \n",
    "**1.1:** Fit a decision tree model to the training set. Determine the depth-of-tree parameter via 5-fold cross-validation and plot the estimated performance +/- 2 standard deviations for the various depths."
   ]
  },
  {
   "cell_type": "code",
   "execution_count": 45,
   "metadata": {},
   "outputs": [
    {
     "data": {
      "text/plain": [
       "Text(0,0.5,'Estimated performance')"
      ]
     },
     "execution_count": 45,
     "metadata": {},
     "output_type": "execute_result"
    },
    {
     "data": {
      "image/png": "[encoded data removed]",
      "text/plain": [
       "<Figure size 1296x432 with 1 Axes>"
      ]
     },
     "metadata": {},
     "output_type": "display_data"
    }
   ],
   "source": [
    "# your code here\n",
    "fig, ax = plt.subplots(1,1, figsize=(18,6))\n",
    "\n",
    "for cur_depth in range(1,10):\n",
    "    model = DecisionTreeClassifier(max_depth = cur_depth)\n",
    "    scores = cross_val_score(model, X_train, y_train, cv=5)\n",
    "    plt.errorbar(cur_depth, np.mean(scores), 2*np.std(scores), marker='o', label=str(cur_depth)+' depth')\n",
    "\n",
    "ax.legend()\n",
    "ax.set_title('Estimated performance +/- 2 standard deviations')\n",
    "ax.set_xlabel('Depth')\n",
    "ax.set_ylabel('Estimated performance')"
   ]
  },
  {
   "cell_type": "markdown",
   "metadata": {},
   "source": [
    "** 1.2** Select an apropriate maximum depth-of-tree, and justify your choice."
   ]
  },
  {
   "cell_type": "markdown",
   "metadata": {},
   "source": [
    "<HR>\n",
    "Appropriate maximum depth is 5 since it has the highest mean and it's 2 standard deviation ensures it's the best bet.\n",
    "<HR>"
   ]
  },
  {
   "cell_type": "markdown",
   "metadata": {},
   "source": [
    "**1.3** Report the model's classification accuracy on the test set."
   ]
  },
  {
   "cell_type": "code",
   "execution_count": 46,
   "metadata": {},
   "outputs": [
    {
     "name": "stdout",
     "output_type": "stream",
     "text": [
      "Model's classification accuracy on the test set: 64.8%\n"
     ]
    }
   ],
   "source": [
    "# your code here\n",
    "accuracy = DecisionTreeClassifier(max_depth=5).fit(X_train, y_train).score(X_test, y_test)\n",
    "print('Model\\'s classification accuracy on the test set: {0}%'.format(accuracy*100))"
   ]
  },
  {
   "cell_type": "markdown",
   "metadata": {},
   "source": [
    "## Question 2 (14 pts): Bagging\n",
    "Bagging is the technique of building the same model on multiple bootstraps from the data and combining each model's prediction to get an overall classification. In this question we build an example by hand and study how the number of bootstrapped datasets impacts the combined accuracy.\n",
    "\n",
    "<div class='exercise'> Question 2</div>\n",
    "**2.1** Create 25 bootstrapped replications of the original training data, and fit a decision tree of depth 5 to each. Record each tree's prediction. In particular, produce a dataset like those below, where each row is a training example, each column is a tree from the forest, and each entry is that tree's prediction for that training example.\n",
    "\n",
    "`bagging_train`:\n",
    "\n",
    "|     |bootstrap model 1's prediction|bootstrap model 2's prediction|...|bootstrap model 25's prediction|\n",
    "| --- | --- | --- | --- |\n",
    "|training row 1| binary value | binary value|... |binary value|\n",
    "|training row 2| binary value| binary value|... |binary value|\n",
    "|...| ...| ...|... |... |\n",
    "\n",
    "`bagging_test`:\n",
    "\n",
    "|     |bootstrap model 1's prediction|bootstrap model 2's prediction|...|bootstrap model 25's prediction|\n",
    "| --- | --- | --- | --- |\n",
    "|test row 1| binary value | binary value|... |binary value|\n",
    "|test row 2| binary value| binary value|... |binary value|\n",
    "|...| ...| ...|... |... |\n",
    "\n",
    "Store these results as `bagging_train` and `bagging_test`.\n",
    "\n",
    "**2.2** _Aggregate_ all 25 _bootstrapped_ models to get a combined prediction for each training and test point: predict a 1 if and only if a majority of the 25 models predict that example to be from class 1. Verify that this bagging model scores either 67% or 68% accuracy on the test set.\n",
    "\n",
    "**2.3** We want to know how the number of bootstraps affects our bagging ensemble's performance. Use the `running_predictions` function to get the model's accuracy score when using only 1,2,3,4,... of the bootstrapped models. Make a plot of training and test set accuracy as a function of number of bootstraps.\n",
    "\n",
    "**2.4** Analyze the graph from 2.3 and discuss the effect of adding more bootstrapped models to the ensemble. What number of trees would you use in a production model to be cost-effective?\n",
    "\n",
    "**Hints**\n",
    "- Use `resample` from sklearn to easily bootstrap the x and y data.\n",
    "- use `np.mean` to easily test for majority. If a majority of models vote 1, what does that imply about the mean?"
   ]
  },
  {
   "cell_type": "code",
   "execution_count": 47,
   "metadata": {},
   "outputs": [],
   "source": [
    "def running_predictions(prediction_dataset, targets):\n",
    "    \"\"\"A function to predict examples' class via the majority among trees (ties are predicted as 0)\n",
    "    \n",
    "    Inputs:\n",
    "      prediction_dataset - a (n_examples by n_sub_models) dataset, where each entry [i,j] is sub-model j's prediction\n",
    "          for example i\n",
    "      targets - the true class labels\n",
    "    \n",
    "    Returns:\n",
    "      a vector where vec[i] is the model's accuracy when using just the first i+1 sub-models\n",
    "    \"\"\"\n",
    "    \n",
    "    n_trees = prediction_dataset.shape[1]\n",
    "    \n",
    "    # find the running percentage of models voting 1 as more models are considered\n",
    "    running_percent_1s = np.cumsum(prediction_dataset, axis=1)/np.arange(1,n_trees+1)\n",
    "    \n",
    "    # predict 1 when the running average is above 0.5\n",
    "    running_conclusions = running_percent_1s > 0.5\n",
    "    \n",
    "    # check whether the running predictions match the targets\n",
    "    running_correctnesss = running_conclusions == targets.reshape(-1,1)\n",
    "    \n",
    "    return np.mean(running_correctnesss,axis=0)\n",
    "    # returns a 1-d series of the accuracy of using the first n trees to predict the targets"
   ]
  },
  {
   "cell_type": "markdown",
   "metadata": {},
   "source": [
    "**Answers**:  \n",
    "**2.1** Create 25 bootstrapped replications of the original training data, and fit a decision tree of depth 5 to each. In particular, produce a dataset similar to 2.1, where each row is a training example, each column is a tree from the forest, but each entry is that tree's prediction of the _probability_ that training example comes from class 1."
   ]
  },
  {
   "cell_type": "code",
   "execution_count": 48,
   "metadata": {},
   "outputs": [
    {
     "data": {
      "text/html": [
       "<div>\n",
       "<style scoped>\n",
       "    .dataframe tbody tr th:only-of-type {\n",
       "        vertical-align: middle;\n",
       "    }\n",
       "\n",
       "    .dataframe tbody tr th {\n",
       "        vertical-align: top;\n",
       "    }\n",
       "\n",
       "    .dataframe thead th {\n",
       "        text-align: right;\n",
       "    }\n",
       "</style>\n",
       "<table border=\"1\" class=\"dataframe\">\n",
       "  <thead>\n",
       "    <tr style=\"text-align: right;\">\n",
       "      <th></th>\n",
       "      <th>bootstrap model 1's prediction</th>\n",
       "      <th>bootstrap model 2's prediction</th>\n",
       "      <th>bootstrap model 3's prediction</th>\n",
       "      <th>bootstrap model 4's prediction</th>\n",
       "      <th>bootstrap model 5's prediction</th>\n",
       "      <th>bootstrap model 6's prediction</th>\n",
       "      <th>bootstrap model 7's prediction</th>\n",
       "      <th>bootstrap model 8's prediction</th>\n",
       "      <th>bootstrap model 9's prediction</th>\n",
       "      <th>bootstrap model 10's prediction</th>\n",
       "      <th>bootstrap model 11's prediction</th>\n",
       "      <th>bootstrap model 12's prediction</th>\n",
       "      <th>bootstrap model 13's prediction</th>\n",
       "      <th>bootstrap model 14's prediction</th>\n",
       "      <th>bootstrap model 15's prediction</th>\n",
       "      <th>bootstrap model 16's prediction</th>\n",
       "      <th>bootstrap model 17's prediction</th>\n",
       "      <th>bootstrap model 18's prediction</th>\n",
       "      <th>bootstrap model 19's prediction</th>\n",
       "      <th>bootstrap model 20's prediction</th>\n",
       "      <th>bootstrap model 21's prediction</th>\n",
       "      <th>bootstrap model 22's prediction</th>\n",
       "      <th>bootstrap model 23's prediction</th>\n",
       "      <th>bootstrap model 24's prediction</th>\n",
       "      <th>bootstrap model 25's prediction</th>\n",
       "    </tr>\n",
       "  </thead>\n",
       "  <tbody>\n",
       "    <tr>\n",
       "      <th>training row 1</th>\n",
       "      <td>1.0</td>\n",
       "      <td>1.0</td>\n",
       "      <td>1.0</td>\n",
       "      <td>1.0</td>\n",
       "      <td>1.0</td>\n",
       "      <td>1.0</td>\n",
       "      <td>1.0</td>\n",
       "      <td>1.0</td>\n",
       "      <td>1.0</td>\n",
       "      <td>1.0</td>\n",
       "      <td>1.0</td>\n",
       "      <td>1.0</td>\n",
       "      <td>1.0</td>\n",
       "      <td>1.0</td>\n",
       "      <td>1.0</td>\n",
       "      <td>1.0</td>\n",
       "      <td>1.0</td>\n",
       "      <td>1.0</td>\n",
       "      <td>1.0</td>\n",
       "      <td>1.0</td>\n",
       "      <td>1.0</td>\n",
       "      <td>1.0</td>\n",
       "      <td>1.0</td>\n",
       "      <td>1.0</td>\n",
       "      <td>1.0</td>\n",
       "    </tr>\n",
       "    <tr>\n",
       "      <th>training row 2</th>\n",
       "      <td>0.0</td>\n",
       "      <td>0.0</td>\n",
       "      <td>0.0</td>\n",
       "      <td>1.0</td>\n",
       "      <td>0.0</td>\n",
       "      <td>1.0</td>\n",
       "      <td>0.0</td>\n",
       "      <td>1.0</td>\n",
       "      <td>0.0</td>\n",
       "      <td>1.0</td>\n",
       "      <td>0.0</td>\n",
       "      <td>0.0</td>\n",
       "      <td>0.0</td>\n",
       "      <td>0.0</td>\n",
       "      <td>0.0</td>\n",
       "      <td>0.0</td>\n",
       "      <td>0.0</td>\n",
       "      <td>0.0</td>\n",
       "      <td>0.0</td>\n",
       "      <td>0.0</td>\n",
       "      <td>1.0</td>\n",
       "      <td>0.0</td>\n",
       "      <td>0.0</td>\n",
       "      <td>0.0</td>\n",
       "      <td>0.0</td>\n",
       "    </tr>\n",
       "    <tr>\n",
       "      <th>training row 3</th>\n",
       "      <td>1.0</td>\n",
       "      <td>1.0</td>\n",
       "      <td>0.0</td>\n",
       "      <td>0.0</td>\n",
       "      <td>1.0</td>\n",
       "      <td>0.0</td>\n",
       "      <td>0.0</td>\n",
       "      <td>1.0</td>\n",
       "      <td>0.0</td>\n",
       "      <td>0.0</td>\n",
       "      <td>0.0</td>\n",
       "      <td>0.0</td>\n",
       "      <td>1.0</td>\n",
       "      <td>0.0</td>\n",
       "      <td>0.0</td>\n",
       "      <td>0.0</td>\n",
       "      <td>0.0</td>\n",
       "      <td>0.0</td>\n",
       "      <td>0.0</td>\n",
       "      <td>0.0</td>\n",
       "      <td>0.0</td>\n",
       "      <td>0.0</td>\n",
       "      <td>0.0</td>\n",
       "      <td>0.0</td>\n",
       "      <td>0.0</td>\n",
       "    </tr>\n",
       "    <tr>\n",
       "      <th>training row 4</th>\n",
       "      <td>1.0</td>\n",
       "      <td>1.0</td>\n",
       "      <td>0.0</td>\n",
       "      <td>1.0</td>\n",
       "      <td>0.0</td>\n",
       "      <td>0.0</td>\n",
       "      <td>0.0</td>\n",
       "      <td>0.0</td>\n",
       "      <td>1.0</td>\n",
       "      <td>1.0</td>\n",
       "      <td>0.0</td>\n",
       "      <td>0.0</td>\n",
       "      <td>1.0</td>\n",
       "      <td>0.0</td>\n",
       "      <td>1.0</td>\n",
       "      <td>1.0</td>\n",
       "      <td>0.0</td>\n",
       "      <td>0.0</td>\n",
       "      <td>1.0</td>\n",
       "      <td>1.0</td>\n",
       "      <td>0.0</td>\n",
       "      <td>0.0</td>\n",
       "      <td>0.0</td>\n",
       "      <td>0.0</td>\n",
       "      <td>0.0</td>\n",
       "    </tr>\n",
       "    <tr>\n",
       "      <th>training row 5</th>\n",
       "      <td>0.0</td>\n",
       "      <td>0.0</td>\n",
       "      <td>0.0</td>\n",
       "      <td>0.0</td>\n",
       "      <td>0.0</td>\n",
       "      <td>0.0</td>\n",
       "      <td>0.0</td>\n",
       "      <td>0.0</td>\n",
       "      <td>1.0</td>\n",
       "      <td>1.0</td>\n",
       "      <td>0.0</td>\n",
       "      <td>0.0</td>\n",
       "      <td>0.0</td>\n",
       "      <td>0.0</td>\n",
       "      <td>0.0</td>\n",
       "      <td>0.0</td>\n",
       "      <td>0.0</td>\n",
       "      <td>1.0</td>\n",
       "      <td>0.0</td>\n",
       "      <td>1.0</td>\n",
       "      <td>1.0</td>\n",
       "      <td>0.0</td>\n",
       "      <td>0.0</td>\n",
       "      <td>0.0</td>\n",
       "      <td>1.0</td>\n",
       "    </tr>\n",
       "  </tbody>\n",
       "</table>\n",
       "</div>"
      ],
      "text/plain": [
       "                bootstrap model 1's prediction  bootstrap model 2's prediction  bootstrap model 3's prediction  bootstrap model 4's prediction  bootstrap model 5's prediction  bootstrap model 6's prediction  bootstrap model 7's prediction  bootstrap model 8's prediction  bootstrap model 9's prediction  bootstrap model 10's prediction  bootstrap model 11's prediction  bootstrap model 12's prediction  bootstrap model 13's prediction  bootstrap model 14's prediction  bootstrap model 15's prediction  bootstrap model 16's prediction  bootstrap model 17's prediction  bootstrap model 18's prediction  bootstrap model 19's prediction  bootstrap model 20's prediction  bootstrap model 21's prediction  bootstrap model 22's prediction  bootstrap model 23's prediction  bootstrap model 24's prediction  bootstrap model 25's prediction\n",
       "training row 1                             1.0                             1.0                             1.0                             1.0                             1.0                             1.0                             1.0                             1.0                             1.0                              1.0                              1.0                              1.0                              1.0                              1.0                              1.0                              1.0                              1.0                              1.0                              1.0                              1.0                              1.0                              1.0                              1.0                              1.0                              1.0\n",
       "training row 2                             0.0                             0.0                             0.0                             1.0                             0.0                             1.0                             0.0                             1.0                             0.0                              1.0                              0.0                              0.0                              0.0                              0.0                              0.0                              0.0                              0.0                              0.0                              0.0                              0.0                              1.0                              0.0                              0.0                              0.0                              0.0\n",
       "training row 3                             1.0                             1.0                             0.0                             0.0                             1.0                             0.0                             0.0                             1.0                             0.0                              0.0                              0.0                              0.0                              1.0                              0.0                              0.0                              0.0                              0.0                              0.0                              0.0                              0.0                              0.0                              0.0                              0.0                              0.0                              0.0\n",
       "training row 4                             1.0                             1.0                             0.0                             1.0                             0.0                             0.0                             0.0                             0.0                             1.0                              1.0                              0.0                              0.0                              1.0                              0.0                              1.0                              1.0                              0.0                              0.0                              1.0                              1.0                              0.0                              0.0                              0.0                              0.0                              0.0\n",
       "training row 5                             0.0                             0.0                             0.0                             0.0                             0.0                             0.0                             0.0                             0.0                             1.0                              1.0                              0.0                              0.0                              0.0                              0.0                              0.0                              0.0                              0.0                              1.0                              0.0                              1.0                              1.0                              0.0                              0.0                              0.0                              1.0"
      ]
     },
     "execution_count": 48,
     "metadata": {},
     "output_type": "execute_result"
    }
   ],
   "source": [
    "# your code here\n",
    "N = 25\n",
    "training_rows = np.zeros([X_train.shape[0], N])\n",
    "train_column = np.zeros(X_train.shape[0])\n",
    "test_column = np.zeros(X_test.shape[0])\n",
    "\n",
    "for cur_bootstrap_rep in range(N):\n",
    "    inds_to_sample = np.random.choice(X_train.index.values, size=X_train.shape[0], replace=True)\n",
    "    # take the sample\n",
    "    X_train_resample = X_train.loc[inds_to_sample]\n",
    "    y_train_resample = y_train[inds_to_sample]\n",
    "\n",
    "    # fit the model\n",
    "    bootstrap_model = DecisionTreeClassifier(max_depth=5).fit(X_train_resample, y_train_resample)\n",
    "    y_train_pred = bootstrap_model.predict(X_train)\n",
    "    y_test_pred = bootstrap_model.predict(X_test)\n",
    "    train_column = np.column_stack((train_column, y_train_pred))\n",
    "    test_column = np.column_stack((test_column, y_test_pred))\n",
    "\n",
    "bagging_train = pd.DataFrame(train_column[:,1:], \n",
    "                             index=['training row {0}'.format(row_index) \n",
    "                                    for row_index in np.arange(1, X_train.shape[0]+1)],\n",
    "                             columns=['bootstrap model {0}\\'s prediction'.format(column_index) \n",
    "                                      for column_index in np.arange(1,26)])\n",
    "bagging_test = pd.DataFrame(test_column[:,1:], \n",
    "                            index=['test row {0}'.format(row_index) \n",
    "                                    for row_index in np.arange(1, X_test.shape[0]+1)],\n",
    "                            columns=['bootstrap model {0}\\'s prediction'.format(column_index) \n",
    "                                     for column_index in np.arange(1,26)])\n",
    "\n",
    "bagging_train.head()"
   ]
  },
  {
   "cell_type": "markdown",
   "metadata": {},
   "source": [
    "**2.2** _Aggregate_ all 25 _bootstrapped_ models to get a combined prediction for each training and test point: predict a 1 if and only if a majority of the 25 models predict that example to be from class 1. Verify that this bagging model scores either 67% or 68% accuracy on the test set."
   ]
  },
  {
   "cell_type": "code",
   "execution_count": 49,
   "metadata": {},
   "outputs": [
    {
     "name": "stdout",
     "output_type": "stream",
     "text": [
      "Bagging model prediction accuray on test set: 67.48%\n"
     ]
    }
   ],
   "source": [
    "# your code here\n",
    "train_predictions = np.mean(bagging_train, axis=1) >.5\n",
    "test_predictions = np.mean(bagging_test, axis=1) >.5\n",
    "\n",
    "accuracy = test_predictions==y_test\n",
    "print('Bagging model prediction accuray on test set: {0:2.4}%'.format(np.mean(accuracy)*100))"
   ]
  },
  {
   "cell_type": "markdown",
   "metadata": {},
   "source": [
    "**2.3** We want to know how the number of bootstraps affects our bagging ensemble's performance. Use the `running_predictions` function to get the model's accuracy score when using only 1,2,3,4,... of the bootstrapped models. Make a plot of training and test set accuracy as a function of number of bootstraps."
   ]
  },
  {
   "cell_type": "code",
   "execution_count": 50,
   "metadata": {
    "scrolled": true
   },
   "outputs": [
    {
     "data": {
      "text/plain": [
       "Text(0,0.5,'Accuracy')"
      ]
     },
     "execution_count": 50,
     "metadata": {},
     "output_type": "execute_result"
    },
    {
     "data": {
      "image/png": "[encoded data removed]",
      "text/plain": [
       "<Figure size 576x288 with 1 Axes>"
      ]
     },
     "metadata": {},
     "output_type": "display_data"
    }
   ],
   "source": [
    "# your code here\n",
    "train_vector = running_predictions(bagging_train.iloc[:, :25].values, y_train)\n",
    "test_vector = running_predictions(bagging_test.iloc[:, :25].values, y_test)\n",
    "\n",
    "fig, ax = plt.subplots(1,1, figsize=(8,4))\n",
    "\n",
    "ax.plot(np.arange(1,26), train_vector, label='Training Set Accuracy')\n",
    "ax.plot(np.arange(1,26), test_vector, label='Test Set Accuracy')\n",
    "\n",
    "ax.legend()\n",
    "ax.set_title('Training and test set accuracy as a function of number of bootstraps')\n",
    "ax.set_xlabel('No. of bootstraps')\n",
    "ax.set_ylabel('Accuracy')"
   ]
  },
  {
   "cell_type": "code",
   "execution_count": 51,
   "metadata": {},
   "outputs": [
    {
     "data": {
      "text/plain": [
       "array([0.6248, 0.6384, 0.6614, 0.665 , 0.67  , 0.6616, 0.664 , 0.67  ,\n",
       "       0.6668, 0.6706, 0.6652, 0.6706, 0.6676, 0.6662, 0.6678, 0.6702,\n",
       "       0.6686, 0.6692, 0.668 , 0.6704, 0.672 , 0.6728, 0.6746, 0.672 ,\n",
       "       0.6748])"
      ]
     },
     "execution_count": 51,
     "metadata": {},
     "output_type": "execute_result"
    }
   ],
   "source": [
    "test_vector"
   ]
  },
  {
   "cell_type": "markdown",
   "metadata": {},
   "source": [
    "**2.4** Analyze the graph from 2.3 and discuss the effect of adding more bootstrapped models to the ensemble. What number of trees would you use in a production model to be cost-effective?"
   ]
  },
  {
   "cell_type": "markdown",
   "metadata": {},
   "source": [
    "<HR>\n",
    "In general, as the number of bootstrap models increases, the prediction accuracy increases. <BR>\n",
    "\n",
    "It looks like the test set accuracy peaks at the 15th bootstrap so production model should not exceed this. The jump from 6 to 15 is only of 1% so depending on how important that 1% increase is, it might be more cost effective to limit to 6 as well.\n",
    "<HR>"
   ]
  },
  {
   "cell_type": "markdown",
   "metadata": {},
   "source": [
    "## Question 3 (6 pts): Random Forests\n",
    "Random Forests are closely related to the bagging model we built by hand in question 2. In this question we compare our by-hand results with the results of using `RandomForestClassifier` directly.\n",
    "\n",
    "<div class='exercise'> Question 3</div>\n",
    "**3.1** Fit a `RandomForestClassifier` to the original `X_train` data using 25 trees and a depth of 5. Comment on the model's test performance compared to the bagging model from Question 2.\n",
    "\n",
    "**3.2** There are two improvements Random Forests make to the pure bagging approach in Question 2. What are they, and how do they help the random forest model do better than the pure bagging model?\n",
    "\n",
    "**Hints**:\n",
    " - Random forests do not combine each tree's prediction via a majority vote. What do they use instead?"
   ]
  },
  {
   "cell_type": "markdown",
   "metadata": {},
   "source": [
    "## **Answers**:  \n",
    "**3.1** Fit a `RandomForestClassifier` to the original `X_train` data using 25 trees and a depth of 5. Comment on the model's test performance compared to the model from Question 2."
   ]
  },
  {
   "cell_type": "code",
   "execution_count": 52,
   "metadata": {},
   "outputs": [
    {
     "name": "stdout",
     "output_type": "stream",
     "text": [
      "The model's score: 0.6796\n"
     ]
    }
   ],
   "source": [
    "# your code here\n",
    "random_forest_score = RandomForestClassifier(n_estimators=25, max_depth=5).fit(X_train,y_train).score(X_test, y_test)\n",
    "print('The model\\'s score: {0}'.format(random_forest_score))"
   ]
  },
  {
   "cell_type": "markdown",
   "metadata": {},
   "source": [
    "<HR>\n",
    "The model's test performance is negligibly better than the model from Question 2 in this run.<BR>\n",
    "Depending on the run, it might even drop below.\n",
    "<HR>"
   ]
  },
  {
   "cell_type": "markdown",
   "metadata": {},
   "source": [
    "**3.2** There are two improvements Random Forests make to the pure bagging approach in Question 2. What are they, and how do they help the random forest model do better than the pure bagging model?"
   ]
  },
  {
   "cell_type": "markdown",
   "metadata": {},
   "source": [
    "<HR>\n",
    "Random Forests improve variance by reducing correlation between trees, this is accomplished by random selection of feature-subset for split at each node. While Bagging improves variance by averaging/majority selection of outcome from multiple fully grown trees on variants of training set. It uses Bootstrap with replacement to generate multiple training sets.\n",
    "    \n",
    "The averaging over trees can substantially reduce instability that might otherwise result. \n",
    "\n",
    "There are often a few predictors that dominate the decision tree fitting process because on the average they consistently perform just a bit better than their competitors. Consequently, many other predictors, which could be useful for very local features of the data, are rarely selected as splitting variables. With random forests computed for a large enough number of trees, each predictor will have at least several opportunities to be the predictor defining a split. In those opportunities, it will have very few competitors. Much of the time a dominant predictor will not be included. Therefore, local feature predictors will have the opportunity to define a split.\n",
    "<HR>"
   ]
  },
  {
   "cell_type": "markdown",
   "metadata": {},
   "source": [
    "## Question 4 (12 pts): Boosting\n",
    "In this question we explore a counterpart to bagging, where each new model is trained on a dataset weighted towards observations that the current set of models predicts incorrectly. \n",
    "\n",
    "We'll focus on the AdaBoost flavor of boosting and examine what happens to the ensemble model's accuracy over the algorithm's run.\n",
    "\n",
    "<div class='exercise'> Question 4</div>\n",
    "**4.1** Use `AdaBoostClassifier` to fit another ensemble to `X_train`. Use a decision tree of depth 3 as the base learner and a learning rate 0.05, and run the boosting for 400 iterations. Use the `staged_score` method to help make a plot of the effect of the number of estimators/iterations on the model's train and test accuracy.  \n",
    "\n",
    "**4.2** Repeat the plot above for a base learner with depth in (1,2,3,4). What trends do you see in the training and test accuracy?\n",
    "\n",
    "**4.3** Based on the plot from 4.2, what combination of base learner depth and number of iterations seems optimal? Why?\n",
    "\n",
    "**4.4** AdaBoost doesn't combine its sub-models via simple majority vote, or by averaging probabilities. What does it use instead, and why do you think that combination rule was chosen?"
   ]
  },
  {
   "cell_type": "markdown",
   "metadata": {},
   "source": [
    "**Answers**:  \n",
    "**4.1** Use `AdaBoostClassifier` to fit another ensemble to `X_train`. Use a decision tree of depth 3 as the base learner and a learning rate 0.05, and run the boosting for 400 iterations. Use the `staged_score` method to help make a plot of the effect of the number of estimators/iterations on the model's train and test accuracy."
   ]
  },
  {
   "cell_type": "code",
   "execution_count": 53,
   "metadata": {},
   "outputs": [],
   "source": [
    "# your code here\n",
    "ada_boost_classifier = AdaBoostClassifier(\n",
    "    DecisionTreeClassifier(max_depth=3),\n",
    "    n_estimators=400,\n",
    "    learning_rate=0.05)\n",
    "\n",
    "ada_boost_classifier.fit(X_train, y_train)\n",
    "\n",
    "staged_scores = ada_boost_classifier.staged_score(X_test, y_test)"
   ]
  },
  {
   "cell_type": "code",
   "execution_count": 54,
   "metadata": {},
   "outputs": [
    {
     "data": {
      "text/plain": [
       "Text(0,0.5,'Accuracy')"
      ]
     },
     "execution_count": 54,
     "metadata": {},
     "output_type": "execute_result"
    },
    {
     "data": {
      "image/png": "[encoded data removed]",
      "text/plain": [
       "<Figure size 1080x432 with 1 Axes>"
      ]
     },
     "metadata": {},
     "output_type": "display_data"
    }
   ],
   "source": [
    "estimators_num=len(ada_boost_classifier.estimators_)\n",
    "X=range(1,estimators_num+1)\n",
    "\n",
    "fig, ax = plt.subplots(1,1, figsize=(15,6))\n",
    "\n",
    "ax.plot(list(X),list(ada_boost_classifier.staged_score(X_train, y_train)),label=\"Training score\")\n",
    "ax.plot(list(X),list(ada_boost_classifier.staged_score(X_test, y_test)),label=\"Test score\")\n",
    "\n",
    "ax.legend()\n",
    "ax.set_title('Effect of the number of estimators/iterations on the model\\'s train and test accuracy.')\n",
    "ax.set_xlabel('No. of estimators/iterations')\n",
    "ax.set_ylabel('Accuracy')"
   ]
  },
  {
   "cell_type": "markdown",
   "metadata": {},
   "source": [
    "**4.2** Repeat the plot above for a base learner with depth in (1,2,3,4). What trends do you see in the training and test accuracy?"
   ]
  },
  {
   "cell_type": "code",
   "execution_count": 55,
   "metadata": {},
   "outputs": [
    {
     "data": {
      "text/plain": [
       "Text(0.5,0.98,\"Effect of the model's depth on train and test accuracy.\")"
      ]
     },
     "execution_count": 55,
     "metadata": {},
     "output_type": "execute_result"
    },
    {
     "data": {
      "image/png": "[encoded data removed]",
      "text/plain": [
       "<Figure size 864x1440 with 4 Axes>"
      ]
     },
     "metadata": {},
     "output_type": "display_data"
    }
   ],
   "source": [
    "# your code here\n",
    "fig, ax = plt.subplots(4,1, figsize=(12,20))\n",
    "\n",
    "for iter_depth in [1,2,3,4]:\n",
    "    ada_boost_classifier = AdaBoostClassifier(\n",
    "        DecisionTreeClassifier(max_depth=iter_depth),\n",
    "        n_estimators=400,\n",
    "        learning_rate=0.05)\n",
    "    ada_boost_classifier.fit(X_train, y_train)\n",
    "    staged_scores = ada_boost_classifier.staged_score(X_test, y_test)\n",
    "    estimators_num=len(ada_boost_classifier.estimators_)\n",
    "    X=range(1,estimators_num+1)\n",
    "    ax[iter_depth-1].plot(list(X),list(ada_boost_classifier.staged_score(X_train, y_train)),\n",
    "                          label=\"Depth {0} Training score\".format(iter_depth))\n",
    "    ax[iter_depth-1].plot(list(X),list(ada_boost_classifier.staged_score(X_test, y_test)),\n",
    "                          label=\"Depth {0} Test score\".format(iter_depth))\n",
    "    ax[iter_depth-1].legend()\n",
    "    ax[iter_depth-1].set_xlabel('No. of estimators/iterations')\n",
    "    ax[iter_depth-1].set_ylabel('Accuracy')\n",
    "    ax[iter_depth-1].set_ylim([0.6, 0.9])\n",
    "    ax[iter_depth-1].set_xticks([35, 40, 45], minor=True)\n",
    "    ax[iter_depth-1].grid(linestyle='-', linewidth=0.5, which='Minor')\n",
    "\n",
    "\n",
    "fig.suptitle('Effect of the model\\'s depth on train and test accuracy.')\n"
   ]
  },
  {
   "cell_type": "markdown",
   "metadata": {},
   "source": [
    "<HR>\n",
    "You can see that the accuracy peaks at just below 70%. As the depth increases, the accuracy reduces after hitting this peak with increase in number of iterations(except depth 1 but the peak is still the same). \n",
    "<HR>"
   ]
  },
  {
   "cell_type": "markdown",
   "metadata": {},
   "source": [
    "**4.3** Based on the plot from 4.2, what combination of base learner depth and number of iterations seems optimal? Why?\n"
   ]
  },
  {
   "cell_type": "markdown",
   "metadata": {},
   "source": [
    "<HR>\n",
    "Based on the plot from 4.2 and our obvservation of the trends, a combination of base learners depth 3 and 45 iterations seems optimal. We will get our highest accuracy with optimal efficiency here. \n",
    "<HR>"
   ]
  },
  {
   "cell_type": "markdown",
   "metadata": {},
   "source": [
    "**4.4** AdaBoost doesn't combine its sub-models via simple majority vote, or by averaging probabilities. What does it use instead, and why do you think that combination rule was chosen?"
   ]
  },
  {
   "cell_type": "markdown",
   "metadata": {},
   "source": [
    "<HR>\n",
    "Each model is weighted based on its skill and these weights are used when combining the predictions from all of the models on new data.\n",
    "    \n",
    "AdaBoost is adaptive in the sense that subsequent weak learners are tweaked in favor of those instances misclassified by previous classifiers. It was used because the individual learners can be weak, but as long as the performance of each one is slightly better than random guessing, the final model can be proven to converge to a strong learner.\n",
    "<HR>"
   ]
  },
  {
   "cell_type": "markdown",
   "metadata": {},
   "source": [
    "## Question 5 (18 pts): Ensembling\n",
    "In this question we take the running theme of combining model to its extreme. So far, we have been combining the predictions of relatively bad models; in this section we'll combine several strong models and achieve our best accuracy yet.\n",
    "\n",
    "We provide well-tuned models in the file `models.pkl`. The code below will read in this data for you. The model_dict object contains 5 tuned models, under the names \"Ada\", \"KNN\", \"Logit\", \"QDA\", and \"RF\".\n",
    "\n",
    "**5.1**: Report each of the 5 tuned models' score on the test set, so that you can compare to these scores later.\n",
    "\n",
    "**5.2**: Read in the fresh dataset `data/Higgs_tune.csv` Similar to 2.1, build `ensemble_tune` and `ensemble_test`, datasets containing each tuned model's prediction of P(this point belongs to class 1) for each of the tuning and test points.\n",
    "\n",
    "**5.3**: Build a meta-model trained on `ensemble_tune` and predicting the tuning set labels (e.g., a LogisticRegression or RandomForest). Which model does your meta-model consider most important, and how well does your meta-model perform on the test set?\n",
    "\n",
    "**5.4**: Augment the `ensemble_tune` and `ensemble_test` datasets with the columns from the original tuning and test data to form `augmented_tune` and `augmented_test`. Fit a decision tree model to this new tuning data (max depth 5, no mximum number of features).\n",
    "\n",
    "**5.5**: How well does the meta-tree do on the test set? Why does training a decision tree on the combination of original data and model predictions perform so well?\n",
    "\n",
    "**5.6**: Suggest one way to improve on the model above"
   ]
  },
  {
   "cell_type": "code",
   "execution_count": 56,
   "metadata": {},
   "outputs": [],
   "source": [
    "# will produce a warning under most versions of SKlearn, but it should be OK to ignore\n",
    "# if you get weird errors or the models all stink, let us know\n",
    "\n",
    "import pickle\n",
    "with open(\"data/models.pkl\", 'rb') as infile:\n",
    "    model_dict = pickle.load(infile)"
   ]
  },
  {
   "cell_type": "markdown",
   "metadata": {},
   "source": [
    "**Answers**:\n",
    "\n",
    "**5.1**: Report each model's score on the test set, so that you can compare to these scores later."
   ]
  },
  {
   "cell_type": "code",
   "execution_count": 57,
   "metadata": {},
   "outputs": [
    {
     "name": "stdout",
     "output_type": "stream",
     "text": [
      "Ada model's test score: 0.6756\n",
      "RF model's test score: 0.6748\n",
      "Logit model's test score: 0.6384\n",
      "QDA model's test score: 0.633\n",
      "KNN model's test score: 0.5774\n"
     ]
    }
   ],
   "source": [
    "# your code here\n",
    "for model_name, model in model_dict.items():\n",
    "    test_score = model.score(X_test, y_test)\n",
    "    print('{0} model\\'s test score: {1}'.format(model_name, test_score))"
   ]
  },
  {
   "cell_type": "markdown",
   "metadata": {},
   "source": [
    "**5.2**: Read in the fresh dataset `data/Higgs_tune.csv`.  Similar to 2.1, build `ensemble_tune` and `ensemble_test`, datasets containing each tuned model's prediction of P(this point belongs to class 1) for each of the tuning and test points."
   ]
  },
  {
   "cell_type": "code",
   "execution_count": 73,
   "metadata": {},
   "outputs": [
    {
     "data": {
      "text/html": [
       "<div>\n",
       "<style scoped>\n",
       "    .dataframe tbody tr th:only-of-type {\n",
       "        vertical-align: middle;\n",
       "    }\n",
       "\n",
       "    .dataframe tbody tr th {\n",
       "        vertical-align: top;\n",
       "    }\n",
       "\n",
       "    .dataframe thead th {\n",
       "        text-align: right;\n",
       "    }\n",
       "</style>\n",
       "<table border=\"1\" class=\"dataframe\">\n",
       "  <thead>\n",
       "    <tr style=\"text-align: right;\">\n",
       "      <th></th>\n",
       "      <th>lepton pT</th>\n",
       "      <th>lepton eta</th>\n",
       "      <th>lepton phi</th>\n",
       "      <th>missing energy magnitude</th>\n",
       "      <th>missing energy phi</th>\n",
       "      <th>jet 1 pt</th>\n",
       "      <th>jet 1 eta</th>\n",
       "      <th>jet 1 phi</th>\n",
       "      <th>jet 1 b-tag</th>\n",
       "      <th>jet 2 pt</th>\n",
       "      <th>jet 2 eta</th>\n",
       "      <th>jet 2 phi</th>\n",
       "      <th>jet 2 b-tag</th>\n",
       "      <th>jet 3 pt</th>\n",
       "      <th>jet 3 eta</th>\n",
       "      <th>jet 3 phi</th>\n",
       "      <th>jet 3 b-tag</th>\n",
       "      <th>jet 4 pt</th>\n",
       "      <th>jet 4 eta</th>\n",
       "      <th>jet 4 phi</th>\n",
       "      <th>jet 4 b-tag</th>\n",
       "      <th>m_jj</th>\n",
       "      <th>m_jjj</th>\n",
       "      <th>m_lv</th>\n",
       "      <th>m_jlv</th>\n",
       "      <th>m_bb</th>\n",
       "      <th>m_wbb</th>\n",
       "      <th>m_wwbb</th>\n",
       "    </tr>\n",
       "  </thead>\n",
       "  <tbody>\n",
       "    <tr>\n",
       "      <th>0</th>\n",
       "      <td>0.717</td>\n",
       "      <td>-0.450</td>\n",
       "      <td>-0.0435</td>\n",
       "      <td>0.975</td>\n",
       "      <td>1.430</td>\n",
       "      <td>0.845</td>\n",
       "      <td>0.264</td>\n",
       "      <td>1.500</td>\n",
       "      <td>0.00</td>\n",
       "      <td>0.679</td>\n",
       "      <td>0.342</td>\n",
       "      <td>-1.570</td>\n",
       "      <td>0.00</td>\n",
       "      <td>0.977</td>\n",
       "      <td>0.704</td>\n",
       "      <td>-0.0185</td>\n",
       "      <td>2.55</td>\n",
       "      <td>0.713</td>\n",
       "      <td>-1.1200</td>\n",
       "      <td>0.494</td>\n",
       "      <td>0.0</td>\n",
       "      <td>1.230</td>\n",
       "      <td>1.050</td>\n",
       "      <td>1.12</td>\n",
       "      <td>0.710</td>\n",
       "      <td>0.540</td>\n",
       "      <td>0.673</td>\n",
       "      <td>0.655</td>\n",
       "    </tr>\n",
       "    <tr>\n",
       "      <th>1</th>\n",
       "      <td>0.719</td>\n",
       "      <td>1.390</td>\n",
       "      <td>0.1020</td>\n",
       "      <td>1.140</td>\n",
       "      <td>1.240</td>\n",
       "      <td>0.758</td>\n",
       "      <td>2.740</td>\n",
       "      <td>-1.030</td>\n",
       "      <td>0.00</td>\n",
       "      <td>0.660</td>\n",
       "      <td>0.804</td>\n",
       "      <td>1.070</td>\n",
       "      <td>2.21</td>\n",
       "      <td>0.418</td>\n",
       "      <td>1.570</td>\n",
       "      <td>-0.2030</td>\n",
       "      <td>0.00</td>\n",
       "      <td>0.771</td>\n",
       "      <td>-0.7270</td>\n",
       "      <td>-0.456</td>\n",
       "      <td>3.1</td>\n",
       "      <td>0.879</td>\n",
       "      <td>1.230</td>\n",
       "      <td>1.07</td>\n",
       "      <td>1.080</td>\n",
       "      <td>0.882</td>\n",
       "      <td>1.210</td>\n",
       "      <td>1.010</td>\n",
       "    </tr>\n",
       "    <tr>\n",
       "      <th>2</th>\n",
       "      <td>2.320</td>\n",
       "      <td>0.074</td>\n",
       "      <td>-0.6260</td>\n",
       "      <td>0.909</td>\n",
       "      <td>-0.795</td>\n",
       "      <td>1.240</td>\n",
       "      <td>-0.418</td>\n",
       "      <td>1.200</td>\n",
       "      <td>0.00</td>\n",
       "      <td>0.463</td>\n",
       "      <td>-0.355</td>\n",
       "      <td>0.151</td>\n",
       "      <td>2.21</td>\n",
       "      <td>0.683</td>\n",
       "      <td>0.717</td>\n",
       "      <td>0.6810</td>\n",
       "      <td>2.55</td>\n",
       "      <td>0.431</td>\n",
       "      <td>0.0978</td>\n",
       "      <td>-1.690</td>\n",
       "      <td>0.0</td>\n",
       "      <td>0.640</td>\n",
       "      <td>0.768</td>\n",
       "      <td>1.01</td>\n",
       "      <td>0.945</td>\n",
       "      <td>0.456</td>\n",
       "      <td>0.695</td>\n",
       "      <td>0.905</td>\n",
       "    </tr>\n",
       "    <tr>\n",
       "      <th>3</th>\n",
       "      <td>0.626</td>\n",
       "      <td>-0.346</td>\n",
       "      <td>-1.5800</td>\n",
       "      <td>2.100</td>\n",
       "      <td>0.878</td>\n",
       "      <td>1.140</td>\n",
       "      <td>-0.341</td>\n",
       "      <td>-1.150</td>\n",
       "      <td>0.00</td>\n",
       "      <td>0.415</td>\n",
       "      <td>-0.549</td>\n",
       "      <td>-0.313</td>\n",
       "      <td>2.21</td>\n",
       "      <td>1.620</td>\n",
       "      <td>-0.330</td>\n",
       "      <td>0.2520</td>\n",
       "      <td>2.55</td>\n",
       "      <td>0.517</td>\n",
       "      <td>1.5800</td>\n",
       "      <td>-1.690</td>\n",
       "      <td>0.0</td>\n",
       "      <td>1.700</td>\n",
       "      <td>1.100</td>\n",
       "      <td>1.27</td>\n",
       "      <td>0.973</td>\n",
       "      <td>0.433</td>\n",
       "      <td>0.971</td>\n",
       "      <td>0.977</td>\n",
       "    </tr>\n",
       "    <tr>\n",
       "      <th>4</th>\n",
       "      <td>0.320</td>\n",
       "      <td>-1.100</td>\n",
       "      <td>-0.8350</td>\n",
       "      <td>2.770</td>\n",
       "      <td>1.210</td>\n",
       "      <td>1.280</td>\n",
       "      <td>0.453</td>\n",
       "      <td>-0.698</td>\n",
       "      <td>2.17</td>\n",
       "      <td>1.140</td>\n",
       "      <td>0.221</td>\n",
       "      <td>0.602</td>\n",
       "      <td>2.21</td>\n",
       "      <td>1.290</td>\n",
       "      <td>1.060</td>\n",
       "      <td>-1.0500</td>\n",
       "      <td>0.00</td>\n",
       "      <td>0.734</td>\n",
       "      <td>1.6100</td>\n",
       "      <td>0.331</td>\n",
       "      <td>0.0</td>\n",
       "      <td>1.100</td>\n",
       "      <td>1.120</td>\n",
       "      <td>1.26</td>\n",
       "      <td>1.330</td>\n",
       "      <td>1.650</td>\n",
       "      <td>1.570</td>\n",
       "      <td>1.550</td>\n",
       "    </tr>\n",
       "  </tbody>\n",
       "</table>\n",
       "</div>"
      ],
      "text/plain": [
       "   lepton pT  lepton eta  lepton phi  missing energy magnitude  missing energy phi  jet 1 pt  jet 1 eta  jet 1 phi  jet 1 b-tag  jet 2 pt  jet 2 eta  jet 2 phi  jet 2 b-tag  jet 3 pt  jet 3 eta  jet 3 phi  jet 3 b-tag  jet 4 pt  jet 4 eta  jet 4 phi  jet 4 b-tag   m_jj  m_jjj  m_lv  m_jlv   m_bb  m_wbb  m_wwbb\n",
       "0      0.717      -0.450     -0.0435                     0.975               1.430     0.845      0.264      1.500         0.00     0.679      0.342     -1.570         0.00     0.977      0.704    -0.0185         2.55     0.713    -1.1200      0.494          0.0  1.230  1.050  1.12  0.710  0.540  0.673   0.655\n",
       "1      0.719       1.390      0.1020                     1.140               1.240     0.758      2.740     -1.030         0.00     0.660      0.804      1.070         2.21     0.418      1.570    -0.2030         0.00     0.771    -0.7270     -0.456          3.1  0.879  1.230  1.07  1.080  0.882  1.210   1.010\n",
       "2      2.320       0.074     -0.6260                     0.909              -0.795     1.240     -0.418      1.200         0.00     0.463     -0.355      0.151         2.21     0.683      0.717     0.6810         2.55     0.431     0.0978     -1.690          0.0  0.640  0.768  1.01  0.945  0.456  0.695   0.905\n",
       "3      0.626      -0.346     -1.5800                     2.100               0.878     1.140     -0.341     -1.150         0.00     0.415     -0.549     -0.313         2.21     1.620     -0.330     0.2520         2.55     0.517     1.5800     -1.690          0.0  1.700  1.100  1.27  0.973  0.433  0.971   0.977\n",
       "4      0.320      -1.100     -0.8350                     2.770               1.210     1.280      0.453     -0.698         2.17     1.140      0.221      0.602         2.21     1.290      1.060    -1.0500         0.00     0.734     1.6100      0.331          0.0  1.100  1.120  1.26  1.330  1.650  1.570   1.550"
      ]
     },
     "execution_count": 73,
     "metadata": {},
     "output_type": "execute_result"
    }
   ],
   "source": [
    "# your code here\n",
    "data_tune = pd.read_csv('data/Higgs_tune.csv')\n",
    "X_tune = data_tune.iloc[:, data_tune.columns != 'class']\n",
    "y_tune = data_tune['class'].values\n",
    "X_tune.head()"
   ]
  },
  {
   "cell_type": "code",
   "execution_count": 66,
   "metadata": {},
   "outputs": [],
   "source": [
    "tune_column = np.zeros(X_tune.shape[0])\n",
    "test_column = np.zeros(X_test.shape[0])\n",
    "\n",
    "for model_name, model in model_dict.items():\n",
    "    y_tune_pred = model.predict_proba(X_tune)[:,1]\n",
    "    y_test_pred = model.predict_proba(X_test)[:,1]\n",
    "    tune_column = np.column_stack((tune_column, y_tune_pred))\n",
    "    test_column = np.column_stack((test_column, y_test_pred))\n",
    "\n",
    "ensemble_tune = pd.DataFrame(tune_column[:,1:], \n",
    "                             index=['tuning row {0}'.format(row_index) \n",
    "                                    for row_index in np.arange(1, X_tune.shape[0]+1)],\n",
    "                             columns=['{0} model\\'s prediction'.format(column_index) \n",
    "                                      for column_index in model_dict.keys()])\n",
    "ensemble_test = pd.DataFrame(test_column[:,1:], \n",
    "                            index=['test row {0}'.format(row_index) \n",
    "                                    for row_index in np.arange(1, X_test.shape[0]+1)],\n",
    "                            columns=['bootstrap model {0}\\'s prediction'.format(column_index) \n",
    "                                     for column_index in model_dict.keys()])"
   ]
  },
  {
   "cell_type": "code",
   "execution_count": 67,
   "metadata": {},
   "outputs": [
    {
     "data": {
      "text/html": [
       "<div>\n",
       "<style scoped>\n",
       "    .dataframe tbody tr th:only-of-type {\n",
       "        vertical-align: middle;\n",
       "    }\n",
       "\n",
       "    .dataframe tbody tr th {\n",
       "        vertical-align: top;\n",
       "    }\n",
       "\n",
       "    .dataframe thead th {\n",
       "        text-align: right;\n",
       "    }\n",
       "</style>\n",
       "<table border=\"1\" class=\"dataframe\">\n",
       "  <thead>\n",
       "    <tr style=\"text-align: right;\">\n",
       "      <th></th>\n",
       "      <th>Ada model's prediction</th>\n",
       "      <th>RF model's prediction</th>\n",
       "      <th>Logit model's prediction</th>\n",
       "      <th>QDA model's prediction</th>\n",
       "      <th>KNN model's prediction</th>\n",
       "    </tr>\n",
       "  </thead>\n",
       "  <tbody>\n",
       "    <tr>\n",
       "      <th>tuning row 1</th>\n",
       "      <td>0.476499</td>\n",
       "      <td>0.497049</td>\n",
       "      <td>0.713247</td>\n",
       "      <td>0.867147</td>\n",
       "      <td>0.60</td>\n",
       "    </tr>\n",
       "    <tr>\n",
       "      <th>tuning row 2</th>\n",
       "      <td>0.548898</td>\n",
       "      <td>0.549102</td>\n",
       "      <td>0.629934</td>\n",
       "      <td>0.766266</td>\n",
       "      <td>0.50</td>\n",
       "    </tr>\n",
       "    <tr>\n",
       "      <th>tuning row 3</th>\n",
       "      <td>0.455639</td>\n",
       "      <td>0.418363</td>\n",
       "      <td>0.437730</td>\n",
       "      <td>0.174581</td>\n",
       "      <td>0.70</td>\n",
       "    </tr>\n",
       "    <tr>\n",
       "      <th>tuning row 4</th>\n",
       "      <td>0.489579</td>\n",
       "      <td>0.451090</td>\n",
       "      <td>0.759375</td>\n",
       "      <td>0.759620</td>\n",
       "      <td>0.64</td>\n",
       "    </tr>\n",
       "    <tr>\n",
       "      <th>tuning row 5</th>\n",
       "      <td>0.465777</td>\n",
       "      <td>0.355656</td>\n",
       "      <td>0.202824</td>\n",
       "      <td>0.005958</td>\n",
       "      <td>0.50</td>\n",
       "    </tr>\n",
       "  </tbody>\n",
       "</table>\n",
       "</div>"
      ],
      "text/plain": [
       "              Ada model's prediction  RF model's prediction  Logit model's prediction  QDA model's prediction  KNN model's prediction\n",
       "tuning row 1                0.476499               0.497049                  0.713247                0.867147                    0.60\n",
       "tuning row 2                0.548898               0.549102                  0.629934                0.766266                    0.50\n",
       "tuning row 3                0.455639               0.418363                  0.437730                0.174581                    0.70\n",
       "tuning row 4                0.489579               0.451090                  0.759375                0.759620                    0.64\n",
       "tuning row 5                0.465777               0.355656                  0.202824                0.005958                    0.50"
      ]
     },
     "execution_count": 67,
     "metadata": {},
     "output_type": "execute_result"
    }
   ],
   "source": [
    "ensemble_tune.head()"
   ]
  },
  {
   "cell_type": "markdown",
   "metadata": {},
   "source": [
    "**5.3**: Build a meta-model trained on `ensemble_tune` and predicting the tuning set labels (e.g., a LogisticRegression or RandomForest). Which model does your meta-model consider most important, and how well does your meta-model perform on the test set?"
   ]
  },
  {
   "cell_type": "code",
   "execution_count": 80,
   "metadata": {},
   "outputs": [
    {
     "name": "stdout",
     "output_type": "stream",
     "text": [
      "Weights of individual models in meta-model: [0.23810084 0.26199545 0.19069818 0.21059679 0.09860875]\n",
      "Test accuracy (Classify by RandomForest on individual predictions):  0.7904\n"
     ]
    }
   ],
   "source": [
    "# your code here\n",
    "\n",
    "fitted_tree = RandomForestClassifier().fit(ensemble_tune, y_tune)\n",
    "\n",
    "print(\"Weights of individual models in meta-model: {}\".format(fitted_tree.feature_importances_))\n",
    "print(\"Test accuracy (Classify by RandomForest on individual predictions): \", fitted_tree.score(ensemble_test, y_test))"
   ]
  },
  {
   "cell_type": "markdown",
   "metadata": {},
   "source": [
    "<HR>\n",
    "The meta-model considers the Random Forest model the most important with 26.2% weight.\n",
    "\n",
    "Test accuracy (Classify by RandomForest on individual predictions): 79.04%\n",
    "<HR>"
   ]
  },
  {
   "cell_type": "markdown",
   "metadata": {},
   "source": [
    "**5.4**: Augment the `ensemble_tune` and `ensemble_test` datasets with the columns from the original tuning and test data to form `augmented_tune` and `augmented_test`. Fit a decision tree model to this new tuning data (max depth 5, no mximum number of features)."
   ]
  },
  {
   "cell_type": "code",
   "execution_count": 76,
   "metadata": {},
   "outputs": [],
   "source": [
    "# your code here\n",
    "augmented_tune = pd.DataFrame(np.column_stack((ensemble_tune, X_tune)),\n",
    "                             index=ensemble_tune.index,\n",
    "                             columns=np.append(ensemble_tune.columns, X_tune.columns))\n",
    "augmented_test = pd.DataFrame(np.column_stack((ensemble_test, X_test)),\n",
    "                             index=ensemble_test.index,\n",
    "                             columns=np.append(ensemble_test.columns, X_test.columns))\n",
    "\n",
    "aug_model = DecisionTreeClassifier(max_depth=5).fit(augmented_tune, y_tune)"
   ]
  },
  {
   "cell_type": "code",
   "execution_count": 77,
   "metadata": {},
   "outputs": [
    {
     "data": {
      "text/html": [
       "<div>\n",
       "<style scoped>\n",
       "    .dataframe tbody tr th:only-of-type {\n",
       "        vertical-align: middle;\n",
       "    }\n",
       "\n",
       "    .dataframe tbody tr th {\n",
       "        vertical-align: top;\n",
       "    }\n",
       "\n",
       "    .dataframe thead th {\n",
       "        text-align: right;\n",
       "    }\n",
       "</style>\n",
       "<table border=\"1\" class=\"dataframe\">\n",
       "  <thead>\n",
       "    <tr style=\"text-align: right;\">\n",
       "      <th></th>\n",
       "      <th>Ada model's prediction</th>\n",
       "      <th>RF model's prediction</th>\n",
       "      <th>Logit model's prediction</th>\n",
       "      <th>QDA model's prediction</th>\n",
       "      <th>KNN model's prediction</th>\n",
       "      <th>lepton pT</th>\n",
       "      <th>lepton eta</th>\n",
       "      <th>lepton phi</th>\n",
       "      <th>missing energy magnitude</th>\n",
       "      <th>missing energy phi</th>\n",
       "      <th>jet 1 pt</th>\n",
       "      <th>jet 1 eta</th>\n",
       "      <th>jet 1 phi</th>\n",
       "      <th>jet 1 b-tag</th>\n",
       "      <th>jet 2 pt</th>\n",
       "      <th>jet 2 eta</th>\n",
       "      <th>jet 2 phi</th>\n",
       "      <th>jet 2 b-tag</th>\n",
       "      <th>jet 3 pt</th>\n",
       "      <th>jet 3 eta</th>\n",
       "      <th>jet 3 phi</th>\n",
       "      <th>jet 3 b-tag</th>\n",
       "      <th>jet 4 pt</th>\n",
       "      <th>jet 4 eta</th>\n",
       "      <th>jet 4 phi</th>\n",
       "      <th>jet 4 b-tag</th>\n",
       "      <th>m_jj</th>\n",
       "      <th>m_jjj</th>\n",
       "      <th>m_lv</th>\n",
       "      <th>m_jlv</th>\n",
       "      <th>m_bb</th>\n",
       "      <th>m_wbb</th>\n",
       "      <th>m_wwbb</th>\n",
       "    </tr>\n",
       "  </thead>\n",
       "  <tbody>\n",
       "    <tr>\n",
       "      <th>tuning row 1</th>\n",
       "      <td>0.476499</td>\n",
       "      <td>0.497049</td>\n",
       "      <td>0.713247</td>\n",
       "      <td>0.867147</td>\n",
       "      <td>0.60</td>\n",
       "      <td>0.717</td>\n",
       "      <td>-0.450</td>\n",
       "      <td>-0.0435</td>\n",
       "      <td>0.975</td>\n",
       "      <td>1.430</td>\n",
       "      <td>0.845</td>\n",
       "      <td>0.264</td>\n",
       "      <td>1.500</td>\n",
       "      <td>0.00</td>\n",
       "      <td>0.679</td>\n",
       "      <td>0.342</td>\n",
       "      <td>-1.570</td>\n",
       "      <td>0.00</td>\n",
       "      <td>0.977</td>\n",
       "      <td>0.704</td>\n",
       "      <td>-0.0185</td>\n",
       "      <td>2.55</td>\n",
       "      <td>0.713</td>\n",
       "      <td>-1.1200</td>\n",
       "      <td>0.494</td>\n",
       "      <td>0.0</td>\n",
       "      <td>1.230</td>\n",
       "      <td>1.050</td>\n",
       "      <td>1.12</td>\n",
       "      <td>0.710</td>\n",
       "      <td>0.540</td>\n",
       "      <td>0.673</td>\n",
       "      <td>0.655</td>\n",
       "    </tr>\n",
       "    <tr>\n",
       "      <th>tuning row 2</th>\n",
       "      <td>0.548898</td>\n",
       "      <td>0.549102</td>\n",
       "      <td>0.629934</td>\n",
       "      <td>0.766266</td>\n",
       "      <td>0.50</td>\n",
       "      <td>0.719</td>\n",
       "      <td>1.390</td>\n",
       "      <td>0.1020</td>\n",
       "      <td>1.140</td>\n",
       "      <td>1.240</td>\n",
       "      <td>0.758</td>\n",
       "      <td>2.740</td>\n",
       "      <td>-1.030</td>\n",
       "      <td>0.00</td>\n",
       "      <td>0.660</td>\n",
       "      <td>0.804</td>\n",
       "      <td>1.070</td>\n",
       "      <td>2.21</td>\n",
       "      <td>0.418</td>\n",
       "      <td>1.570</td>\n",
       "      <td>-0.2030</td>\n",
       "      <td>0.00</td>\n",
       "      <td>0.771</td>\n",
       "      <td>-0.7270</td>\n",
       "      <td>-0.456</td>\n",
       "      <td>3.1</td>\n",
       "      <td>0.879</td>\n",
       "      <td>1.230</td>\n",
       "      <td>1.07</td>\n",
       "      <td>1.080</td>\n",
       "      <td>0.882</td>\n",
       "      <td>1.210</td>\n",
       "      <td>1.010</td>\n",
       "    </tr>\n",
       "    <tr>\n",
       "      <th>tuning row 3</th>\n",
       "      <td>0.455639</td>\n",
       "      <td>0.418363</td>\n",
       "      <td>0.437730</td>\n",
       "      <td>0.174581</td>\n",
       "      <td>0.70</td>\n",
       "      <td>2.320</td>\n",
       "      <td>0.074</td>\n",
       "      <td>-0.6260</td>\n",
       "      <td>0.909</td>\n",
       "      <td>-0.795</td>\n",
       "      <td>1.240</td>\n",
       "      <td>-0.418</td>\n",
       "      <td>1.200</td>\n",
       "      <td>0.00</td>\n",
       "      <td>0.463</td>\n",
       "      <td>-0.355</td>\n",
       "      <td>0.151</td>\n",
       "      <td>2.21</td>\n",
       "      <td>0.683</td>\n",
       "      <td>0.717</td>\n",
       "      <td>0.6810</td>\n",
       "      <td>2.55</td>\n",
       "      <td>0.431</td>\n",
       "      <td>0.0978</td>\n",
       "      <td>-1.690</td>\n",
       "      <td>0.0</td>\n",
       "      <td>0.640</td>\n",
       "      <td>0.768</td>\n",
       "      <td>1.01</td>\n",
       "      <td>0.945</td>\n",
       "      <td>0.456</td>\n",
       "      <td>0.695</td>\n",
       "      <td>0.905</td>\n",
       "    </tr>\n",
       "    <tr>\n",
       "      <th>tuning row 4</th>\n",
       "      <td>0.489579</td>\n",
       "      <td>0.451090</td>\n",
       "      <td>0.759375</td>\n",
       "      <td>0.759620</td>\n",
       "      <td>0.64</td>\n",
       "      <td>0.626</td>\n",
       "      <td>-0.346</td>\n",
       "      <td>-1.5800</td>\n",
       "      <td>2.100</td>\n",
       "      <td>0.878</td>\n",
       "      <td>1.140</td>\n",
       "      <td>-0.341</td>\n",
       "      <td>-1.150</td>\n",
       "      <td>0.00</td>\n",
       "      <td>0.415</td>\n",
       "      <td>-0.549</td>\n",
       "      <td>-0.313</td>\n",
       "      <td>2.21</td>\n",
       "      <td>1.620</td>\n",
       "      <td>-0.330</td>\n",
       "      <td>0.2520</td>\n",
       "      <td>2.55</td>\n",
       "      <td>0.517</td>\n",
       "      <td>1.5800</td>\n",
       "      <td>-1.690</td>\n",
       "      <td>0.0</td>\n",
       "      <td>1.700</td>\n",
       "      <td>1.100</td>\n",
       "      <td>1.27</td>\n",
       "      <td>0.973</td>\n",
       "      <td>0.433</td>\n",
       "      <td>0.971</td>\n",
       "      <td>0.977</td>\n",
       "    </tr>\n",
       "    <tr>\n",
       "      <th>tuning row 5</th>\n",
       "      <td>0.465777</td>\n",
       "      <td>0.355656</td>\n",
       "      <td>0.202824</td>\n",
       "      <td>0.005958</td>\n",
       "      <td>0.50</td>\n",
       "      <td>0.320</td>\n",
       "      <td>-1.100</td>\n",
       "      <td>-0.8350</td>\n",
       "      <td>2.770</td>\n",
       "      <td>1.210</td>\n",
       "      <td>1.280</td>\n",
       "      <td>0.453</td>\n",
       "      <td>-0.698</td>\n",
       "      <td>2.17</td>\n",
       "      <td>1.140</td>\n",
       "      <td>0.221</td>\n",
       "      <td>0.602</td>\n",
       "      <td>2.21</td>\n",
       "      <td>1.290</td>\n",
       "      <td>1.060</td>\n",
       "      <td>-1.0500</td>\n",
       "      <td>0.00</td>\n",
       "      <td>0.734</td>\n",
       "      <td>1.6100</td>\n",
       "      <td>0.331</td>\n",
       "      <td>0.0</td>\n",
       "      <td>1.100</td>\n",
       "      <td>1.120</td>\n",
       "      <td>1.26</td>\n",
       "      <td>1.330</td>\n",
       "      <td>1.650</td>\n",
       "      <td>1.570</td>\n",
       "      <td>1.550</td>\n",
       "    </tr>\n",
       "  </tbody>\n",
       "</table>\n",
       "</div>"
      ],
      "text/plain": [
       "              Ada model's prediction  RF model's prediction  Logit model's prediction  QDA model's prediction  KNN model's prediction  lepton pT  lepton eta  lepton phi  missing energy magnitude  missing energy phi  jet 1 pt  jet 1 eta  jet 1 phi  jet 1 b-tag  jet 2 pt  jet 2 eta  jet 2 phi  jet 2 b-tag  jet 3 pt  jet 3 eta  jet 3 phi  jet 3 b-tag  jet 4 pt  jet 4 eta  jet 4 phi  jet 4 b-tag   m_jj  m_jjj  m_lv  m_jlv   m_bb  m_wbb  m_wwbb\n",
       "tuning row 1                0.476499               0.497049                  0.713247                0.867147                    0.60      0.717      -0.450     -0.0435                     0.975               1.430     0.845      0.264      1.500         0.00     0.679      0.342     -1.570         0.00     0.977      0.704    -0.0185         2.55     0.713    -1.1200      0.494          0.0  1.230  1.050  1.12  0.710  0.540  0.673   0.655\n",
       "tuning row 2                0.548898               0.549102                  0.629934                0.766266                    0.50      0.719       1.390      0.1020                     1.140               1.240     0.758      2.740     -1.030         0.00     0.660      0.804      1.070         2.21     0.418      1.570    -0.2030         0.00     0.771    -0.7270     -0.456          3.1  0.879  1.230  1.07  1.080  0.882  1.210   1.010\n",
       "tuning row 3                0.455639               0.418363                  0.437730                0.174581                    0.70      2.320       0.074     -0.6260                     0.909              -0.795     1.240     -0.418      1.200         0.00     0.463     -0.355      0.151         2.21     0.683      0.717     0.6810         2.55     0.431     0.0978     -1.690          0.0  0.640  0.768  1.01  0.945  0.456  0.695   0.905\n",
       "tuning row 4                0.489579               0.451090                  0.759375                0.759620                    0.64      0.626      -0.346     -1.5800                     2.100               0.878     1.140     -0.341     -1.150         0.00     0.415     -0.549     -0.313         2.21     1.620     -0.330     0.2520         2.55     0.517     1.5800     -1.690          0.0  1.700  1.100  1.27  0.973  0.433  0.971   0.977\n",
       "tuning row 5                0.465777               0.355656                  0.202824                0.005958                    0.50      0.320      -1.100     -0.8350                     2.770               1.210     1.280      0.453     -0.698         2.17     1.140      0.221      0.602         2.21     1.290      1.060    -1.0500         0.00     0.734     1.6100      0.331          0.0  1.100  1.120  1.26  1.330  1.650  1.570   1.550"
      ]
     },
     "execution_count": 77,
     "metadata": {},
     "output_type": "execute_result"
    }
   ],
   "source": [
    "augmented_tune.head()"
   ]
  },
  {
   "cell_type": "markdown",
   "metadata": {},
   "source": [
    "**5.5**: How well does the meta-tree do on the test set? Why does training a decision tree on the combination of original data and model predictions perform so well?"
   ]
  },
  {
   "cell_type": "code",
   "execution_count": 78,
   "metadata": {},
   "outputs": [
    {
     "name": "stdout",
     "output_type": "stream",
     "text": [
      "Model's classification accuracy on the test set: 70.32%\n"
     ]
    }
   ],
   "source": [
    "# your code here\n",
    "accuracy = aug_model.score(augmented_test, y_test)\n",
    "print('Model\\'s classification accuracy on the test set: {0:2.4}%'.format(accuracy*100))"
   ]
  },
  {
   "cell_type": "markdown",
   "metadata": {},
   "source": [
    "----\n",
    "Your answer here\n",
    "\n",
    "----"
   ]
  },
  {
   "cell_type": "markdown",
   "metadata": {},
   "source": [
    "**5.6**: Suggest one way to improve on the model above"
   ]
  },
  {
   "cell_type": "code",
   "execution_count": 26,
   "metadata": {},
   "outputs": [],
   "source": [
    "# your code here (optional)"
   ]
  },
  {
   "cell_type": "markdown",
   "metadata": {},
   "source": [
    "<HR>\n",
    "One way to improve could be adding quadratic terms of the initial features.\n",
    "<HR>"
   ]
  },
  {
   "cell_type": "markdown",
   "metadata": {},
   "source": [
    "## Question 6 (12 pts): Understanding\n",
    "This question is an overall test of your knowledge of this homework's material. You may need to refer to lecture notes and other material outside this homework to answer these questions.\n",
    "\n",
    "<div class='exercise'> Question 6</div>\n",
    "**6.1** How do ensembling, boosting, and bagging all relate: what is common to all three, and what is unique to each of them?\n",
    "\n",
    "**6.2** Which technique, boosting or bagging, is better suited to parallelization, where you could have multiple computers working on a problem at the same time?\n",
    "\n",
    "**6.3** What is the impact of having too many trees/iterations in boosting and in bagging? In which instance is it worse to overshoot?\n",
    "\n",
    "**6.4** Suppose you have 10,000 training observations and have selected (non-polynomial) linear regression as your base model. Which technique will help your model more, boosting or bagging? How does your choice (and boosting/bagging in general) tie to overfitting versus underfitting?"
   ]
  },
  {
   "cell_type": "markdown",
   "metadata": {},
   "source": [
    "**Answers**:  \n",
    "**6.1** How do ensembling, boosting, and bagging all relate: what is common to all three, and what is unique to each of them?"
   ]
  },
  {
   "cell_type": "markdown",
   "metadata": {},
   "source": [
    "<HR>\n",
    "Bagging and Boosting are similar in that they are both ensemble techniques, where a set of weak learners are combined to create a strong learner that obtains better performance than a single one. \n",
    "    \n",
    "Bagging and Boosting get N learners by generating additional data in the training stage. N new training data sets are produced by random sampling with replacement from the original set. By sampling with replacement some observations may be repeated in each new training data set.\n",
    "\n",
    "In the case of Bagging, any element has the same probability to appear in a new data set. However, for Boosting the observations are weighted and therefore some of them will take part in the new sets more often.\n",
    "\n",
    "In Bagging the result is obtained by averaging the responses of the N learners (or majority vote). However, Boosting assigns a second set of weights, this time for the N classifiers, in order to take a weighted average of their estimates.\n",
    "\n",
    "If the problem is that the single model gets a very low performance, Bagging will rarely get a better bias. However, Boosting could generate a combined model with lower errors as it optimises the advantages and reduces pitfalls of the single model. By contrast, if the difficulty of the single model is over-fitting, then Bagging is the best option. Boosting for its part doesn’t help to avoid over-fitting; in fact, this technique is faced with this problem itself.\n",
    "<HR>"
   ]
  },
  {
   "cell_type": "markdown",
   "metadata": {},
   "source": [
    "**6.2** Which technique, boosting or bagging, is better suited to parallelization, where you could have multiple computers working on a problem at the same time?"
   ]
  },
  {
   "cell_type": "markdown",
   "metadata": {},
   "source": [
    "<HR>\n",
    "While the training stage is parallel for Bagging (i.e., each model is built independently), Boosting builds the new learner in a sequential way.\n",
    "<HR>"
   ]
  },
  {
   "cell_type": "markdown",
   "metadata": {},
   "source": [
    "**6.3** What is the impact of having too many trees/iterations in boosting and in bagging? In which instance is it worse to overshoot?"
   ]
  },
  {
   "cell_type": "markdown",
   "metadata": {},
   "source": [
    "<HR>\n",
    "In bagging, as the number of iterations increases, the accuracy increases till it reaches a peak and then plateaus off. As the number of boosting iterations increases, it generates a decision surface with greater margin. New examples are classified with greater confidence and accuracy. On the other hand, the instances for which the probability of error of individual models is high, are wrongly classified with greater confidence. \n",
    "    \n",
    "Thus, it is worse to overshoot in case of boosting.\n",
    "<HR>"
   ]
  },
  {
   "cell_type": "markdown",
   "metadata": {},
   "source": [
    "**6.4** Suppose you have 10,000 training examples and have selected (non-polynomial) linear regression as your base model. Which technique will help your model more, boosting or bagging? How does your choice (and boosting/bagging general) tie to overfitting versus underfitting?\n"
   ]
  },
  {
   "cell_type": "markdown",
   "metadata": {},
   "source": [
    "<HR>\n",
    "Boosting is useful for large training sample sizes, while bagging is useful for critical training sample sizes.\n",
    "\n",
    "Bagging is usually a good way to avoid overfitting but Linear Regression is not very prone to overfitting so you are probably not going to win much. \n",
    "\n",
    "Computations cost for bagging with be high for a dataset of this size.\n",
    "\n",
    "Boosting will help more. \n",
    "<HR>"
   ]
  },
  {
   "cell_type": "markdown",
   "metadata": {},
   "source": [
    "<hr style='height:2pt'>\n",
    "## Question 7 (26 points): Neural Networks\n",
    "Neural networks are, of course, a large and complex topic that cannot be covered in a single homework. Here we'll focus on the key idea of NNs: they are able to learn a mapping from example input data (of fixed size) to example output data (of fixed size). We'll also partially explore what patterns the neural network learns and how well they generalize.\n",
    "\n",
    "In this question we'll see if Neural Networks can learn a (limited) version of the Fourier Transform. (The Fourier Transform takes in values from some function and returns a set of sine and cosine functions which, when added together, approximate the original function.)\n",
    "\n",
    "In our specific problem, we'll try to teach a network to map from  a function's 1000 sample y-values to the four features of the sine and cosine waves that make up that function. Thus, the network is attempting to learn a mapping from a 1000-entry vector down to a 4-entry vector. Our X_train dataset is thus N by 1000 and our y_train is N by 4. \n",
    "\n",
    "We'll use 6 data files in this question:\n",
    "- `sinewaves_X_train.npy` and `sinewaves_y_train.npy`: a (10,000 by 1,000) and (10,000 by 4) training dataset. Examples were generated by randomly selecting a,b,c,d in the interval [0,1] and building the curve $a\\sin(b\\,x) + c\\cos(d\\,x)$\n",
    "- `sinewaves_X_test.npy` and `sinewaves_y_test.npy`: a (2,000 by 1,000) and (2,000 by 4) test dataset, generated in the same way as the training data\n",
    "- `sinewaves_X_extended_test` and `sinewaves_y_extended_test`: a (9 by 1,000) and (9 by 4) test dataset, testing whether the network can generalize beyond the training data (e.g. to negative values of $a$)\n",
    "\n",
    "**These datasets are read in to their respective variables for you.**"
   ]
  },
  {
   "cell_type": "markdown",
   "metadata": {},
   "source": [
    "<div class='exercise'> Question 7</div>\n",
    "**7.1** Plot the first row of the `X_train` training data and visually verify that it is a sinusoidal curve\n",
    "\n",
    "**7.2** The first row of the `y_train` data is $[0.024, 0.533, 0.018, 0.558]$. Visually or numerically verify that the first row of X_train is 1000 equally-spaced samples in $[0,10\\pi]$ from the function $f(x) = 0.24\\sin(0.533\\,x) + 0.018\\cos(0.558\\,x)$. This pattern (y_train is the true parameters of the curve in X_train) will always hold.\n",
    "\n",
    "**7.3** Use `Sequential` and `Dense` from Keras to build a fully-connected neural network. You can choose any number of layers and any number of nodes in each layer. \n",
    "\n",
    "**7.4** Compile your model via the line `model.compile(loss='mean_absolute_error', optimizer='adam')` and display the `.summary()`. Explain why the first layer in your network has the indicated number of parameters.\n",
    "\n",
    "**7.5** Fit your model to the data for 50 epochs using a batch size of 32 and a validation split of 0.2. You can train for longer if you wish- the fit tends to improve over time.\n",
    "\n",
    "**7.6** Use the `plot_predictions` function to plot the model's predictions on `X_test` to the true values in `y_test` (by default, it will only plot the first few rows). Report the model's overall loss on the test set. Comment on how well the model performs on this unseen data. Do you think it has accurately learned how to map from sample data to the coefficients that generated the data?\n",
    "\n",
    "**7.7** Examine the model's performance on the 9 train/test pairs in the `extended_test` variables. Which examples does the model do well on, and which examples does it struggle with?\n",
    "\n",
    "**7.8** Is there something that stands out about the difficult examples, especially with respect to the data the model was trained on? Did the model learn the mapping we had in mind? Would you say the model is overfit, underfit, or neither?\n",
    "\n",
    "**Hint**:\n",
    "- Keras's documentation and examples of a Sequential model are a good place to start.\n",
    "- A strong model can achieve validation error of around 0.03 on this data and 0.02 is very good."
   ]
  },
  {
   "cell_type": "code",
   "execution_count": 97,
   "metadata": {},
   "outputs": [],
   "source": [
    "def plot_predictions(model, test_x, test_y, count=None):\n",
    "    # Model - a Keras or SKlearn model that takes in (n,1000) training data and predicts (n,4) output data\n",
    "    # test_x - a (n,1000) input dataset\n",
    "    # test_y - a (n,4) output dataset\n",
    "    # This function will plot the sine curves in the training data and those implied by the model's predictions.\n",
    "    # It will also print the predicted and actual output values.\n",
    "    \n",
    "    #helper function that takes the n by 4 output and reverse-engineers \n",
    "    #the sine curves that output would create\n",
    "    def y2x(y_data):\n",
    "        #extract parameters\n",
    "        a=y_data[:,0].reshape(-1,1)\n",
    "        b=y_data[:,1].reshape(-1,1)\n",
    "        c=y_data[:,2].reshape(-1,1)\n",
    "        d=y_data[:,3].reshape(-1,1)\n",
    "\n",
    "        #build the matching training data\n",
    "        x_points = np.linspace(0,10*np.pi,1000)\n",
    "        x_data = a*np.sin(np.outer(b,x_points)) + c*np.cos(np.outer(d,x_points))\n",
    "        return x_data\n",
    "    \n",
    "    #if <20 examples, plot all. If more, just plot 5\n",
    "    if count==None:\n",
    "        if test_x.shape[0]>20:\n",
    "            count=5\n",
    "        else:\n",
    "            count=test_x.shape[0]\n",
    "    \n",
    "    #build predictions\n",
    "    predicted = model.predict(test_x)\n",
    "    implied_x = y2x(predicted)\n",
    "    for i in range(count):\n",
    "        plt.plot(test_x[i,:],label='true')\n",
    "        plt.plot(implied_x[i,:],label='predicted')\n",
    "        plt.legend()\n",
    "        plt.ylim(-2.1,2.1)\n",
    "        plt.xlabel(\"x value\")\n",
    "        plt.xlabel(\"y value\")\n",
    "        plt.title(\"Curves using the Neural Network's Approximate Fourier Transform\")\n",
    "        plt.show()\n",
    "        print(\"true:\", test_y[i,:])\n",
    "        print(\"predicted:\", predicted[i,:])\n",
    "    \n",
    "    "
   ]
  },
  {
   "cell_type": "code",
   "execution_count": 98,
   "metadata": {},
   "outputs": [],
   "source": [
    "X_train = np.load('data/sinewaves_X_train.npy')\n",
    "y_train = np.load('data/sinewaves_y_train.npy')\n",
    "\n",
    "X_test = np.load('data/sinewaves_X_test.npy')\n",
    "y_test = np.load('data/sinewaves_y_test.npy')\n",
    "\n",
    "X_extended_test = np.load('data/sinewaves_X_extended_test.npy')\n",
    "y_extended_test = np.load('data/sinewaves_y_extended_test.npy')"
   ]
  },
  {
   "cell_type": "markdown",
   "metadata": {},
   "source": [
    "**Answers**:  \n",
    "**7.1** Plot the first row of the `X_train` training data and visually verify that it is a sinusoidal curve"
   ]
  },
  {
   "cell_type": "code",
   "execution_count": 110,
   "metadata": {},
   "outputs": [
    {
     "data": {
      "text/plain": [
       "Text(0,0.5,'Value')"
      ]
     },
     "execution_count": 110,
     "metadata": {},
     "output_type": "execute_result"
    },
    {
     "data": {
      "image/png": "[encoded data removed]",
      "text/plain": [
       "<Figure size 576x288 with 1 Axes>"
      ]
     },
     "metadata": {},
     "output_type": "display_data"
    }
   ],
   "source": [
    "# your code here\n",
    "fig, ax = plt.subplots(1,1, figsize=(8,4))\n",
    "\n",
    "ax.plot(np.arange(1000), X_train[0,:], label='Column values')\n",
    "ax.legend()\n",
    "ax.set_title('First row of X_train')\n",
    "ax.set_xlabel('Column')\n",
    "ax.set_ylabel('Value')"
   ]
  },
  {
   "cell_type": "markdown",
   "metadata": {},
   "source": [
    "**7.2** The first row of the `y_train` data is $[0.024, 0.533, 0.018, 0.558]$. Visually or numerically verify that the first row of X_train is 1000 equally-spaced points in $[0,10\\pi]$ from the function $f(x) = 0.24\\sin(0.533\\,x) + 0.018\\cos(0.558\\,x)$..."
   ]
  },
  {
   "cell_type": "code",
   "execution_count": 129,
   "metadata": {
    "scrolled": true
   },
   "outputs": [
    {
     "data": {
      "text/plain": [
       "Text(0,0.5,'Value')"
      ]
     },
     "execution_count": 129,
     "metadata": {},
     "output_type": "execute_result"
    },
    {
     "data": {
      "image/png": "[encoded data removed]",
      "text/plain": [
       "<Figure size 576x288 with 1 Axes>"
      ]
     },
     "metadata": {},
     "output_type": "display_data"
    }
   ],
   "source": [
    "# your code here\n",
    "from math import pi, sin, cos\n",
    "\n",
    "calculated_values = []\n",
    "for x in np.arange(start=0, stop=10*pi, step=10*pi/1000):\n",
    "    y = 0.24*sin(0.533*x)+0.018*cos(0.558*x)\n",
    "    calculated_values = np.append(calculated_values, y)        \n",
    "\n",
    "fig, ax = plt.subplots(1,1, figsize=(8,4))\n",
    "ax.plot(np.arange(1000), calculated_values, label='Calculated values - Formula')\n",
    "ax.plot(np.arange(1000), X_train[0,:], label='Expected values - X_train')\n",
    "ax.legend()\n",
    "ax.set_title('First row of X_train')\n",
    "ax.set_xlabel('Column')\n",
    "ax.set_ylabel('Value')"
   ]
  },
  {
   "cell_type": "markdown",
   "metadata": {},
   "source": [
    "**7.3** Use `Sequential` and `Dense` from Keras to build a fully-connected neural network. You can choose any number of layers and any number of nodes in each layer. "
   ]
  },
  {
   "cell_type": "code",
   "execution_count": 31,
   "metadata": {},
   "outputs": [],
   "source": [
    "# your code here"
   ]
  },
  {
   "cell_type": "markdown",
   "metadata": {},
   "source": [
    "**7.4** Compile your model via the line `model.compile(loss='mean_absolute_error', optimizer='adam')` and display the `.summary()`. Explain why the first layer in your network has the indicated number of parameters."
   ]
  },
  {
   "cell_type": "code",
   "execution_count": 32,
   "metadata": {},
   "outputs": [],
   "source": [
    "# your code here"
   ]
  },
  {
   "cell_type": "markdown",
   "metadata": {},
   "source": [
    "----\n",
    "Your answer here\n",
    "\n",
    "----"
   ]
  },
  {
   "cell_type": "markdown",
   "metadata": {},
   "source": [
    "**7.5** Fit your model to the data for 50 epochs using a batch size of 32 and a validation split of .2. You can train for longer if you wish- the fit tends to improve over time."
   ]
  },
  {
   "cell_type": "code",
   "execution_count": 33,
   "metadata": {
    "scrolled": true
   },
   "outputs": [],
   "source": [
    "# your code here"
   ]
  },
  {
   "cell_type": "markdown",
   "metadata": {},
   "source": [
    "**7.6** Use the `plot_predictions` function to plot the model's predictions on `X-test` to the true values in `y_test` (by default, it will only plot the first few rows). Report the model's overall loss on the test set. Comment on how well the model performs on this unseen data. Do you think it has accurately learned how to map from sample data to the coefecients that generated the data?"
   ]
  },
  {
   "cell_type": "code",
   "execution_count": 34,
   "metadata": {},
   "outputs": [],
   "source": [
    "# your code here"
   ]
  },
  {
   "cell_type": "markdown",
   "metadata": {},
   "source": [
    "----\n",
    "Your answer here\n",
    "\n",
    "----"
   ]
  },
  {
   "cell_type": "markdown",
   "metadata": {},
   "source": [
    "**7.7** Examine the model's performance on the 9 train/test pairs in the `extended_test` variables. Which examples does the model do well on, and which examples does it struggle with?"
   ]
  },
  {
   "cell_type": "code",
   "execution_count": 35,
   "metadata": {
    "scrolled": false
   },
   "outputs": [],
   "source": [
    "# your code here"
   ]
  },
  {
   "cell_type": "markdown",
   "metadata": {},
   "source": [
    "----\n",
    "Your answer here\n",
    "\n",
    "----"
   ]
  },
  {
   "cell_type": "markdown",
   "metadata": {},
   "source": [
    "**7.8** Is there something that stands out about the difficult observations, especially with respect to the data the model was trained on? Did the model learn the mapping we had in mind? Would you say the model is overfit, underfit, or neither?"
   ]
  },
  {
   "cell_type": "markdown",
   "metadata": {},
   "source": [
    "----\n",
    "Your answer here\n",
    "\n",
    "----"
   ]
  },
  {
   "cell_type": "code",
   "execution_count": null,
   "metadata": {},
   "outputs": [],
   "source": []
  }
 ],
 "metadata": {
  "anaconda-cloud": {},
  "kernelspec": {
   "display_name": "Python 3",
   "language": "python",
   "name": "python3"
  },
  "language_info": {
   "codemirror_mode": {
    "name": "ipython",
    "version": 3
   },
   "file_extension": ".py",
   "mimetype": "text/x-python",
   "name": "python",
   "nbconvert_exporter": "python",
   "pygments_lexer": "ipython3",
   "version": "3.6.5"
  },
  "latex_envs": {
   "bibliofile": "biblio.bib",
   "cite_by": "apalike",
   "current_citInitial": 1,
   "eqLabelWithNumbers": true,
   "eqNumInitial": 0
  }
 },
 "nbformat": 4,
 "nbformat_minor": 1
}
